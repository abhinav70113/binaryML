{
 "cells": [
  {
   "cell_type": "code",
   "execution_count": 1,
   "metadata": {},
   "outputs": [
    {
     "name": "stderr",
     "output_type": "stream",
     "text": [
      "2023-06-13 19:51:48.323984: I tensorflow/stream_executor/platform/default/dso_loader.cc:49] Successfully opened dynamic library libcudart.so.10.1\n"
     ]
    }
   ],
   "source": [
    "import glob, sys\n",
    "import numpy as np\n",
    "import pandas as pd\n",
    "from sklearn.model_selection import train_test_split\n",
    "import tensorflow as tf\n",
    "import matplotlib.pyplot as plt\n",
    "import re\n",
    "import glob\n",
    "from tensorflow.keras import backend as K\n",
    "import tensorflow_probability as tfp\n",
    "from sklearn.metrics import accuracy_score\n",
    "fft_size = 16777216\n",
    "time_res = 64e-6 # in seconds\n",
    "T_obs = (fft_size*time_res)/60 # in minutes is equal to 17.895 minutes\n",
    "freq_axis = np.fft.rfftfreq(fft_size, d=64e-6)\n",
    "freq_res = 1/(T_obs*60)"
   ]
  },
  {
   "cell_type": "code",
   "execution_count": 2,
   "metadata": {},
   "outputs": [],
   "source": [
    "cur_dir = ''\n",
    "run = 'runBB'\n",
    "X_train = np.load(cur_dir + f'raw_data/{run}/train_data_classifier.npy').astype(np.float64)\n",
    "X_test = np.load(cur_dir + f'raw_data/{run}/test_data_classifier.npy').astype(np.float64)\n",
    "X_val = np.load(cur_dir + f'raw_data/{run}/val_data_classifier.npy').astype(np.float64)\n",
    "X_train = X_train/np.max(X_train,axis=1)[:,None]\n",
    "X_test = X_test/np.max(X_test,axis=1)[:,None]\n",
    "X_val = X_val/np.max(X_val,axis=1)[:,None]\n",
    "\n",
    "Y_train = np.load(cur_dir + f'raw_data/{run}/train_labels_classifier.npy').astype(np.float64)\n",
    "Y_test = np.load(cur_dir + f'raw_data/{run}/test_labels_classifier.npy').astype(np.float64)\n",
    "Y_val = np.load(cur_dir + f'raw_data/{run}/val_labels_classifier.npy').astype(np.float64)\n",
    "\n",
    "\n",
    "X_train = X_train.reshape(X_train.shape[0], X_train.shape[1], 1)\n",
    "X_test = X_test.reshape(X_test.shape[0], X_test.shape[1], 1)\n",
    "X_val = X_val.reshape(X_val.shape[0], X_val.shape[1], 1) \n",
    "\n",
    "Y_train = (Y_train.reshape(Y_train.shape[0],1))\n",
    "Y_val = (Y_val.reshape(Y_val.shape[0],1))\n",
    "Y_test = (Y_test.reshape(Y_test.shape[0],1))"
   ]
  },
  {
   "cell_type": "code",
   "execution_count": 3,
   "metadata": {},
   "outputs": [],
   "source": [
    "test_indices = np.load(cur_dir + f'raw_data/{run}/test_indices.npy')\n",
    "labels_df = pd.read_csv(cur_dir + f'meta_data/labels_{run}.csv')"
   ]
  },
  {
   "cell_type": "code",
   "execution_count": 4,
   "metadata": {},
   "outputs": [],
   "source": [
    "def period_accuracy(y_true, y_pred):\n",
    "    # Ensure the predictions are the same shape as the true values\n",
    "    assert y_true.shape == y_pred.shape\n",
    "    return accuracy_score(y_true, y_pred)"
   ]
  },
  {
   "cell_type": "code",
   "execution_count": 5,
   "metadata": {},
   "outputs": [
    {
     "name": "stderr",
     "output_type": "stream",
     "text": [
      "2023-06-13 19:52:09.151847: I tensorflow/compiler/jit/xla_cpu_device.cc:41] Not creating XLA devices, tf_xla_enable_xla_devices not set\n",
      "2023-06-13 19:52:09.153180: I tensorflow/stream_executor/platform/default/dso_loader.cc:49] Successfully opened dynamic library libcuda.so.1\n",
      "2023-06-13 19:52:09.735269: E tensorflow/stream_executor/cuda/cuda_driver.cc:328] failed call to cuInit: CUDA_ERROR_NO_DEVICE: no CUDA-capable device is detected\n",
      "2023-06-13 19:52:09.735366: I tensorflow/stream_executor/cuda/cuda_diagnostics.cc:156] kernel driver does not appear to be running on this host (hercules12): /proc/driver/nvidia/version does not exist\n",
      "2023-06-13 19:52:09.737044: I tensorflow/core/platform/cpu_feature_guard.cc:142] This TensorFlow binary is optimized with oneAPI Deep Neural Network Library (oneDNN) to use the following CPU instructions in performance-critical operations:  SSE4.1 SSE4.2 AVX AVX2 AVX512F FMA\n",
      "To enable them in other operations, rebuild TensorFlow with the appropriate compiler flags.\n",
      "2023-06-13 19:52:09.739174: I tensorflow/compiler/jit/xla_gpu_device.cc:99] Not creating XLA devices, tf_xla_enable_xla_devices not set\n"
     ]
    }
   ],
   "source": [
    "# Load the best model after training\n",
    "best_model = tf.keras.models.load_model(\"models/chunk_classify_cnn_1214123_checkpoint.h5\")"
   ]
  },
  {
   "cell_type": "code",
   "execution_count": 6,
   "metadata": {},
   "outputs": [
    {
     "name": "stderr",
     "output_type": "stream",
     "text": [
      "2023-06-13 19:52:11.025542: I tensorflow/compiler/mlir/mlir_graph_optimization_pass.cc:116] None of the MLIR optimization passes are enabled (registered 2)\n",
      "2023-06-13 19:52:11.026054: I tensorflow/core/platform/profile_utils/cpu_utils.cc:112] CPU Frequency: 2400000000 Hz\n"
     ]
    }
   ],
   "source": [
    "Y_pred = best_model.predict(X_test)"
   ]
  },
  {
   "cell_type": "code",
   "execution_count": 7,
   "metadata": {},
   "outputs": [
    {
     "data": {
      "text/plain": [
       "(1600, 4)"
      ]
     },
     "execution_count": 7,
     "metadata": {},
     "output_type": "execute_result"
    }
   ],
   "source": [
    "Y_pred.shape"
   ]
  },
  {
   "cell_type": "code",
   "execution_count": 8,
   "metadata": {},
   "outputs": [],
   "source": [
    "Y_pred2 = np.argmax(Y_pred, axis=-1)"
   ]
  },
  {
   "cell_type": "code",
   "execution_count": 9,
   "metadata": {},
   "outputs": [],
   "source": [
    "Y_pred2 = Y_pred2.reshape(Y_pred.shape[0],1)"
   ]
  },
  {
   "cell_type": "code",
   "execution_count": 10,
   "metadata": {},
   "outputs": [
    {
     "name": "stdout",
     "output_type": "stream",
     "text": [
      "Period accuracy:  0.99125\n"
     ]
    }
   ],
   "source": [
    "accuracy = period_accuracy(Y_test, Y_pred2)\n",
    "print(\"Period accuracy: \", accuracy)"
   ]
  },
  {
   "cell_type": "code",
   "execution_count": 34,
   "metadata": {},
   "outputs": [],
   "source": [
    "max_dev_list = np.where(np.abs(Y_pred2.astype(int) - Y_test.astype(int)) == 1)[0]"
   ]
  },
  {
   "cell_type": "code",
   "execution_count": 45,
   "metadata": {},
   "outputs": [
    {
     "name": "stdout",
     "output_type": "stream",
     "text": [
      "126 [2] [1.]\n",
      "[0.         0.00006591 0.9999341  0.        ]\n",
      "189 [2] [1.]\n",
      "[0.         0.15106156 0.84893847 0.        ]\n",
      "447 [1] [2.]\n",
      "[0.         0.5816197  0.41838035 0.        ]\n",
      "725 [2] [1.]\n",
      "[0.00000021 0.00548399 0.9945111  0.00000466]\n",
      "841 [1] [2.]\n",
      "[0.         0.60104233 0.39895764 0.        ]\n",
      "1362 [2] [1.]\n",
      "[0.00000001 0.3454114  0.6545886  0.00000001]\n"
     ]
    }
   ],
   "source": [
    "#suppress float\n",
    "np.set_printoptions(suppress=True)\n",
    "\n",
    "for i in max_dev_list:\n",
    "    print(i,Y_pred2[i], Y_test[i])\n",
    "    print(Y_pred[i])"
   ]
  },
  {
   "cell_type": "code",
   "execution_count": 51,
   "metadata": {},
   "outputs": [
    {
     "data": {
      "text/plain": [
       "[<matplotlib.lines.Line2D at 0x2b0b60ec0280>]"
      ]
     },
     "execution_count": 51,
     "metadata": {},
     "output_type": "execute_result"
    },
    {
     "data": {
      "image/png": "[encoded data removed]",
      "text/plain": [
       "<Figure size 640x480 with 1 Axes>"
      ]
     },
     "metadata": {},
     "output_type": "display_data"
    }
   ],
   "source": [
    "plt.plot(X_test[1362])"
   ]
  },
  {
   "cell_type": "code",
   "execution_count": 44,
   "metadata": {},
   "outputs": [
    {
     "data": {
      "text/plain": [
       "1.0"
      ]
     },
     "execution_count": 44,
     "metadata": {},
     "output_type": "execute_result"
    }
   ],
   "source": [
    "np.sum(Y_pred[7])"
   ]
  },
  {
   "cell_type": "code",
   "execution_count": 28,
   "metadata": {},
   "outputs": [
    {
     "data": {
      "text/plain": [
       "array([1.])"
      ]
     },
     "execution_count": 28,
     "metadata": {},
     "output_type": "execute_result"
    }
   ],
   "source": [
    "Y_test[139]"
   ]
  },
  {
   "cell_type": "code",
   "execution_count": 24,
   "metadata": {},
   "outputs": [
    {
     "data": {
      "text/plain": [
       "array([[1, 1, 1, 1, 1, 1, 1, 1],\n",
       "       [0, 0, 0, 0, 0, 0, 0, 0]])"
      ]
     },
     "execution_count": 24,
     "metadata": {},
     "output_type": "execute_result"
    }
   ],
   "source": [
    "Y_test[np.where(np.abs(Y_pred2.astype(int) - Y_test.astype(int)) == 2),0].astype(int)"
   ]
  },
  {
   "cell_type": "code",
   "execution_count": 11,
   "metadata": {},
   "outputs": [
    {
     "data": {
      "text/plain": [
       "array([[0],\n",
       "       [1],\n",
       "       [0],\n",
       "       ...,\n",
       "       [1],\n",
       "       [3],\n",
       "       [3]])"
      ]
     },
     "execution_count": 11,
     "metadata": {},
     "output_type": "execute_result"
    }
   ],
   "source": [
    "Y_pred2"
   ]
  },
  {
   "cell_type": "code",
   "execution_count": null,
   "metadata": {},
   "outputs": [],
   "source": []
  }
 ],
 "metadata": {
  "kernelspec": {
   "display_name": "tf-gpu4",
   "language": "python",
   "name": "python3"
  },
  "language_info": {
   "codemirror_mode": {
    "name": "ipython",
    "version": 3
   },
   "file_extension": ".py",
   "mimetype": "text/x-python",
   "name": "python",
   "nbconvert_exporter": "python",
   "pygments_lexer": "ipython3",
   "version": "3.8.0"
  },
  "orig_nbformat": 4
 },
 "nbformat": 4,
 "nbformat_minor": 2
}
