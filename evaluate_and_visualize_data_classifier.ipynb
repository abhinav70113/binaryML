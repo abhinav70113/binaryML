{
 "cells": [
  {
   "cell_type": "code",
   "execution_count": 1,
   "metadata": {},
   "outputs": [
    {
     "name": "stderr",
     "output_type": "stream",
     "text": [
      "2023-06-08 18:36:22.707455: I tensorflow/stream_executor/platform/default/dso_loader.cc:49] Successfully opened dynamic library libcudart.so.10.1\n"
     ]
    }
   ],
   "source": [
    "import glob, sys\n",
    "import numpy as np\n",
    "import pandas as pd\n",
    "from sklearn.model_selection import train_test_split\n",
    "import tensorflow as tf\n",
    "import matplotlib.pyplot as plt\n",
    "import re\n",
    "import glob\n",
    "from tensorflow.keras import backend as K\n",
    "import tensorflow_probability as tfp\n",
    "from sklearn.metrics import accuracy_score\n",
    "fft_size = 16777216\n",
    "time_res = 64e-6 # in seconds\n",
    "T_obs = (fft_size*time_res)/60 # in minutes is equal to 17.895 minutes\n",
    "freq_axis = np.fft.rfftfreq(fft_size, d=64e-6)\n",
    "freq_res = 1/(T_obs*60)"
   ]
  },
  {
   "cell_type": "code",
   "execution_count": 3,
   "metadata": {},
   "outputs": [],
   "source": [
    "cur_dir = ''\n",
    "run = 'runBB'\n",
    "X_train = np.load(cur_dir + f'raw_data/{run}/train_data_classifier.npy').astype(np.float64)\n",
    "X_test = np.load(cur_dir + f'raw_data/{run}/test_data_classifier.npy').astype(np.float64)\n",
    "X_val = np.load(cur_dir + f'raw_data/{run}/val_data_classifier.npy').astype(np.float64)\n",
    "X_train = X_train/np.max(X_train,axis=1)[:,None]\n",
    "X_test = X_test/np.max(X_test,axis=1)[:,None]\n",
    "X_val = X_val/np.max(X_val,axis=1)[:,None]\n",
    "\n",
    "Y_train = np.load(cur_dir + f'raw_data/{run}/train_labels_classifier.npy').astype(np.float64)\n",
    "Y_test = np.load(cur_dir + f'raw_data/{run}/test_labels_classifier.npy').astype(np.float64)\n",
    "Y_val = np.load(cur_dir + f'raw_data/{run}/val_labels_classifier.npy').astype(np.float64)\n",
    "\n",
    "\n",
    "X_train = X_train.reshape(X_train.shape[0], X_train.shape[1], 1)\n",
    "X_test = X_test.reshape(X_test.shape[0], X_test.shape[1], 1)\n",
    "X_val = X_val.reshape(X_val.shape[0], X_val.shape[1], 1) \n",
    "\n",
    "Y_train = (Y_train.reshape(Y_train.shape[0],1))\n",
    "Y_val = (Y_val.reshape(Y_val.shape[0],1))\n",
    "Y_test = (Y_test.reshape(Y_test.shape[0],1))"
   ]
  },
  {
   "cell_type": "code",
   "execution_count": 4,
   "metadata": {},
   "outputs": [],
   "source": [
    "test_indices = np.load(cur_dir + f'raw_data/{run}/test_indices.npy')\n",
    "labels_df = pd.read_csv(cur_dir + f'meta_data/labels_{run}.csv')"
   ]
  },
  {
   "cell_type": "code",
   "execution_count": 12,
   "metadata": {},
   "outputs": [],
   "source": [
    "def period_accuracy(y_true, y_pred):\n",
    "    # Ensure the predictions are the same shape as the true values\n",
    "    assert y_true.shape == y_pred.shape\n",
    "    return accuracy_score(y_true, y_pred)"
   ]
  },
  {
   "cell_type": "code",
   "execution_count": 9,
   "metadata": {},
   "outputs": [],
   "source": [
    "# Load the best model after training\n",
    "best_model = tf.keras.models.load_model(\"models/chunk_classify_cnn_1112973_checkpoint.h5\")"
   ]
  },
  {
   "cell_type": "code",
   "execution_count": 10,
   "metadata": {},
   "outputs": [
    {
     "name": "stderr",
     "output_type": "stream",
     "text": [
      "2023-06-07 14:40:54.894882: I tensorflow/compiler/mlir/mlir_graph_optimization_pass.cc:116] None of the MLIR optimization passes are enabled (registered 2)\n",
      "2023-06-07 14:40:54.895782: I tensorflow/core/platform/profile_utils/cpu_utils.cc:112] CPU Frequency: 2400000000 Hz\n"
     ]
    }
   ],
   "source": [
    "Y_pred = best_model.predict(X_test)"
   ]
  },
  {
   "cell_type": "code",
   "execution_count": 14,
   "metadata": {},
   "outputs": [
    {
     "data": {
      "text/plain": [
       "(800, 2)"
      ]
     },
     "execution_count": 14,
     "metadata": {},
     "output_type": "execute_result"
    }
   ],
   "source": [
    "Y_pred.shape"
   ]
  },
  {
   "cell_type": "code",
   "execution_count": 16,
   "metadata": {},
   "outputs": [],
   "source": [
    "Y_pred = np.argmax(Y_pred, axis=-1)"
   ]
  },
  {
   "cell_type": "code",
   "execution_count": 22,
   "metadata": {},
   "outputs": [],
   "source": [
    "Y_pred = Y_pred.reshape(Y_pred.shape[0],1)"
   ]
  },
  {
   "cell_type": "code",
   "execution_count": 23,
   "metadata": {},
   "outputs": [
    {
     "name": "stdout",
     "output_type": "stream",
     "text": [
      "Period accuracy:  1.0\n"
     ]
    }
   ],
   "source": [
    "accuracy = period_accuracy(Y_test, Y_pred)\n",
    "print(\"Period accuracy: \", accuracy)"
   ]
  }
 ],
 "metadata": {
  "kernelspec": {
   "display_name": "tf-gpu4",
   "language": "python",
   "name": "python3"
  },
  "language_info": {
   "codemirror_mode": {
    "name": "ipython",
    "version": 3
   },
   "file_extension": ".py",
   "mimetype": "text/x-python",
   "name": "python",
   "nbconvert_exporter": "python",
   "pygments_lexer": "ipython3",
   "version": "3.8.0"
  },
  "orig_nbformat": 4
 },
 "nbformat": 4,
 "nbformat_minor": 2
}
