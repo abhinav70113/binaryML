{
 "cells": [
  {
   "cell_type": "code",
   "execution_count": 1,
   "metadata": {},
   "outputs": [
    {
     "name": "stderr",
     "output_type": "stream",
     "text": [
      "2023-07-27 12:40:24.884346: I tensorflow/stream_executor/platform/default/dso_loader.cc:49] Successfully opened dynamic library libcudart.so.10.1\n"
     ]
    }
   ],
   "source": [
    "import glob, sys\n",
    "import numpy as np\n",
    "import pandas as pd\n",
    "from sklearn.model_selection import train_test_split\n",
    "import tensorflow as tf\n",
    "import matplotlib.pyplot as plt\n",
    "import re\n",
    "import glob\n",
    "from tensorflow.keras import backend as K\n",
    "import tensorflow_probability as tfp\n",
    "import ast\n",
    "fft_size = 16777216\n",
    "time_res = 64e-6 # in seconds\n",
    "T_obs = (fft_size*time_res)/60 # in minutes is equal to 17.895 minutes\n",
    "freq_axis = np.fft.rfftfreq(fft_size, d=64e-6)\n",
    "freq_res = 1/(T_obs*60)\n",
    "\n",
    "def find_indices(small_list, big_list):\n",
    "    indices = []\n",
    "\n",
    "    for item in small_list:\n",
    "        if item in big_list:\n",
    "            index = np.where(big_list == item)[0]\n",
    "            indices.append(index[0])\n",
    "\n",
    "    return indices\n"
   ]
  },
  {
   "cell_type": "code",
   "execution_count": 2,
   "metadata": {},
   "outputs": [],
   "source": [
    "cur_dir = ''\n",
    "root_dir = ''\n",
    "run = 'runBC'\n",
    "X_train = np.load(cur_dir + f'raw_data/{run}/train_data_chunk.npy').astype(np.float64)\n",
    "X_test = np.load(cur_dir + f'raw_data/{run}/test_data_chunk.npy').astype(np.float64)\n",
    "X_val = np.load(cur_dir + f'raw_data/{run}/val_data_chunk.npy').astype(np.float64)\n",
    "X_train = X_train/np.max(X_train,axis=1)[:,None]\n",
    "X_test = X_test/np.max(X_test,axis=1)[:,None]\n",
    "X_val = X_val/np.max(X_val,axis=1)[:,None]\n",
    "\n",
    "Y_train = np.load(cur_dir + f'raw_data/{run}/train_labels_chunk.npy').astype(np.float64)\n",
    "Y_test = np.load(cur_dir + f'raw_data/{run}/test_labels_chunk.npy').astype(np.float64)\n",
    "Y_val = np.load(cur_dir + f'raw_data/{run}/val_labels_chunk.npy').astype(np.float64)\n",
    "\n",
    "\n",
    "# z_val = Y_val[:,1].copy()\n",
    "# Y_val[:,0] = Y_val[:,0] - z_val\n",
    "# Y_val[:,1] = Y_val[:,0] + z_val\n",
    "# Y_val = np.sort(Y_val,axis=1)\n",
    "\n",
    "# z_test = Y_test[:,1].copy()\n",
    "# Y_test[:,0] = Y_test[:,0] - z_test\n",
    "# Y_test[:,1] = Y_test[:,0] + z_test\n",
    "# Y_test = np.sort(Y_test,axis=1)\n",
    "\n",
    "# z_train = Y_train[:,1].copy()\n",
    "# Y_train[:,0] = Y_train[:,0] - z_train\n",
    "# Y_train[:,1] = Y_train[:,0] + z_train\n",
    "# Y_train = np.sort(Y_train,axis=1)\n",
    "\n",
    "Y_train[:,0] = np.abs(Y_train[:,0])\n",
    "Y_test[:,0] = np.abs(Y_test[:,0])\n",
    "Y_val[:,0] = np.abs(Y_val[:,0])\n",
    "\n",
    "Y_train[:,1] = 2*np.abs(Y_train[:,1])\n",
    "Y_test[:,1] = 2*np.abs(Y_test[:,1])\n",
    "Y_val[:,1] = 2*np.abs(Y_val[:,1])\n",
    "\n",
    "# Y_train = 2*np.abs(Y_train[:,1])\n",
    "# Y_test = 2*np.abs(Y_test[:,1])\n",
    "# Y_val = 2*np.abs(Y_val[:,1])\n",
    "\n",
    "# # Y_train = Y_train/400\n",
    "# # Y_test = Y_test/400\n",
    "# # Y_val = Y_val/400\n",
    "\n",
    "X_train = X_train.reshape(X_train.shape[0], X_train.shape[1], 1)\n",
    "X_test = X_test.reshape(X_test.shape[0], X_test.shape[1], 1)\n",
    "X_val = X_val.reshape(X_val.shape[0], X_val.shape[1], 1) \n",
    "\n",
    "Y_train = (Y_train.reshape(Y_train.shape[0],Y_train.shape[1], 1))\n",
    "Y_val = (Y_val.reshape(Y_val.shape[0],Y_val.shape[1], 1))\n",
    "Y_test = (Y_test.reshape(Y_test.shape[0],Y_test.shape[1], 1))\n",
    "\n",
    "# Y_train = (Y_train.reshape(Y_train.shape[0],1))\n",
    "# Y_val = (Y_val.reshape(Y_val.shape[0],1))\n",
    "# Y_test = (Y_test.reshape(Y_test.shape[0],1))\n",
    "\n",
    "train_indices = np.load(root_dir + f'raw_data/{run}/train_indices.npy')\n",
    "test_indices = np.load(root_dir + f'raw_data/{run}/test_indices.npy')\n",
    "val_indices = np.load(root_dir + f'raw_data/{run}/val_indices.npy')\n"
   ]
  },
  {
   "cell_type": "code",
   "execution_count": 3,
   "metadata": {},
   "outputs": [],
   "source": [
    "snr_group = 1\n",
    "\n",
    "if snr_group != -1:\n",
    "\n",
    "    labels_df = pd.read_csv(root_dir + f'meta_data/labels_{run}.csv')\n",
    "    #snr_range = labels_df['snr'].values\n",
    "    snr_range = labels_df['z'].values\n",
    "    #snr_bins = np.array([0.005 , 0.068, 0.126, 0.184, 0.242, 0.3  ])\n",
    "    #snr_bins = np.array([0 , 5, 30])\n",
    "    #snr_bins = np.array([0.005  , 0.00625, 0.0075 , 0.00875, 0.01   ])\n",
    "    #snr_bins = np.array([ 0.        , 16.66666667, 33.33333333, 50.        ])\n",
    "    snr_bins = np.array([-100,0,100])\n",
    "    #snr_bins = np.array([ 0.        ,  5.55555556, 11.11111111, 16.66666667, 22.22222222,\n",
    "    #   27.77777778, 33.33333333, 38.88888889, 44.44444444, 50.        ])\n",
    "\n",
    "    train_indices_group = labels_df['# ind'][(snr_range > snr_bins[snr_group]) & (snr_range < snr_bins[snr_group + 1]) & (labels_df['status'] == 'train')].values\n",
    "    test_indices_group = labels_df['# ind'][(snr_range > snr_bins[snr_group]) & (snr_range < snr_bins[snr_group + 1]) & (labels_df['status'] == 'test')].values\n",
    "    val_indices_group = labels_df['# ind'][(snr_range > snr_bins[snr_group]) & (snr_range < snr_bins[snr_group + 1]) & (labels_df['status'] == 'val')].values\n",
    "\n",
    "    train_indices_small = find_indices(train_indices_group, train_indices)\n",
    "    test_indices_small = find_indices(test_indices_group, test_indices)\n",
    "    val_indices_small = find_indices(val_indices_group, val_indices)\n",
    "\n",
    "    X_train = X_train[train_indices_small]\n",
    "    X_test = X_test[test_indices_small]\n",
    "    X_val = X_val[val_indices_small]\n",
    "\n",
    "    Y_train = Y_train[train_indices_small]\n",
    "    Y_test = Y_test[test_indices_small]\n",
    "    Y_val = Y_val[val_indices_small]\n",
    "\n",
    "    train_indices = train_indices[train_indices_small]\n",
    "    test_indices = test_indices[test_indices_small]\n",
    "    val_indices = val_indices[val_indices_small]"
   ]
  },
  {
   "cell_type": "code",
   "execution_count": 4,
   "metadata": {},
   "outputs": [],
   "source": [
    "test_rslices = np.load(cur_dir + f'raw_data/{run}/test_rslices.npy')\n",
    "train_rslices = np.load(cur_dir + f'raw_data/{run}/train_rslices.npy')\n",
    "val_rslices = np.load(cur_dir + f'raw_data/{run}/val_rslices.npy')\n",
    "\n",
    "test_rslices = test_rslices[test_indices_small]\n",
    "train_rslices = train_rslices[train_indices_small]\n",
    "val_rslices = val_rslices[val_indices_small]"
   ]
  },
  {
   "cell_type": "code",
   "execution_count": 5,
   "metadata": {},
   "outputs": [],
   "source": [
    "max_val_slice = np.max(val_rslices,axis=1)\n",
    "max_test_slice = np.max(test_rslices,axis=1)\n",
    "max_train_slice = np.max(train_rslices,axis=1)\n",
    "# concatenating rslices\n",
    "rslices = np.concatenate([test_rslices, train_rslices, val_rslices], axis=0)\n",
    "\n",
    "# concatenating max_r_slices\n",
    "max_r_slices = np.concatenate([max_val_slice, max_test_slice, max_train_slice], axis=0)\n",
    "\n",
    "Y = np.concatenate([Y_val,Y_test,Y_train], axis=0)"
   ]
  },
  {
   "cell_type": "code",
   "execution_count": 6,
   "metadata": {},
   "outputs": [],
   "source": [
    "cur_dir = ''\n",
    "run = 'runBC'\n",
    "#test_indices = np.load(cur_dir + f'raw_data/{run}/test_indices.npy')\n",
    "labels_df = pd.read_csv(cur_dir + f'meta_data/labels_{run}.csv')"
   ]
  },
  {
   "cell_type": "code",
   "execution_count": 7,
   "metadata": {},
   "outputs": [],
   "source": [
    "def period_accuracy(Y_test, Y_pred):\n",
    "    \"\"\"\n",
    "    Computes the percentage of predicted periods that are within 0.5% of the true periods.\n",
    "    \"\"\"\n",
    "    accuracies = []\n",
    "    nan_indices = []\n",
    "    Y_test = tf.cast(Y_test, tf.float32)\n",
    "    Y_pred = tf.cast(Y_pred, tf.float32)\n",
    "    shape = Y_test.shape[1]\n",
    "    for i in range(shape):\n",
    "        Y_test_i = Y_test[:,i]\n",
    "        Y_pred_i = Y_pred[:,i]\n",
    "        \n",
    "        nan_mask = tf.math.is_nan(Y_test_i)\n",
    "        nan_indices.append(tf.where(nan_mask))\n",
    "        \n",
    "        Y_test_i = tf.boolean_mask(Y_test_i, tf.logical_not(nan_mask))\n",
    "        Y_pred_i = tf.boolean_mask(Y_pred_i, tf.logical_not(nan_mask))\n",
    "\n",
    "        rat = (Y_test_i + 1e-10)/(Y_pred_i + 1e-10)\n",
    "        rat_bool = tf.logical_and(tf.less(rat, 1.005), tf.greater(rat, 0.995))\n",
    "        accuracy = tf.reduce_mean(tf.cast(rat_bool, tf.float32)) * 100\n",
    "        accuracies.append(accuracy)\n",
    "    return [acc.numpy() for acc in accuracies], nan_indices\n",
    "\n",
    "\n",
    "def median_percent_deviation(Y_test, Y_pred):\n",
    "    \"\"\"\n",
    "    Computes the median percent deviation from the predicted period.\n",
    "    \"\"\"\n",
    "    Y_test = tf.cast(Y_test, tf.float32)\n",
    "    Y_pred = tf.cast(Y_pred, tf.float32)\n",
    "    median_deviations = []\n",
    "    nan_indices = []\n",
    "    shape = Y_test.shape[1]\n",
    "    for i in range(shape):\n",
    "        Y_test_i = Y_test[:,i]\n",
    "        Y_pred_i = Y_pred[:,i]\n",
    "\n",
    "        nan_mask = tf.math.is_nan(Y_test_i)\n",
    "        nan_indices.append(tf.where(nan_mask))\n",
    "\n",
    "        Y_test_i = tf.boolean_mask(Y_test_i, tf.logical_not(nan_mask))\n",
    "        Y_pred_i = tf.boolean_mask(Y_pred_i, tf.logical_not(nan_mask))\n",
    "\n",
    "        percent_deviation = tf.abs((Y_test_i - Y_pred_i) / (Y_test_i + 1e-10)) * 100\n",
    "        median_deviation = tfp.stats.percentile(percent_deviation, q=50)\n",
    "        median_deviations.append(median_deviation)\n",
    "\n",
    "    return [med.numpy() for med in median_deviations], nan_indices\n"
   ]
  },
  {
   "cell_type": "code",
   "execution_count": 26,
   "metadata": {},
   "outputs": [],
   "source": [
    "z_true = 2*labels_df['z'].abs().values.reshape(-1,1)[test_indices]\n",
    "z_pred = 2*labels_df['z_max_from_pvol'].abs().values.reshape(-1,1)[test_indices]"
   ]
  },
  {
   "cell_type": "code",
   "execution_count": 30,
   "metadata": {},
   "outputs": [
    {
     "data": {
      "text/plain": [
       "([13.288288],\n",
       " [<tf.Tensor: shape=(0, 1), dtype=int64, numpy=array([], shape=(0, 1), dtype=int64)>])"
      ]
     },
     "execution_count": 30,
     "metadata": {},
     "output_type": "execute_result"
    }
   ],
   "source": [
    "period_accuracy(z_true, z_pred)"
   ]
  },
  {
   "cell_type": "code",
   "execution_count": 32,
   "metadata": {},
   "outputs": [
    {
     "data": {
      "text/plain": [
       "([2.3214846], [<tf.Tensor: shape=(1, 1), dtype=int64, numpy=array([[321]])>])"
      ]
     },
     "execution_count": 32,
     "metadata": {},
     "output_type": "execute_result"
    }
   ],
   "source": [
    "median_percent_deviation(z_pred, z_true)"
   ]
  },
  {
   "cell_type": "code",
   "execution_count": 6,
   "metadata": {},
   "outputs": [
    {
     "ename": "NameError",
     "evalue": "name 'Y_pred' is not defined",
     "output_type": "error",
     "traceback": [
      "\u001b[0;31m---------------------------------------------------------------------------\u001b[0m",
      "\u001b[0;31mNameError\u001b[0m                                 Traceback (most recent call last)",
      "\u001b[1;32m/hercules/scratch/atya/BinaryML/evaluate_and_visualize_data.ipynb Cell 6\u001b[0m in \u001b[0;36m<cell line: 1>\u001b[0;34m()\u001b[0m\n\u001b[1;32m      <a href='vscode-notebook-cell://ssh-remote%2Bh11/hercules/scratch/atya/BinaryML/evaluate_and_visualize_data.ipynb#X16sdnNjb2RlLXJlbW90ZQ%3D%3D?line=0'>1</a>\u001b[0m \u001b[39mfor\u001b[39;00m x_lab \u001b[39min\u001b[39;00m [\u001b[39m'\u001b[39m\u001b[39mperiod\u001b[39m\u001b[39m'\u001b[39m, \u001b[39m'\u001b[39m\u001b[39msnr\u001b[39m\u001b[39m'\u001b[39m, \u001b[39m'\u001b[39m\u001b[39mwidth\u001b[39m\u001b[39m'\u001b[39m, \u001b[39m'\u001b[39m\u001b[39mbper\u001b[39m\u001b[39m'\u001b[39m, \u001b[39m'\u001b[39m\u001b[39mbinc\u001b[39m\u001b[39m'\u001b[39m, \u001b[39m'\u001b[39m\u001b[39mbcmass\u001b[39m\u001b[39m'\u001b[39m,\n\u001b[1;32m      <a href='vscode-notebook-cell://ssh-remote%2Bh11/hercules/scratch/atya/BinaryML/evaluate_and_visualize_data.ipynb#X16sdnNjb2RlLXJlbW90ZQ%3D%3D?line=1'>2</a>\u001b[0m        \u001b[39m'\u001b[39m\u001b[39mbphase\u001b[39m\u001b[39m'\u001b[39m, \u001b[39m'\u001b[39m\u001b[39ma\u001b[39m\u001b[39m'\u001b[39m, \u001b[39m'\u001b[39m\u001b[39mp_middle\u001b[39m\u001b[39m'\u001b[39m, \u001b[39m'\u001b[39m\u001b[39mpd\u001b[39m\u001b[39m'\u001b[39m, \u001b[39m'\u001b[39m\u001b[39mz\u001b[39m\u001b[39m'\u001b[39m, \u001b[39m'\u001b[39m\u001b[39ma_max\u001b[39m\u001b[39m'\u001b[39m,\n\u001b[1;32m      <a href='vscode-notebook-cell://ssh-remote%2Bh11/hercules/scratch/atya/BinaryML/evaluate_and_visualize_data.ipynb#X16sdnNjb2RlLXJlbW90ZQ%3D%3D?line=2'>3</a>\u001b[0m        \u001b[39m'\u001b[39m\u001b[39mz_max\u001b[39m\u001b[39m'\u001b[39m, \u001b[39m'\u001b[39m\u001b[39mp_fold\u001b[39m\u001b[39m'\u001b[39m, \u001b[39m'\u001b[39m\u001b[39masini\u001b[39m\u001b[39m'\u001b[39m, \u001b[39m'\u001b[39m\u001b[39mperiastron_time_mjd\u001b[39m\u001b[39m'\u001b[39m, \u001b[39m'\u001b[39m\u001b[39mfold_snr_theory\u001b[39m\u001b[39m'\u001b[39m ]:\n\u001b[1;32m      <a href='vscode-notebook-cell://ssh-remote%2Bh11/hercules/scratch/atya/BinaryML/evaluate_and_visualize_data.ipynb#X16sdnNjb2RlLXJlbW90ZQ%3D%3D?line=3'>4</a>\u001b[0m     X \u001b[39m=\u001b[39m labels_df[x_lab]\u001b[39m.\u001b[39mvalues[test_indices\u001b[39m.\u001b[39mastype(\u001b[39mint\u001b[39m)]\n\u001b[0;32m----> <a href='vscode-notebook-cell://ssh-remote%2Bh11/hercules/scratch/atya/BinaryML/evaluate_and_visualize_data.ipynb#X16sdnNjb2RlLXJlbW90ZQ%3D%3D?line=4'>5</a>\u001b[0m     y \u001b[39m=\u001b[39m np\u001b[39m.\u001b[39mabs((Y_test[:,\u001b[39m1\u001b[39m] \u001b[39m-\u001b[39m Y_pred))\n\u001b[1;32m      <a href='vscode-notebook-cell://ssh-remote%2Bh11/hercules/scratch/atya/BinaryML/evaluate_and_visualize_data.ipynb#X16sdnNjb2RlLXJlbW90ZQ%3D%3D?line=6'>7</a>\u001b[0m     \u001b[39m#Make 2 subplots\u001b[39;00m\n\u001b[1;32m      <a href='vscode-notebook-cell://ssh-remote%2Bh11/hercules/scratch/atya/BinaryML/evaluate_and_visualize_data.ipynb#X16sdnNjb2RlLXJlbW90ZQ%3D%3D?line=7'>8</a>\u001b[0m     fig, axs \u001b[39m=\u001b[39m plt\u001b[39m.\u001b[39msubplots(\u001b[39m1\u001b[39m, \u001b[39m2\u001b[39m, figsize\u001b[39m=\u001b[39m(\u001b[39m13\u001b[39m, \u001b[39m5\u001b[39m))\n",
      "\u001b[0;31mNameError\u001b[0m: name 'Y_pred' is not defined"
     ]
    }
   ],
   "source": [
    "for x_lab in ['period', 'snr', 'width', 'bper', 'binc', 'bcmass',\n",
    "       'bphase', 'a', 'p_middle', 'pd', 'z', 'a_max',\n",
    "       'z_max', 'p_fold', 'asini', 'periastron_time_mjd', 'fold_snr_theory' ]:\n",
    "    X = labels_df[x_lab].values[test_indices.astype(int)]\n",
    "    y = np.abs((Y_test[:,1] - Y_pred))\n",
    "    \n",
    "    #Make 2 subplots\n",
    "    fig, axs = plt.subplots(1, 2, figsize=(13, 5))\n",
    "    axs[0].plot(X, y, 'o')\n",
    "    axs[0].set_ylim(0,10)\n",
    "    axs[1].hist(X, bins=100)\n",
    "    axs[1].set_xlabel(x_lab)\n",
    "   #  axs[2].hist(y, bins=100)\n",
    "   #  axs[2].set_xlabel('y   '+x_lab)\n",
    "    plt.show()\n",
    "    plt.close()"
   ]
  },
  {
   "cell_type": "code",
   "execution_count": 9,
   "metadata": {},
   "outputs": [
    {
     "name": "stderr",
     "output_type": "stream",
     "text": [
      "2023-07-27 12:44:02.917540: I tensorflow/compiler/jit/xla_cpu_device.cc:41] Not creating XLA devices, tf_xla_enable_xla_devices not set\n",
      "2023-07-27 12:44:02.919963: I tensorflow/stream_executor/platform/default/dso_loader.cc:49] Successfully opened dynamic library libcuda.so.1\n",
      "2023-07-27 12:44:03.542300: E tensorflow/stream_executor/cuda/cuda_driver.cc:328] failed call to cuInit: CUDA_ERROR_NO_DEVICE: no CUDA-capable device is detected\n",
      "2023-07-27 12:44:03.542393: I tensorflow/stream_executor/cuda/cuda_diagnostics.cc:156] kernel driver does not appear to be running on this host (hercules11): /proc/driver/nvidia/version does not exist\n",
      "2023-07-27 12:44:03.544119: I tensorflow/core/platform/cpu_feature_guard.cc:142] This TensorFlow binary is optimized with oneAPI Deep Neural Network Library (oneDNN) to use the following CPU instructions in performance-critical operations:  SSE4.1 SSE4.2 AVX AVX2 AVX512F FMA\n",
      "To enable them in other operations, rebuild TensorFlow with the appropriate compiler flags.\n",
      "2023-07-27 12:44:03.546457: I tensorflow/compiler/jit/xla_gpu_device.cc:99] Not creating XLA devices, tf_xla_enable_xla_devices not set\n"
     ]
    }
   ],
   "source": [
    "best_modelz_runBD = tf.keras.models.load_model(\"models/low_snr_predict_attention_2548494_checkpoint.h5\")"
   ]
  },
  {
   "cell_type": "code",
   "execution_count": 10,
   "metadata": {},
   "outputs": [
    {
     "name": "stderr",
     "output_type": "stream",
     "text": [
      "2023-07-27 12:49:23.467751: I tensorflow/compiler/mlir/mlir_graph_optimization_pass.cc:116] None of the MLIR optimization passes are enabled (registered 2)\n",
      "2023-07-27 12:49:24.710420: I tensorflow/core/platform/profile_utils/cpu_utils.cc:112] CPU Frequency: 2400000000 Hz\n"
     ]
    },
    {
     "name": "stdout",
     "output_type": "stream",
     "text": [
      "33/33 [==============================] - 16s 99ms/step - loss: 16401.6934 - mse: 16401.6934 - mae: 77.0031\n"
     ]
    },
    {
     "data": {
      "text/plain": [
       "[16401.693359375, 16401.693359375, 77.00310516357422]"
      ]
     },
     "execution_count": 10,
     "metadata": {},
     "output_type": "execute_result"
    }
   ],
   "source": [
    "best_modelz_runBD.evaluate(X_test, Y_test)"
   ]
  },
  {
   "cell_type": "code",
   "execution_count": 19,
   "metadata": {},
   "outputs": [
    {
     "data": {
      "text/plain": [
       "(1034, 400, 1)"
      ]
     },
     "execution_count": 19,
     "metadata": {},
     "output_type": "execute_result"
    }
   ],
   "source": [
    "X_test.shape"
   ]
  },
  {
   "cell_type": "code",
   "execution_count": 16,
   "metadata": {},
   "outputs": [
    {
     "name": "stdout",
     "output_type": "stream",
     "text": [
      "WARNING:tensorflow:AutoGraph could not transform <function loss_function at 0x2b6dfd6f7940> and will run it as-is.\n",
      "Please report this to the TensorFlow team. When filing the bug, set the verbosity to 10 (on Linux, `export AUTOGRAPH_VERBOSITY=10`) and attach the full output.\n",
      "Cause: module 'gast' has no attribute 'Index'\n",
      "To silence this warning, decorate the function with @tf.autograph.experimental.do_not_convert\n",
      "WARNING: AutoGraph could not transform <function loss_function at 0x2b6dfd6f7940> and will run it as-is.\n",
      "Please report this to the TensorFlow team. When filing the bug, set the verbosity to 10 (on Linux, `export AUTOGRAPH_VERBOSITY=10`) and attach the full output.\n",
      "Cause: module 'gast' has no attribute 'Index'\n",
      "To silence this warning, decorate the function with @tf.autograph.experimental.do_not_convert\n",
      "WARNING:tensorflow:From /u/atya/conda-envs/tf-gpu4/lib/python3.8/site-packages/tensorflow/python/util/deprecation.py:605: calling map_fn_v2 (from tensorflow.python.ops.map_fn) with dtype is deprecated and will be removed in a future version.\n",
      "Instructions for updating:\n",
      "Use fn_output_signature instead\n"
     ]
    },
    {
     "ename": "ValueError",
     "evalue": "in user code:\n\n    /u/atya/conda-envs/tf-gpu4/lib/python3.8/site-packages/tensorflow/python/keras/engine/training.py:1233 test_function  *\n        return step_function(self, iterator)\n    /tmp/ipykernel_246486/1515322706.py:19 None  *\n        lambda y: find_z_ind(y_true_array, y)\n    /tmp/ipykernel_246486/1515322706.py:9 find_z_ind  *\n        return tf.argmin(tf.abs(z_array - z_value), axis=-1)\n    /u/atya/conda-envs/tf-gpu4/lib/python3.8/site-packages/tensorflow/python/ops/math_ops.py:1180 binary_op_wrapper\n        raise e\n    /u/atya/conda-envs/tf-gpu4/lib/python3.8/site-packages/tensorflow/python/ops/math_ops.py:1164 binary_op_wrapper\n        return func(x, y, name=name)\n    /u/atya/conda-envs/tf-gpu4/lib/python3.8/site-packages/tensorflow/python/util/dispatch.py:201 wrapper\n        return target(*args, **kwargs)\n    /u/atya/conda-envs/tf-gpu4/lib/python3.8/site-packages/tensorflow/python/ops/math_ops.py:561 subtract\n        return gen_math_ops.sub(x, y, name)\n    /u/atya/conda-envs/tf-gpu4/lib/python3.8/site-packages/tensorflow/python/ops/gen_math_ops.py:10316 sub\n        _, _, _op, _outputs = _op_def_library._apply_op_helper(\n    /u/atya/conda-envs/tf-gpu4/lib/python3.8/site-packages/tensorflow/python/framework/op_def_library.py:748 _apply_op_helper\n        op = g._create_op_internal(op_type_name, inputs, dtypes=None,\n    /u/atya/conda-envs/tf-gpu4/lib/python3.8/site-packages/tensorflow/python/framework/func_graph.py:590 _create_op_internal\n        return super(FuncGraph, self)._create_op_internal(  # pylint: disable=protected-access\n    /u/atya/conda-envs/tf-gpu4/lib/python3.8/site-packages/tensorflow/python/framework/ops.py:3528 _create_op_internal\n        ret = Operation(\n    /u/atya/conda-envs/tf-gpu4/lib/python3.8/site-packages/tensorflow/python/framework/ops.py:2015 __init__\n        self._c_op = _create_c_op(self._graph, node_def, inputs,\n    /u/atya/conda-envs/tf-gpu4/lib/python3.8/site-packages/tensorflow/python/framework/ops.py:1856 _create_c_op\n        raise ValueError(str(e))\n\n    ValueError: Dimensions must be equal, but are 5236 and 2 for '{{node custom_loss/map/while/sub}} = Sub[T=DT_FLOAT](custom_loss/map/while/sub/x, custom_loss/map/while/TensorArrayV2Read/TensorListGetItem)' with input shapes: [5236], [2].\n",
     "output_type": "error",
     "traceback": [
      "\u001b[0;31m---------------------------------------------------------------------------\u001b[0m",
      "\u001b[0;31mValueError\u001b[0m                                Traceback (most recent call last)",
      "\u001b[1;32m/hercules/scratch/atya/BinaryML/evaluate_and_visualize_data.ipynb Cell 14\u001b[0m in \u001b[0;36m<cell line: 1>\u001b[0;34m()\u001b[0m\n\u001b[0;32m----> <a href='vscode-notebook-cell://ssh-remote%2Bh11/hercules/scratch/atya/BinaryML/evaluate_and_visualize_data.ipynb#Y211sdnNjb2RlLXJlbW90ZQ%3D%3D?line=0'>1</a>\u001b[0m model\u001b[39m.\u001b[39;49mevaluate(X_test, Y_test)\n",
      "File \u001b[0;32m~/conda-envs/tf-gpu4/lib/python3.8/site-packages/tensorflow/python/keras/engine/training.py:1389\u001b[0m, in \u001b[0;36mModel.evaluate\u001b[0;34m(self, x, y, batch_size, verbose, sample_weight, steps, callbacks, max_queue_size, workers, use_multiprocessing, return_dict)\u001b[0m\n\u001b[1;32m   1387\u001b[0m \u001b[39mwith\u001b[39;00m trace\u001b[39m.\u001b[39mTrace(\u001b[39m'\u001b[39m\u001b[39mtest\u001b[39m\u001b[39m'\u001b[39m, step_num\u001b[39m=\u001b[39mstep, _r\u001b[39m=\u001b[39m\u001b[39m1\u001b[39m):\n\u001b[1;32m   1388\u001b[0m   callbacks\u001b[39m.\u001b[39mon_test_batch_begin(step)\n\u001b[0;32m-> 1389\u001b[0m   tmp_logs \u001b[39m=\u001b[39m \u001b[39mself\u001b[39;49m\u001b[39m.\u001b[39;49mtest_function(iterator)\n\u001b[1;32m   1390\u001b[0m   \u001b[39mif\u001b[39;00m data_handler\u001b[39m.\u001b[39mshould_sync:\n\u001b[1;32m   1391\u001b[0m     context\u001b[39m.\u001b[39masync_wait()\n",
      "File \u001b[0;32m~/conda-envs/tf-gpu4/lib/python3.8/site-packages/tensorflow/python/eager/def_function.py:828\u001b[0m, in \u001b[0;36mFunction.__call__\u001b[0;34m(self, *args, **kwds)\u001b[0m\n\u001b[1;32m    826\u001b[0m tracing_count \u001b[39m=\u001b[39m \u001b[39mself\u001b[39m\u001b[39m.\u001b[39mexperimental_get_tracing_count()\n\u001b[1;32m    827\u001b[0m \u001b[39mwith\u001b[39;00m trace\u001b[39m.\u001b[39mTrace(\u001b[39mself\u001b[39m\u001b[39m.\u001b[39m_name) \u001b[39mas\u001b[39;00m tm:\n\u001b[0;32m--> 828\u001b[0m   result \u001b[39m=\u001b[39m \u001b[39mself\u001b[39;49m\u001b[39m.\u001b[39;49m_call(\u001b[39m*\u001b[39;49margs, \u001b[39m*\u001b[39;49m\u001b[39m*\u001b[39;49mkwds)\n\u001b[1;32m    829\u001b[0m   compiler \u001b[39m=\u001b[39m \u001b[39m\"\u001b[39m\u001b[39mxla\u001b[39m\u001b[39m\"\u001b[39m \u001b[39mif\u001b[39;00m \u001b[39mself\u001b[39m\u001b[39m.\u001b[39m_experimental_compile \u001b[39melse\u001b[39;00m \u001b[39m\"\u001b[39m\u001b[39mnonXla\u001b[39m\u001b[39m\"\u001b[39m\n\u001b[1;32m    830\u001b[0m   new_tracing_count \u001b[39m=\u001b[39m \u001b[39mself\u001b[39m\u001b[39m.\u001b[39mexperimental_get_tracing_count()\n",
      "File \u001b[0;32m~/conda-envs/tf-gpu4/lib/python3.8/site-packages/tensorflow/python/eager/def_function.py:871\u001b[0m, in \u001b[0;36mFunction._call\u001b[0;34m(self, *args, **kwds)\u001b[0m\n\u001b[1;32m    868\u001b[0m \u001b[39mtry\u001b[39;00m:\n\u001b[1;32m    869\u001b[0m   \u001b[39m# This is the first call of __call__, so we have to initialize.\u001b[39;00m\n\u001b[1;32m    870\u001b[0m   initializers \u001b[39m=\u001b[39m []\n\u001b[0;32m--> 871\u001b[0m   \u001b[39mself\u001b[39;49m\u001b[39m.\u001b[39;49m_initialize(args, kwds, add_initializers_to\u001b[39m=\u001b[39;49minitializers)\n\u001b[1;32m    872\u001b[0m \u001b[39mfinally\u001b[39;00m:\n\u001b[1;32m    873\u001b[0m   \u001b[39m# At this point we know that the initialization is complete (or less\u001b[39;00m\n\u001b[1;32m    874\u001b[0m   \u001b[39m# interestingly an exception was raised) so we no longer need a lock.\u001b[39;00m\n\u001b[1;32m    875\u001b[0m   \u001b[39mself\u001b[39m\u001b[39m.\u001b[39m_lock\u001b[39m.\u001b[39mrelease()\n",
      "File \u001b[0;32m~/conda-envs/tf-gpu4/lib/python3.8/site-packages/tensorflow/python/eager/def_function.py:725\u001b[0m, in \u001b[0;36mFunction._initialize\u001b[0;34m(self, args, kwds, add_initializers_to)\u001b[0m\n\u001b[1;32m    722\u001b[0m \u001b[39mself\u001b[39m\u001b[39m.\u001b[39m_lifted_initializer_graph \u001b[39m=\u001b[39m lifted_initializer_graph\n\u001b[1;32m    723\u001b[0m \u001b[39mself\u001b[39m\u001b[39m.\u001b[39m_graph_deleter \u001b[39m=\u001b[39m FunctionDeleter(\u001b[39mself\u001b[39m\u001b[39m.\u001b[39m_lifted_initializer_graph)\n\u001b[1;32m    724\u001b[0m \u001b[39mself\u001b[39m\u001b[39m.\u001b[39m_concrete_stateful_fn \u001b[39m=\u001b[39m (\n\u001b[0;32m--> 725\u001b[0m     \u001b[39mself\u001b[39;49m\u001b[39m.\u001b[39;49m_stateful_fn\u001b[39m.\u001b[39;49m_get_concrete_function_internal_garbage_collected(  \u001b[39m# pylint: disable=protected-access\u001b[39;49;00m\n\u001b[1;32m    726\u001b[0m         \u001b[39m*\u001b[39;49margs, \u001b[39m*\u001b[39;49m\u001b[39m*\u001b[39;49mkwds))\n\u001b[1;32m    728\u001b[0m \u001b[39mdef\u001b[39;00m \u001b[39minvalid_creator_scope\u001b[39m(\u001b[39m*\u001b[39munused_args, \u001b[39m*\u001b[39m\u001b[39m*\u001b[39munused_kwds):\n\u001b[1;32m    729\u001b[0m \u001b[39m  \u001b[39m\u001b[39m\"\"\"Disables variable creation.\"\"\"\u001b[39;00m\n",
      "File \u001b[0;32m~/conda-envs/tf-gpu4/lib/python3.8/site-packages/tensorflow/python/eager/function.py:2969\u001b[0m, in \u001b[0;36mFunction._get_concrete_function_internal_garbage_collected\u001b[0;34m(self, *args, **kwargs)\u001b[0m\n\u001b[1;32m   2967\u001b[0m   args, kwargs \u001b[39m=\u001b[39m \u001b[39mNone\u001b[39;00m, \u001b[39mNone\u001b[39;00m\n\u001b[1;32m   2968\u001b[0m \u001b[39mwith\u001b[39;00m \u001b[39mself\u001b[39m\u001b[39m.\u001b[39m_lock:\n\u001b[0;32m-> 2969\u001b[0m   graph_function, _ \u001b[39m=\u001b[39m \u001b[39mself\u001b[39;49m\u001b[39m.\u001b[39;49m_maybe_define_function(args, kwargs)\n\u001b[1;32m   2970\u001b[0m \u001b[39mreturn\u001b[39;00m graph_function\n",
      "File \u001b[0;32m~/conda-envs/tf-gpu4/lib/python3.8/site-packages/tensorflow/python/eager/function.py:3361\u001b[0m, in \u001b[0;36mFunction._maybe_define_function\u001b[0;34m(self, args, kwargs)\u001b[0m\n\u001b[1;32m   3357\u001b[0m   \u001b[39mreturn\u001b[39;00m \u001b[39mself\u001b[39m\u001b[39m.\u001b[39m_define_function_with_shape_relaxation(\n\u001b[1;32m   3358\u001b[0m       args, kwargs, flat_args, filtered_flat_args, cache_key_context)\n\u001b[1;32m   3360\u001b[0m \u001b[39mself\u001b[39m\u001b[39m.\u001b[39m_function_cache\u001b[39m.\u001b[39mmissed\u001b[39m.\u001b[39madd(call_context_key)\n\u001b[0;32m-> 3361\u001b[0m graph_function \u001b[39m=\u001b[39m \u001b[39mself\u001b[39;49m\u001b[39m.\u001b[39;49m_create_graph_function(args, kwargs)\n\u001b[1;32m   3362\u001b[0m \u001b[39mself\u001b[39m\u001b[39m.\u001b[39m_function_cache\u001b[39m.\u001b[39mprimary[cache_key] \u001b[39m=\u001b[39m graph_function\n\u001b[1;32m   3364\u001b[0m \u001b[39mreturn\u001b[39;00m graph_function, filtered_flat_args\n",
      "File \u001b[0;32m~/conda-envs/tf-gpu4/lib/python3.8/site-packages/tensorflow/python/eager/function.py:3196\u001b[0m, in \u001b[0;36mFunction._create_graph_function\u001b[0;34m(self, args, kwargs, override_flat_arg_shapes)\u001b[0m\n\u001b[1;32m   3191\u001b[0m missing_arg_names \u001b[39m=\u001b[39m [\n\u001b[1;32m   3192\u001b[0m     \u001b[39m\"\u001b[39m\u001b[39m%s\u001b[39;00m\u001b[39m_\u001b[39m\u001b[39m%d\u001b[39;00m\u001b[39m\"\u001b[39m \u001b[39m%\u001b[39m (arg, i) \u001b[39mfor\u001b[39;00m i, arg \u001b[39min\u001b[39;00m \u001b[39menumerate\u001b[39m(missing_arg_names)\n\u001b[1;32m   3193\u001b[0m ]\n\u001b[1;32m   3194\u001b[0m arg_names \u001b[39m=\u001b[39m base_arg_names \u001b[39m+\u001b[39m missing_arg_names\n\u001b[1;32m   3195\u001b[0m graph_function \u001b[39m=\u001b[39m ConcreteFunction(\n\u001b[0;32m-> 3196\u001b[0m     func_graph_module\u001b[39m.\u001b[39;49mfunc_graph_from_py_func(\n\u001b[1;32m   3197\u001b[0m         \u001b[39mself\u001b[39;49m\u001b[39m.\u001b[39;49m_name,\n\u001b[1;32m   3198\u001b[0m         \u001b[39mself\u001b[39;49m\u001b[39m.\u001b[39;49m_python_function,\n\u001b[1;32m   3199\u001b[0m         args,\n\u001b[1;32m   3200\u001b[0m         kwargs,\n\u001b[1;32m   3201\u001b[0m         \u001b[39mself\u001b[39;49m\u001b[39m.\u001b[39;49minput_signature,\n\u001b[1;32m   3202\u001b[0m         autograph\u001b[39m=\u001b[39;49m\u001b[39mself\u001b[39;49m\u001b[39m.\u001b[39;49m_autograph,\n\u001b[1;32m   3203\u001b[0m         autograph_options\u001b[39m=\u001b[39;49m\u001b[39mself\u001b[39;49m\u001b[39m.\u001b[39;49m_autograph_options,\n\u001b[1;32m   3204\u001b[0m         arg_names\u001b[39m=\u001b[39;49marg_names,\n\u001b[1;32m   3205\u001b[0m         override_flat_arg_shapes\u001b[39m=\u001b[39;49moverride_flat_arg_shapes,\n\u001b[1;32m   3206\u001b[0m         capture_by_value\u001b[39m=\u001b[39;49m\u001b[39mself\u001b[39;49m\u001b[39m.\u001b[39;49m_capture_by_value),\n\u001b[1;32m   3207\u001b[0m     \u001b[39mself\u001b[39m\u001b[39m.\u001b[39m_function_attributes,\n\u001b[1;32m   3208\u001b[0m     function_spec\u001b[39m=\u001b[39m\u001b[39mself\u001b[39m\u001b[39m.\u001b[39mfunction_spec,\n\u001b[1;32m   3209\u001b[0m     \u001b[39m# Tell the ConcreteFunction to clean up its graph once it goes out of\u001b[39;00m\n\u001b[1;32m   3210\u001b[0m     \u001b[39m# scope. This is not the default behavior since it gets used in some\u001b[39;00m\n\u001b[1;32m   3211\u001b[0m     \u001b[39m# places (like Keras) where the FuncGraph lives longer than the\u001b[39;00m\n\u001b[1;32m   3212\u001b[0m     \u001b[39m# ConcreteFunction.\u001b[39;00m\n\u001b[1;32m   3213\u001b[0m     shared_func_graph\u001b[39m=\u001b[39m\u001b[39mFalse\u001b[39;00m)\n\u001b[1;32m   3214\u001b[0m \u001b[39mreturn\u001b[39;00m graph_function\n",
      "File \u001b[0;32m~/conda-envs/tf-gpu4/lib/python3.8/site-packages/tensorflow/python/framework/func_graph.py:990\u001b[0m, in \u001b[0;36mfunc_graph_from_py_func\u001b[0;34m(name, python_func, args, kwargs, signature, func_graph, autograph, autograph_options, add_control_dependencies, arg_names, op_return_value, collections, capture_by_value, override_flat_arg_shapes)\u001b[0m\n\u001b[1;32m    987\u001b[0m \u001b[39melse\u001b[39;00m:\n\u001b[1;32m    988\u001b[0m   _, original_func \u001b[39m=\u001b[39m tf_decorator\u001b[39m.\u001b[39munwrap(python_func)\n\u001b[0;32m--> 990\u001b[0m func_outputs \u001b[39m=\u001b[39m python_func(\u001b[39m*\u001b[39;49mfunc_args, \u001b[39m*\u001b[39;49m\u001b[39m*\u001b[39;49mfunc_kwargs)\n\u001b[1;32m    992\u001b[0m \u001b[39m# invariant: `func_outputs` contains only Tensors, CompositeTensors,\u001b[39;00m\n\u001b[1;32m    993\u001b[0m \u001b[39m# TensorArrays and `None`s.\u001b[39;00m\n\u001b[1;32m    994\u001b[0m func_outputs \u001b[39m=\u001b[39m nest\u001b[39m.\u001b[39mmap_structure(convert, func_outputs,\n\u001b[1;32m    995\u001b[0m                                   expand_composites\u001b[39m=\u001b[39m\u001b[39mTrue\u001b[39;00m)\n",
      "File \u001b[0;32m~/conda-envs/tf-gpu4/lib/python3.8/site-packages/tensorflow/python/eager/def_function.py:634\u001b[0m, in \u001b[0;36mFunction._defun_with_scope.<locals>.wrapped_fn\u001b[0;34m(*args, **kwds)\u001b[0m\n\u001b[1;32m    632\u001b[0m     xla_context\u001b[39m.\u001b[39mExit()\n\u001b[1;32m    633\u001b[0m \u001b[39melse\u001b[39;00m:\n\u001b[0;32m--> 634\u001b[0m   out \u001b[39m=\u001b[39m weak_wrapped_fn()\u001b[39m.\u001b[39;49m__wrapped__(\u001b[39m*\u001b[39;49margs, \u001b[39m*\u001b[39;49m\u001b[39m*\u001b[39;49mkwds)\n\u001b[1;32m    635\u001b[0m \u001b[39mreturn\u001b[39;00m out\n",
      "File \u001b[0;32m~/conda-envs/tf-gpu4/lib/python3.8/site-packages/tensorflow/python/framework/func_graph.py:977\u001b[0m, in \u001b[0;36mfunc_graph_from_py_func.<locals>.wrapper\u001b[0;34m(*args, **kwargs)\u001b[0m\n\u001b[1;32m    975\u001b[0m \u001b[39mexcept\u001b[39;00m \u001b[39mException\u001b[39;00m \u001b[39mas\u001b[39;00m e:  \u001b[39m# pylint:disable=broad-except\u001b[39;00m\n\u001b[1;32m    976\u001b[0m   \u001b[39mif\u001b[39;00m \u001b[39mhasattr\u001b[39m(e, \u001b[39m\"\u001b[39m\u001b[39mag_error_metadata\u001b[39m\u001b[39m\"\u001b[39m):\n\u001b[0;32m--> 977\u001b[0m     \u001b[39mraise\u001b[39;00m e\u001b[39m.\u001b[39mag_error_metadata\u001b[39m.\u001b[39mto_exception(e)\n\u001b[1;32m    978\u001b[0m   \u001b[39melse\u001b[39;00m:\n\u001b[1;32m    979\u001b[0m     \u001b[39mraise\u001b[39;00m\n",
      "\u001b[0;31mValueError\u001b[0m: in user code:\n\n    /u/atya/conda-envs/tf-gpu4/lib/python3.8/site-packages/tensorflow/python/keras/engine/training.py:1233 test_function  *\n        return step_function(self, iterator)\n    /tmp/ipykernel_246486/1515322706.py:19 None  *\n        lambda y: find_z_ind(y_true_array, y)\n    /tmp/ipykernel_246486/1515322706.py:9 find_z_ind  *\n        return tf.argmin(tf.abs(z_array - z_value), axis=-1)\n    /u/atya/conda-envs/tf-gpu4/lib/python3.8/site-packages/tensorflow/python/ops/math_ops.py:1180 binary_op_wrapper\n        raise e\n    /u/atya/conda-envs/tf-gpu4/lib/python3.8/site-packages/tensorflow/python/ops/math_ops.py:1164 binary_op_wrapper\n        return func(x, y, name=name)\n    /u/atya/conda-envs/tf-gpu4/lib/python3.8/site-packages/tensorflow/python/util/dispatch.py:201 wrapper\n        return target(*args, **kwargs)\n    /u/atya/conda-envs/tf-gpu4/lib/python3.8/site-packages/tensorflow/python/ops/math_ops.py:561 subtract\n        return gen_math_ops.sub(x, y, name)\n    /u/atya/conda-envs/tf-gpu4/lib/python3.8/site-packages/tensorflow/python/ops/gen_math_ops.py:10316 sub\n        _, _, _op, _outputs = _op_def_library._apply_op_helper(\n    /u/atya/conda-envs/tf-gpu4/lib/python3.8/site-packages/tensorflow/python/framework/op_def_library.py:748 _apply_op_helper\n        op = g._create_op_internal(op_type_name, inputs, dtypes=None,\n    /u/atya/conda-envs/tf-gpu4/lib/python3.8/site-packages/tensorflow/python/framework/func_graph.py:590 _create_op_internal\n        return super(FuncGraph, self)._create_op_internal(  # pylint: disable=protected-access\n    /u/atya/conda-envs/tf-gpu4/lib/python3.8/site-packages/tensorflow/python/framework/ops.py:3528 _create_op_internal\n        ret = Operation(\n    /u/atya/conda-envs/tf-gpu4/lib/python3.8/site-packages/tensorflow/python/framework/ops.py:2015 __init__\n        self._c_op = _create_c_op(self._graph, node_def, inputs,\n    /u/atya/conda-envs/tf-gpu4/lib/python3.8/site-packages/tensorflow/python/framework/ops.py:1856 _create_c_op\n        raise ValueError(str(e))\n\n    ValueError: Dimensions must be equal, but are 5236 and 2 for '{{node custom_loss/map/while/sub}} = Sub[T=DT_FLOAT](custom_loss/map/while/sub/x, custom_loss/map/while/TensorArrayV2Read/TensorListGetItem)' with input shapes: [5236], [2].\n"
     ]
    }
   ],
   "source": [
    "model.evaluate(X_test, Y_test)"
   ]
  },
  {
   "cell_type": "code",
   "execution_count": 7,
   "metadata": {},
   "outputs": [
    {
     "name": "stderr",
     "output_type": "stream",
     "text": [
      "2023-07-21 11:39:29.525297: I tensorflow/compiler/jit/xla_cpu_device.cc:41] Not creating XLA devices, tf_xla_enable_xla_devices not set\n",
      "2023-07-21 11:39:29.526357: I tensorflow/stream_executor/platform/default/dso_loader.cc:49] Successfully opened dynamic library libcuda.so.1\n",
      "2023-07-21 11:39:30.136301: E tensorflow/stream_executor/cuda/cuda_driver.cc:328] failed call to cuInit: CUDA_ERROR_NO_DEVICE: no CUDA-capable device is detected\n",
      "2023-07-21 11:39:30.136384: I tensorflow/stream_executor/cuda/cuda_diagnostics.cc:156] kernel driver does not appear to be running on this host (hercules11): /proc/driver/nvidia/version does not exist\n",
      "2023-07-21 11:39:30.137983: I tensorflow/core/platform/cpu_feature_guard.cc:142] This TensorFlow binary is optimized with oneAPI Deep Neural Network Library (oneDNN) to use the following CPU instructions in performance-critical operations:  SSE4.1 SSE4.2 AVX AVX2 AVX512F FMA\n",
      "To enable them in other operations, rebuild TensorFlow with the appropriate compiler flags.\n",
      "2023-07-21 11:39:30.139787: I tensorflow/compiler/jit/xla_gpu_device.cc:99] Not creating XLA devices, tf_xla_enable_xla_devices not set\n",
      "2023-07-21 11:40:15.216387: I tensorflow/compiler/mlir/mlir_graph_optimization_pass.cc:116] None of the MLIR optimization passes are enabled (registered 2)\n",
      "2023-07-21 11:40:15.216904: I tensorflow/core/platform/profile_utils/cpu_utils.cc:112] CPU Frequency: 2400000000 Hz\n"
     ]
    }
   ],
   "source": [
    "# Load the best model after training\n",
    "best_modelf_runBC = tf.keras.models.load_model('models/predict_f_runBC_cnn_2530278_checkpoint.h5') #low snrs models\n",
    "best_modelz_runBC = tf.keras.models.load_model('models/low_snr_predict_attention_2538705_checkpoint.h5') # low snrs models \n",
    "best_modelf_runBB = tf.keras.models.load_model('models/f_predict_cnn_1280525_checkpoint.h5') # run BB high snrs models\n",
    "best_modelz_runBB = tf.keras.models.load_model('models/f_predict_attention_z_fine_1231538_55_checkpoint.h5') # runBB high snrs models \n",
    "best_modelf_runBD = tf.keras.models.load_model('models/tuner_predict_cnn_2542009_350_checkpoint.h5') # run BD high snrs models\n",
    "best_modelz_runBD = tf.keras.models.load_model('models/tuner_predict_attention_z_2535741_853_checkpoint.h5') # runBD high snrs models \n",
    "# best_modelf = tf.keras.models.load_model('models/low_snr_predict_cnn_1585085_checkpoint.h5') #high snrs models\n",
    "# best_modelz = tf.keras.models.load_model('models/low_snr_predict_attention_1585217_checkpoint.h5') # high snrs models \n",
    "\n",
    "#snr_predict = tf.keras.models.load_model('models/snr_predict_attention_1567308_checkpoint.h5')\n",
    "\n",
    "z_pred_runBD = best_modelz_runBD.predict(X_test)\n",
    "f_pred_runBD = best_modelf_runBD.predict(X_test)\n",
    "\n",
    "# z_pred_runBC = best_modelz_runBC.predict(X_test)\n",
    "# f_pred_runBC = best_modelf_runBC.predict(X_test)\n",
    "\n",
    "Y_pred_runBD = np.concatenate((f_pred_runBD,z_pred_runBD),axis=1).reshape(Y_test.shape[0],Y_test.shape[1],1)\n",
    "# Y_pred_runBC = np.concatenate((f_pred_runBC,z_pred_runBC),axis=1).reshape(Y_test.shape[0],Y_test.shape[1],1)"
   ]
  },
  {
   "cell_type": "code",
   "execution_count": 15,
   "metadata": {},
   "outputs": [],
   "source": [
    "z_presto = 2*labels_df.loc[test_indices]['z_presto_ACCEL_1200'].abs().values.reshape(test_indices.shape[0],1)\n",
    "f_presto = ((1/(labels_df.loc[test_indices]['p_presto_ACCEL_1200']*freq_res)) - labels_df.loc[test_indices]['chunk_start']).values.reshape(test_indices.shape[0],1)"
   ]
  },
  {
   "cell_type": "code",
   "execution_count": 16,
   "metadata": {},
   "outputs": [],
   "source": [
    "Y_presto = np.concatenate((f_presto,z_presto),axis=1).reshape(Y_test.shape[0],Y_test.shape[1],1)"
   ]
  },
  {
   "cell_type": "code",
   "execution_count": 19,
   "metadata": {},
   "outputs": [],
   "source": [
    "#Y_pred = Y_pred_runBD\n",
    "for i in range(Y_test.shape[0]):\n",
    "    ind = test_indices[i]\n",
    "    chunk_index = labels_df.loc[ind,'chunk_start']\n",
    "    freq = chunk_index + Y_pred[i,0]\n",
    "    #freq2 = chunk_index + Y_test[i,1]\n",
    "    labels_df.at[ind,'p_pred'] = 1/(freq*freq_res)\n",
    "    # if freq1 < freq2:\n",
    "    #     labels_df.at[ind,'pred_freq_index0'] = freq1\n",
    "    #     labels_df.at[ind,'pred_freq_index1'] = freq2\n",
    "\n",
    "for i in range(Y_test.shape[0]):\n",
    "    ind = test_indices[i]\n",
    "    z = labels_df.loc[ind,'z']\n",
    "    if z > 0:\n",
    "       labels_df.at[ind,'z_pred'] = Y_pred[i,1]/2\n",
    "    else:\n",
    "        labels_df.at[ind,'z_pred'] = -Y_pred[i,1]/2 "
   ]
  },
  {
   "cell_type": "code",
   "execution_count": 22,
   "metadata": {},
   "outputs": [],
   "source": [
    "labels_df.to_csv('meta_data/labels_runBD.csv',index=False)"
   ]
  },
  {
   "cell_type": "code",
   "execution_count": null,
   "metadata": {},
   "outputs": [],
   "source": [
    "snr_range = labels_df['snr'].values\n",
    "snr_bins = np.array([0 ,0.01, 0.068, 0.126, 0.184, 0.242, 0.3  ])\n",
    "\n",
    "for snr_group in [0,1,2,3,4,5]:\n",
    "\n",
    "    train_indices_group = labels_df['# ind'][(snr_range > snr_bins[snr_group]) & (snr_range < snr_bins[snr_group + 1]) & (labels_df['status'] == 'train')].values\n",
    "    test_indices_group = labels_df['# ind'][(snr_range > snr_bins[snr_group]) & (snr_range < snr_bins[snr_group + 1]) & (labels_df['status'] == 'test')].values\n",
    "    val_indices_group = labels_df['# ind'][(snr_range > snr_bins[snr_group]) & (snr_range < snr_bins[snr_group + 1]) & (labels_df['status'] == 'val')].values\n",
    "\n",
    "    train_indices_small = find_indices(train_indices_group, train_indices)\n",
    "    test_indices_small = find_indices(test_indices_group, test_indices)\n",
    "    val_indices_small = find_indices(val_indices_group, val_indices)\n",
    "    \n",
    "    accuracy, _ = period_accuracy(Y_test[test_indices_small], Y_pred[test_indices_small])\n",
    "    median, _ = median_percent_deviation(Y_test[test_indices_small], Y_pred[test_indices_small])\n",
    "    print(\"Snr group: \",snr_group)\n",
    "    print(\"Period accuracy: \", accuracy)\n",
    "    print(\"Median percent deviation: \", median)\n",
    "    # accuracy, _ = period_accuracy(Y_test[test_indices_small], Y_pred_high_snr[test_indices_small])\n",
    "    # median, _ = median_percent_deviation(Y_test[test_indices_small], Y_pred_high_snr[test_indices_small])\n",
    "    # print(\"Period accuracy high snr: \", accuracy)\n",
    "    # print(\"Median percent deviation high snr: \", median)\n",
    "    accuracy, _ = period_accuracy(Y_test[test_indices_small], Y_presto[test_indices_small])\n",
    "    median, _ = median_percent_deviation(Y_test[test_indices_small], Y_presto[test_indices_small])\n",
    "    print(\"Period accuracy presto: \", accuracy)\n",
    "    print(\"Median percent deviation presto: \", median)\n",
    "    print(\"##################################################### \\n\\n\")"
   ]
  },
  {
   "cell_type": "code",
   "execution_count": 18,
   "metadata": {},
   "outputs": [
    {
     "name": "stdout",
     "output_type": "stream",
     "text": [
      "Period accuracy presto:  [12.462462, 2.027027]\n",
      "Median percent deviation presto:  [3.5301273, 26.143143]\n"
     ]
    }
   ],
   "source": [
    "accuracy,nans_acc = period_accuracy(Y_pred, Y_test)\n",
    "median,nans_med = median_percent_deviation(Y_pred, Y_test)\n",
    "print(\"Period accuracy presto: \", accuracy)\n",
    "print(\"Median percent deviation presto: \", median)"
   ]
  },
  {
   "cell_type": "code",
   "execution_count": null,
   "metadata": {},
   "outputs": [],
   "source": [
    "files = glob.glob(f'/hercules/results/atya/BinaryML/sims/{run}/dat_inf_files/*_ACCEL_1200')\n",
    "for i,file in enumerate(files):\n",
    "    ind = int(file[60:-13])\n",
    "    print(ind,file)\n",
    "    actual_period = labels_df['p_middle'].loc[ind]\n",
    "    with open(file) as f:\n",
    "        con = f.readlines()\n",
    "    periods = []\n",
    "    cands = []\n",
    "    for i in range(3,len(con)):\n",
    "        if con[i] == '\\n':\n",
    "            break\n",
    "        else:\n",
    "            temp_list = re.findall(r'\\d+\\.\\d+|\\d+', con[i])\n",
    "            cands.append(int(temp_list[0]))\n",
    "            periods.append(float(temp_list[5])/1000)\n",
    "    periods = np.array(periods)\n",
    "    argmin = np.argmin(np.abs(periods-actual_period))\n",
    "    labels_df.at[ind,'presto_nearest_period_accel_1200'] = periods[argmin]\n",
    "    labels_df.at[ind,'presto_nearest_cand_num_accel_1200'] = cands[argmin]"
   ]
  },
  {
   "cell_type": "code",
   "execution_count": 7,
   "metadata": {},
   "outputs": [],
   "source": [
    "run = 'runBD'\n",
    "files_list_temp = glob.glob(f'/hercules/results/atya/BinaryML/sims/{run}/fold_output_pred/*pfd.bestprof')\n",
    "list_dicts_temp = []\n",
    "\n",
    "for i in range(len(files_list_temp)):\n",
    "    file = files_list_temp[i]\n",
    "    with open(file, 'r') as file:\n",
    "        data_dict = {}\n",
    "        for line in file:\n",
    "            # Remove any new line characters\n",
    "            line = line.strip()\n",
    "\n",
    "            # Skip empty lines or comment lines\n",
    "            if not line:\n",
    "                continue\n",
    "            if '###############################' in line:\n",
    "                break\n",
    "            # Split the line by the '=' character\n",
    "\n",
    "            key,value = re.split('=|>|<', line)\n",
    "\n",
    "            #key, value = line.split('=|>|<')\n",
    "\n",
    "            # Remove any leading or trailing whitespace\n",
    "            key = key.strip()[2:]\n",
    "            value = value.strip()\n",
    "\n",
    "            # Add the key-value pair to the dictionary\n",
    "            data_dict[key] = value\n",
    "        list_dicts_temp.append(data_dict)"
   ]
  },
  {
   "cell_type": "code",
   "execution_count": 8,
   "metadata": {},
   "outputs": [],
   "source": [
    "for item in list_dicts_temp:\n",
    "    temp = item['Prob(Noise)']\n",
    "    temp_list = temp.split(' ')\n",
    "    item['prob'] = float(temp_list[0])\n",
    "    item['noise'] = float(temp_list[3][2:])\n",
    "    temp_p = item['P_topo (ms)']\n",
    "    item['p_presto']= float(temp_p.split('+/-')[0])\n",
    "    temp_pd = item[\"P'_topo (s/s)\"]\n",
    "    item['pd_presto'] = float(temp_pd.split('+/-')[0])"
   ]
  },
  {
   "cell_type": "code",
   "execution_count": 9,
   "metadata": {},
   "outputs": [],
   "source": [
    "for dic in list_dicts_temp:\n",
    "    file_name = dic['Input file']\n",
    "    if file_name in labels_df['file_name'].values:\n",
    "        # labels_df.loc[labels_df['file_name']==file_name,'fold_snr_presto_ACCEL_1200'] = dic['noise']\n",
    "        # labels_df.loc[labels_df['file_name']==file_name,'p_presto_ACCEL_1200'] = dic['p_presto']/1000\n",
    "        # labels_df.loc[labels_df['file_name']==file_name,'pd_presto_ACCEL_1200'] = dic['pd_presto']\n",
    "        labels_df.loc[labels_df['file_name']==file_name,'fold_snr_pred'] = dic['noise']\n"
   ]
  },
  {
   "cell_type": "code",
   "execution_count": 15,
   "metadata": {},
   "outputs": [
    {
     "data": {
      "text/plain": [
       "Index(['Unnamed: 0', 'Unnamed: 0.1', 'period', 'snr', 'width', 'bper', 'binc',\n",
       "       'bcmass', 'bphase', 'ind_orignal', '# ind', 'a', 'p_middle', 'pd', 'z',\n",
       "       'a_max', 'z_max', 'p_fold', 'asini', 'periastron_time_mjd', 'file_name',\n",
       "       'fold_snr_theory', 'file_found', 'status', 'chunk_start',\n",
       "       'presto_nearest_period_accel_1200',\n",
       "       'presto_nearest_cand_num_accel_1200', 'fold_snr_presto_ACCEL_1200',\n",
       "       'p_presto_ACCEL_1200', 'pd_presto_ACCEL_1200', 'a_presto_ACCEL_1200',\n",
       "       'z_presto_ACCEL_1200', 'fold_snr_true', 'p_pred', 'z_pred', 'a_pred',\n",
       "       'pd_pred', 'p_fold_pred', 'fold_snr_pred', 'mismatch_presto',\n",
       "       'mismatch_pred', 'mismatch_true'],\n",
       "      dtype='object')"
      ]
     },
     "execution_count": 15,
     "metadata": {},
     "output_type": "execute_result"
    }
   ],
   "source": [
    "labels_df.columns"
   ]
  },
  {
   "cell_type": "code",
   "execution_count": 14,
   "metadata": {},
   "outputs": [],
   "source": [
    "run = 'runBD'\n",
    "labels_df.to_csv(f'meta_data/labels_{run}.csv',index=False)"
   ]
  },
  {
   "cell_type": "code",
   "execution_count": 13,
   "metadata": {},
   "outputs": [],
   "source": [
    "labels_df['mismatch_presto'] = 1 - (labels_df['fold_snr_presto_ACCEL_1200']/labels_df['fold_snr_theory'])\n",
    "labels_df['mismatch_pred'] = 1 - (labels_df['fold_snr_pred']/labels_df['fold_snr_theory'])\n",
    "labels_df['mismatch_true'] = 1 - (labels_df['fold_snr_true']/labels_df['fold_snr_theory'])"
   ]
  },
  {
   "cell_type": "code",
   "execution_count": 24,
   "metadata": {},
   "outputs": [
    {
     "name": "stdout",
     "output_type": "stream",
     "text": [
      "0.008311647822182898 3.198728992330038e-08\n"
     ]
    }
   ],
   "source": [
    "p_dev = np.abs(labels_df.loc[test_indices]['p_presto_ACCEL_1200'] - labels_df.loc[test_indices]['p_fold'])\n",
    "pd_dev = np.abs(labels_df.loc[test_indices]['pd_presto_ACCEL_1200'] - labels_df.loc[test_indices]['pd'])\n",
    "p_std = np.std(p_dev)\n",
    "pd_std = np.std(pd_dev)\n",
    "print(np.std(p_dev),np.std(pd_dev))"
   ]
  },
  {
   "cell_type": "code",
   "execution_count": 27,
   "metadata": {},
   "outputs": [],
   "source": [
    "# filter all values with period greater than 1 standard deviation\n",
    "labels_df_fil = labels_df.loc[test_indices]\n",
    "labels_df_fil = labels_df_fil[(labels_df_fil['p_presto_ACCEL_1200'] < ((labels_df_fil['p_fold'] + p_std))) & (labels_df_fil['p_presto_ACCEL_1200'] > ((labels_df_fil['p_fold'] - p_std)))]\n",
    "labels_df_fil = labels_df_fil[(labels_df_fil['pd_presto_ACCEL_1200'] < ((labels_df_fil['pd'] + pd_std))) & (labels_df_fil['pd_presto_ACCEL_1200'] > ((labels_df_fil['pd'] - pd_std)))]"
   ]
  },
  {
   "cell_type": "code",
   "execution_count": 29,
   "metadata": {},
   "outputs": [
    {
     "name": "stdout",
     "output_type": "stream",
     "text": [
      "Presto accuracy : 0.8746246246246246\n"
     ]
    }
   ],
   "source": [
    "print(f\"Presto accuracy : {len(labels_df_fil)/len(labels_df.loc[test_indices])}\")"
   ]
  },
  {
   "cell_type": "code",
   "execution_count": 31,
   "metadata": {},
   "outputs": [
    {
     "name": "stdout",
     "output_type": "stream",
     "text": [
      "       mismatch_true  mismatch_presto  mismatch_pred\n",
      "count    1165.000000      1165.000000    1165.000000\n",
      "mean        0.046959         0.036560       0.275177\n",
      "std         0.089792         0.120035       0.215631\n",
      "min        -0.192308        -0.431373      -0.117647\n",
      "25%        -0.006098        -0.012821       0.060000\n",
      "50%         0.022472         0.019355       0.275862\n",
      "75%         0.072917         0.069444       0.467066\n",
      "max         0.573034         1.000000       0.751825\n"
     ]
    }
   ],
   "source": [
    "test_indices_fil = labels_df_fil['# ind'].values\n",
    "# format in a table mismathes from true, presto, pred\n",
    "print(labels_df_fil[['mismatch_true','mismatch_presto','mismatch_pred']].describe())"
   ]
  },
  {
   "cell_type": "code",
   "execution_count": 33,
   "metadata": {},
   "outputs": [
    {
     "data": {
      "text/plain": [
       "<matplotlib.legend.Legend at 0x2aacb0518730>"
      ]
     },
     "execution_count": 33,
     "metadata": {},
     "output_type": "execute_result"
    },
    {
     "data": {
      "image/png": "[encoded data removed]",
      "text/plain": [
       "<Figure size 640x480 with 1 Axes>"
      ]
     },
     "metadata": {},
     "output_type": "display_data"
    }
   ],
   "source": [
    "bins = np.linspace(0,1,100)\n",
    "_ = plt.hist(labels_df_fil['mismatch_pred'],bins=bins,alpha=0.5,label='pred')\n",
    "_ = plt.hist(labels_df_fil['mismatch_presto'],bins=bins,alpha=0.3,label='presto')\n",
    "#scale y_axis\n",
    "plt.yscale('log')\n",
    "plt.legend()\n",
    "#plt.savefig('plots/mismatch_pred_and_presto_runBC.png',dpi=300)"
   ]
  },
  {
   "cell_type": "code",
   "execution_count": 9,
   "metadata": {},
   "outputs": [],
   "source": [
    "labels_df_fil = labels_df"
   ]
  },
  {
   "cell_type": "code",
   "execution_count": 35,
   "metadata": {},
   "outputs": [
    {
     "data": {
      "text/plain": [
       "array([        nan,         nan,  0.02571455, ...,  0.13047595,\n",
       "       -0.75702569, -0.26333788])"
      ]
     },
     "execution_count": 35,
     "metadata": {},
     "output_type": "execute_result"
    }
   ],
   "source": [
    "labels_df_fil['z'].values - labels_df_fil['z_max_from_pvol'].values"
   ]
  },
  {
   "cell_type": "code",
   "execution_count": 36,
   "metadata": {},
   "outputs": [
    {
     "data": {
      "text/plain": [
       "array([1.69417053e-01, 8.03987025e+01, 1.17877462e-02, ...,\n",
       "       3.98984307e+00, 3.28224093e-01, 2.63359664e-01])"
      ]
     },
     "execution_count": 36,
     "metadata": {},
     "output_type": "execute_result"
    }
   ],
   "source": [
    "np.abs(labels_df_fil['z'].values - labels_df_fil['z_presto_ACCEL_1200'].values)"
   ]
  },
  {
   "cell_type": "code",
   "execution_count": 37,
   "metadata": {},
   "outputs": [
    {
     "data": {
      "text/plain": [
       "array([-10.45548043,  20.2717469 ,  -9.41178545, ...,   8.11485095,\n",
       "       -37.27265069,  31.61166212])"
      ]
     },
     "execution_count": 37,
     "metadata": {},
     "output_type": "execute_result"
    }
   ],
   "source": [
    "labels_df_fil['z'].values"
   ]
  },
  {
   "cell_type": "code",
   "execution_count": 53,
   "metadata": {},
   "outputs": [
    {
     "data": {
      "text/plain": [
       "([4.659102],\n",
       " [<tf.Tensor: shape=(9, 1), dtype=int64, numpy=\n",
       "  array([[   0],\n",
       "         [   1],\n",
       "         [  23],\n",
       "         [2342],\n",
       "         [2351],\n",
       "         [2979],\n",
       "         [3028],\n",
       "         [9943],\n",
       "         [9945]])>])"
      ]
     },
     "execution_count": 53,
     "metadata": {},
     "output_type": "execute_result"
    }
   ],
   "source": [
    "median_percent_deviation(labels_df_fil['z_max_from_pvol'].values.reshape(-1,1),labels_df_fil['z'].values.reshape(-1,1))"
   ]
  },
  {
   "cell_type": "code",
   "execution_count": 41,
   "metadata": {},
   "outputs": [
    {
     "data": {
      "text/plain": [
       "nan"
      ]
     },
     "execution_count": 41,
     "metadata": {},
     "output_type": "execute_result"
    }
   ],
   "source": [
    "np.mean(labels_df_fil['z_presto_ACCEL_1200'].values - labels_df_fil['z'].values)"
   ]
  },
  {
   "cell_type": "code",
   "execution_count": null,
   "metadata": {},
   "outputs": [],
   "source": [
    "for col in ['width', 'bper', 'binc', 'bcmass',\n",
    "       'bphase', 'a', 'p_middle', 'z', 'a_max',\n",
    "       'snr','fold_snr_theory']:\n",
    "       #Make 2 subplots\n",
    "       X = labels_df_fil[col].values\n",
    "       fig, axs = plt.subplots(1, 3, figsize=(18, 5))\n",
    "       _ = axs[2].hist(X, bins=100,color='cyan',label='all')\n",
    "       axs[2].set_xlabel(col)\n",
    "       axs[2].set_ylabel('Counts')\n",
    "       \n",
    "       Y = np.abs(labels_df_fil['z'].values - labels_df_fil['z_max_from_pvol'].values)\n",
    "       \n",
    "       sc = axs[1].scatter(X, Y, marker = '.',c=labels_df_fil['snr'].values,alpha=0.5,label='pred',cmap='viridis')\n",
    "       axs[1].set_xlabel(col)\n",
    "       axs[1].set_ylabel('z_deviation')\n",
    "       #xs[1].set_ylim(-0.4,1)\n",
    "       plt.colorbar(sc,ax=axs[1],label='snr')\n",
    "\n",
    "       # axs[0].scatter(X, Y, marker = '.',c='maroon',alpha=0.5,label='pred')\n",
    "       # axs[0].set_xlabel(col)\n",
    "       # axs[0].set_ylabel('Mismatch')\n",
    "       \n",
    "       Y = np.abs(labels_df_fil['z'].values - labels_df_fil['z_presto_ACCEL_1200'].values)\n",
    "       presto_scatter = axs[0].scatter(X, Y, marker='D', c=labels_df_fil['snr'].values, alpha=0.3, label='presto',cmap='viridis')\n",
    "       presto_scatter.set_facecolor('none')\n",
    "\n",
    "\n",
    "       plt.legend()\n",
    "       plt.show()\n",
    "       plt.close()"
   ]
  },
  {
   "cell_type": "code",
   "execution_count": null,
   "metadata": {},
   "outputs": [],
   "source": [
    "for col in ['width', 'bper', 'binc', 'bcmass',\n",
    "       'bphase', 'a', 'p_middle', 'z', 'a_max',\n",
    "       'snr','fold_snr_theory']:\n",
    "       #Make 2 subplots\n",
    "       X = labels_df_fil[col].values\n",
    "       fig, axs = plt.subplots(1, 3, figsize=(18, 5))\n",
    "       _ = axs[2].hist(X, bins=100,color='cyan',label='all')\n",
    "       axs[2].set_xlabel(col)\n",
    "       axs[2].set_ylabel('Counts')\n",
    "       \n",
    "       Y = labels_df_fil['mismatch_pred'].values\n",
    "       \n",
    "       sc = axs[1].scatter(X, Y, marker = '.',c=labels_df_fil['snr'].values,alpha=0.5,label='pred',cmap='viridis')\n",
    "       axs[1].set_xlabel(col)\n",
    "       axs[1].set_ylabel('Mismatch')\n",
    "       axs[1].set_ylim(-0.4,1)\n",
    "       plt.colorbar(sc,ax=axs[1],label='snr')\n",
    "\n",
    "       axs[0].scatter(X, Y, marker = '.',c='maroon',alpha=0.5,label='pred')\n",
    "       axs[0].set_xlabel(col)\n",
    "       axs[0].set_ylabel('Mismatch') \n",
    "       \n",
    "       Y = labels_df_fil['mismatch_presto'].values\n",
    "       presto_scatter = axs[0].scatter(X, Y, marker='D', c='blue',edgecolors='blue', alpha=0.3, label='presto')\n",
    "       presto_scatter.set_facecolor('none')\n",
    "\n",
    "\n",
    "       plt.legend()\n",
    "       plt.show()\n",
    "       plt.close()"
   ]
  },
  {
   "cell_type": "code",
   "execution_count": null,
   "metadata": {},
   "outputs": [],
   "source": [
    "import matplotlib.gridspec as gridspec\n",
    "\n",
    "for col in ['width', 'bper', 'binc', 'bcmass',\n",
    "       'bphase', 'a', 'p_middle', 'z', 'a_max',\n",
    "       'snr', 'fold_snr_theory']:\n",
    "    X = labels_df_fil[col].values\n",
    "\n",
    "    fig = plt.figure(figsize=(12, 4))\n",
    "    gs = gridspec.GridSpec(1, 4, width_ratios=[3, 3, 1, 3],wspace=0)  # Adjust width ratios here\n",
    "    \n",
    "    axs = [plt.subplot(gs[i]) for i in [0, 1, 3]]  # Empty subplot at index 1 for padding\n",
    "\n",
    "    axs[2].hist(X, bins=100, color='cyan', label='all')\n",
    "    axs[2].set_xlabel(col)\n",
    "    axs[2].set_ylabel('Counts')\n",
    "       \n",
    "    Y = labels_df_fil['mismatch_pred'].values\n",
    "\n",
    "    sc = axs[1].scatter(X, Y, marker='.', c=labels_df_fil['snr'].values, alpha=0.5, label='pred', cmap='viridis')\n",
    "    axs[1].set_xlabel(col)\n",
    "    axs[1].set_ylim(-0.4, 1)\n",
    "    plt.colorbar(sc, ax=axs[1], label='snr')\n",
    "\n",
    "    axs[0].scatter(X, Y, marker='.', c='maroon', alpha=0.5, label='pred')\n",
    "    axs[0].set_xlabel(col)\n",
    "    axs[0].set_ylabel('Mismatch')\n",
    "\n",
    "    Y = labels_df_fil['mismatch_presto'].values\n",
    "    presto_scatter = axs[0].scatter(X, Y, marker='D', c='blue', edgecolors='blue', alpha=0.3, label='presto')\n",
    "    presto_scatter.set_facecolor('none')\n",
    "\n",
    "    # Set y-axis labels for axs[1] to match axs[0]\n",
    "    axs[1].set_yticks(axs[0].get_yticks())\n",
    "    axs[1].set_yticklabels(axs[0].get_yticklabels())\n",
    "\n",
    "    plt.legend()\n",
    "    plt.tight_layout()  # Adjust overall layout\n",
    "    plt.show()\n",
    "    plt.close()\n",
    "    \n",
    "\n"
   ]
  },
  {
   "cell_type": "code",
   "execution_count": null,
   "metadata": {},
   "outputs": [],
   "source": [
    "# Mismatch plots\n",
    "mask = labels_df['status'] == 'test'\n",
    "mismatch_pred = 1-labels_df[mask]['fold_snr_pred']/labels_df[mask]['fold_snr_thoery']\n",
    "mask = ~labels_df['fold_snr_presto_ACCEL_1200'].isna()\n",
    "mismatch_presto = 1-labels_df[mask]['fold_snr_presto_ACCEL_1200']/labels_df[mask]['fold_snr_thoery']\n",
    "print(np.mean(mismatch_pred),np.median(mismatch_pred))\n",
    "print(np.mean(mismatch_presto),np.median(mismatch_presto))\n",
    "plt.text(0.1,0.9,f'pred: {np.mean(mismatch_pred):.3f}, {np.median(mismatch_pred):.3f}',transform=plt.gca().transAxes)\n",
    "plt.text(0.1,0.8,f'presto: {np.mean(mismatch_presto):.3f}, {np.median(mismatch_presto):.3f}',transform=plt.gca().transAxes)\n",
    "bins = np.linspace(0,1,100)\n",
    "_ = plt.hist(mismatch_pred,bins=bins,alpha=0.5,label='pred')\n",
    "_ = plt.hist(mismatch_presto,bins=bins,alpha=0.3,label='presto')\n",
    "#scale y_axis\n",
    "plt.yscale('log')\n",
    "plt.legend()\n",
    "#plt.savefig('plots/mismatch_pred_and_presto_runBC.png',dpi=300)"
   ]
  },
  {
   "cell_type": "code",
   "execution_count": null,
   "metadata": {},
   "outputs": [],
   "source": [
    "# Mismatch plots\n",
    "#mask = labels_df['status'] == 'test'\n",
    "mask = ~labels_df['fold_snr_presto_ACCEL_1200'].isna()\n",
    "mismatch_pred = 1-labels_df[mask]['fold_snr_presto_ACCEL_1200']/labels_df[mask]['fold_snr_theory']\n",
    "print(np.mean(mismatch_pred),np.median(mismatch_pred))\n",
    "_ = plt.hist(mismatch_pred,bins=100)"
   ]
  },
  {
   "cell_type": "code",
   "execution_count": null,
   "metadata": {},
   "outputs": [],
   "source": [
    "mask = (~labels_df['fold_snr_presto_ACCEL_1200'].isna()) & (labels_df['fold_snr_theory']>5)\n",
    "mismatch_pred = 1-labels_df[mask]['fold_snr_presto_ACCEL_1200']/labels_df[mask]['fold_snr_theory']\n",
    "print(np.mean(mismatch_pred),np.median(mismatch_pred))\n",
    "_ = plt.hist(mismatch_pred,bins=100,label='presto',alpha=0.3,color=\"green\")\n",
    "mask = (labels_df['fold_snr_theory']>5)\n",
    "mismatch_true = 1-labels_df[mask]['fold_snr_true']/labels_df[mask]['fold_snr_theory']\n",
    "print(np.mean(mismatch_true),np.median(mismatch_pred))\n",
    "_ = plt.hist(mismatch_true,bins=100,label='true',alpha=0.3,color='red')\n",
    "plt.xlabel('Mismatch')\n",
    "plt.title('Mismatch distribution for presto and true')\n",
    "plt.legend()"
   ]
  },
  {
   "cell_type": "code",
   "execution_count": null,
   "metadata": {},
   "outputs": [],
   "source": [
    "#mask = np.ones((10000))#(~labels_df['fold_snr_presto_ACCEL_1200'].isna()) & (labels_df['fold_snr_theory']>10)\n",
    "mismatch_pred = 1-labels_df['fold_snr_true']/labels_df['fold_snr_theory']\n",
    "print(np.mean(mismatch_pred),np.median(mismatch_pred))\n",
    "_ = plt.hist(mismatch_pred,bins=100)"
   ]
  },
  {
   "cell_type": "code",
   "execution_count": null,
   "metadata": {},
   "outputs": [],
   "source": [
    "# Mismatch plots\n",
    "mask = labels_df['status'] == 'test'\n",
    "mismatch_pred = 1-labels_df[mask]['fold_snr_true']/labels_df[mask]['fold_snr_thoery']\n",
    "print(np.mean(mismatch_pred),np.median(mismatch_pred))\n",
    "_ = plt.hist(mismatch_pred,bins=100)"
   ]
  },
  {
   "cell_type": "code",
   "execution_count": 39,
   "metadata": {},
   "outputs": [],
   "source": [
    "labels_df.to_csv(f'meta_data/labels_runBD.csv',index=False)"
   ]
  },
  {
   "cell_type": "code",
   "execution_count": 25,
   "metadata": {},
   "outputs": [],
   "source": [
    "labels_df['mismatch_pred'] = 1-labels_df[mask]['fold_snr_pred']/labels_df[mask]['fold_snr_thoery']\n",
    "labels_df['mismatch_true'] = 1-labels_df[mask]['fold_snr_true']/labels_df[mask]['fold_snr_thoery']\n",
    "labels_df['mismatch_presto_ACCEL_1200'] = 1-labels_df[mask]['fold_snr_presto_ACCEL_1200']/labels_df[mask]['fold_snr_thoery']"
   ]
  },
  {
   "cell_type": "code",
   "execution_count": null,
   "metadata": {},
   "outputs": [],
   "source": [
    "plt.scatter(labels_df['snr'],labels_df['mismatch_pred'])"
   ]
  },
  {
   "cell_type": "code",
   "execution_count": 7,
   "metadata": {},
   "outputs": [],
   "source": [
    "labels_df.to_csv('meta_data/labels_runBD.csv',index=False)"
   ]
  },
  {
   "cell_type": "code",
   "execution_count": 41,
   "metadata": {},
   "outputs": [
    {
     "data": {
      "text/plain": [
       "Index(['period', 'snr', 'width', 'bper', 'binc', 'bcmass', 'bphase',\n",
       "       'ind_orignal', '# ind', 'a', 'p_middle', 'pd', 'z', 'a_max', 'z_max',\n",
       "       'p_fold', 'asini', 'periastron_time_mjd', 'file_name',\n",
       "       'fold_snr_theory', 'file_found', 'status', 'chunk_start',\n",
       "       'presto_nearest_period_accel_1200',\n",
       "       'presto_nearest_cand_num_accel_1200', 'fold_snr_presto_ACCEL_1200',\n",
       "       'p_presto_ACCEL_1200', 'pd_presto_ACCEL_1200'],\n",
       "      dtype='object')"
      ]
     },
     "execution_count": 41,
     "metadata": {},
     "output_type": "execute_result"
    }
   ],
   "source": [
    "labels_df.columns"
   ]
  },
  {
   "cell_type": "code",
   "execution_count": null,
   "metadata": {},
   "outputs": [],
   "source": [
    "labels_df[labels_df['presto_nearest_cand_num_accel_1200'].isna()]"
   ]
  },
  {
   "cell_type": "code",
   "execution_count": 24,
   "metadata": {},
   "outputs": [
    {
     "data": {
      "text/plain": [
       "(1332, 2, 1)"
      ]
     },
     "execution_count": 24,
     "metadata": {},
     "output_type": "execute_result"
    }
   ],
   "source": [
    "Y_pred.shape"
   ]
  },
  {
   "cell_type": "code",
   "execution_count": 14,
   "metadata": {},
   "outputs": [],
   "source": [
    "labels_df.to_csv('meta_data/labels_runBD.csv',index=False)"
   ]
  },
  {
   "cell_type": "code",
   "execution_count": null,
   "metadata": {},
   "outputs": [],
   "source": [
    "labels_df[~labels_df['presto_nearest_cand_num_accel_1200'].isna()]['snr'].hist(bins=100)"
   ]
  },
  {
   "cell_type": "code",
   "execution_count": null,
   "metadata": {},
   "outputs": [],
   "source": [
    "import seaborn as sns\n",
    "# Create a corner plot (pairplot)\n",
    "pairplot = sns.pairplot(labels_df[['mismatch_pred',\n",
    "                         'mismatch_true',\n",
    "                         'mismatch_presto_ACCEL_1200','period', 'snr', 'width', 'bper', 'binc', 'bcmass', 'bphase', 'z']], diag_kind='hist', markers='o', plot_kws={'alpha': 0.5})\n",
    "# Save the plot as PDF with high resolution\n",
    "pairplot.savefig('plots/cornerplot_all_vars.pdf',dpi = 800)"
   ]
  },
  {
   "cell_type": "code",
   "execution_count": null,
   "metadata": {},
   "outputs": [],
   "source": [
    "plt.hist(metric,bins=100)\n",
    "plt.hist(metric_true,bins=100,color='r',alpha=0.5)\n",
    "plt.title('Mismatch for the case of zmax 1200 but only the first candidate fold presto search')\n",
    "plt.legend(['Presto','True'])\n",
    "plt.xlabel('Mismatch')\n",
    "plt.ylabel('Counts')\n",
    "plt.text(0.4, 120, f'Median mismatch presto: {np.median(metric):.3f}')\n",
    "plt.text(0.4, 100, f'Mean mismatch presto: {np.mean(metric):.3f}')\n",
    "plt.savefig('mismatch_presto_zmax_200_only_cand1.png')"
   ]
  },
  {
   "cell_type": "code",
   "execution_count": null,
   "metadata": {},
   "outputs": [],
   "source": [
    "mask = (labels_df['mismatch_pred'] < labels_df['mismatch_presto_ACCEL_1200']) & (labels_df['status'] == 'test')\n",
    "bins = np.linspace(3,30,100)\n",
    "labels_df[mask]['bper'].hist(bins=bins)\n",
    "plt.xlabel('Binary orbital period')\n",
    "plt.title('Mismatch NN < Mismatch Presto (zmax=1200)')\n",
    "plt.savefig('plots/mismatch_NN_less_than_presto_runBC.png')"
   ]
  },
  {
   "cell_type": "code",
   "execution_count": null,
   "metadata": {},
   "outputs": [],
   "source": [
    "mask = (labels_df['mismatch_pred'] < labels_df['mismatch_presto_ACCEL_1200']) & (labels_df['status'] == 'test')\n",
    "bins = np.linspace(3, 30, 100)\n",
    "\n",
    "# Calculate the histogram\n",
    "hist1, _ = np.histogram(labels_df['bper'], bins=bins)\n",
    "\n",
    "# Filtered data histogram\n",
    "filtered_hist, _ = np.histogram(labels_df[mask]['bper'], bins=bins)\n",
    "\n",
    "# Normalize the filtered histogram by the total histogram\n",
    "normalized_hist = filtered_hist / (hist1 + 1)\n",
    "\n",
    "# Plot the normalized histogram\n",
    "plt.bar(bins[:-1], normalized_hist, width=np.diff(bins), align='edge')\n",
    "plt.xlabel('Binary orbital period')\n",
    "plt.title('Mismatch NN < Mismatch Presto (zmax=1200) normalized')\n",
    "plt.savefig('plots/mismatch_NN_less_than_presto_normlaized_runBC.png')\n",
    "plt.show()\n"
   ]
  },
  {
   "cell_type": "code",
   "execution_count": null,
   "metadata": {},
   "outputs": [],
   "source": [
    "mask = (labels_df['mismatch_pred'] > labels_df['mismatch_presto_ACCEL_1200']) & (labels_df['status'] == 'test')\n",
    "bins = np.linspace(3,30,100)\n",
    "labels_df[mask]['bper'].hist(bins=bins)\n",
    "plt.xlabel('Binary orbital period')\n",
    "plt.title('Mismatch NN > Mismatch Presto (zmax=1200)')\n",
    "plt.savefig('plots/mismatch_NN_more_than_presto_runBC.png')"
   ]
  },
  {
   "cell_type": "code",
   "execution_count": null,
   "metadata": {},
   "outputs": [],
   "source": [
    "mask = (labels_df['mismatch_pred'] > labels_df['mismatch_presto_ACCEL_1200']) & (labels_df['status'] == 'test')\n",
    "bins = np.linspace(3, 30, 100)\n",
    "\n",
    "# Calculate the histogram\n",
    "hist1, _ = np.histogram(labels_df['bper'], bins=bins)\n",
    "\n",
    "# Filtered data histogram\n",
    "filtered_hist, _ = np.histogram(labels_df[mask]['bper'], bins=bins)\n",
    "\n",
    "# Normalize the filtered histogram by the total histogram\n",
    "normalized_hist = filtered_hist / (hist1 + 1)\n",
    "\n",
    "# Plot the normalized histogram\n",
    "plt.bar(bins[:-1], normalized_hist, width=np.diff(bins), align='edge')\n",
    "plt.xlabel('Binary orbital period')\n",
    "plt.title('Mismatch NN < Mismatch Presto (zmax=1200) normalized')\n",
    "plt.savefig('plots/mismatch_NN_more_than_presto_normlaized_runBC.png')\n",
    "plt.show()"
   ]
  },
  {
   "cell_type": "code",
   "execution_count": null,
   "metadata": {},
   "outputs": [],
   "source": [
    "mask = labels_df['status'] == 'test'\n",
    "plt.plot(labels_df[mask]['bper'],labels_df[mask]['mismatch_pred'],'o',label='pred',alpha=0.2)\n",
    "plt.plot(labels_df[mask]['bper'],labels_df[mask]['mismatch_presto_ACCEL_1200'],'o',label='presto',alpha=0.2)\n",
    "plt.ylabel('Mismatch')\n",
    "plt.legend()\n",
    "plt.xlabel('Binary orbital period')\n",
    "plt.savefig('plots/mismatch_vs_porb_runBC.png')"
   ]
  },
  {
   "cell_type": "code",
   "execution_count": null,
   "metadata": {},
   "outputs": [],
   "source": [
    "mask = (labels_df['mismatch_pred'] < labels_df['mismatch_presto_ACCEL_1200']) & (labels_df['status'] == 'test')\n",
    "#bins = np.linspace(3,30,100)\n",
    "labels_df[mask]['snr'].hist(bins=100)\n",
    "plt.xlabel('Binary orbital period')\n",
    "plt.title('Mismatch NN < Mismatch Presto (zmax=1200)')\n",
    "#plt.savefig('plots/mismatch_NN_less_than_presto_runBC.png')"
   ]
  },
  {
   "cell_type": "code",
   "execution_count": null,
   "metadata": {},
   "outputs": [],
   "source": [
    "mask = (labels_df['mismatch_pred'] > labels_df['mismatch_presto_ACCEL_1200']) & (labels_df['status'] == 'test')\n",
    "#bins = np.linspace(3,30,100)\n",
    "labels_df[mask]['snr'].hist(bins=100)\n",
    "plt.xlabel('Binary orbital period')\n",
    "plt.title('Mismatch NN > Mismatch Presto (zmax=1200)')\n",
    "#plt.savefig('plots/mismatch_NN_less_than_presto_runBC.png')"
   ]
  },
  {
   "cell_type": "code",
   "execution_count": null,
   "metadata": {},
   "outputs": [],
   "source": [
    "for val in labels_df.columns:\n",
    "    mask = labels_df['snr'] < 0.1\n",
    "    try:\n",
    "        plt.scatter(labels_df[mask]['snr'],labels_df[mask]['mismatch_pred']-labels_df[mask]['mismatch_presto_ACCEL_1200'],c = labels_df[mask][val])\n",
    "        plt.title(val)\n",
    "        plt.show()\n",
    "        plt.colorbar\n",
    "        plt.close()\n",
    "    except:\n",
    "        pass\n"
   ]
  },
  {
   "cell_type": "code",
   "execution_count": 66,
   "metadata": {},
   "outputs": [],
   "source": [
    "from functools import partial\n",
    "\n",
    "rslices = tf.convert_to_tensor(rslices, dtype=tf.float32)\n",
    "zarray = tf.convert_to_tensor(np.arange(200.0, -200.0, -8.0/256), dtype=tf.float32)\n",
    "max_r_slices = tf.convert_to_tensor(max_r_slices, dtype=tf.float32)\n",
    "y_true_array = tf.convert_to_tensor(Y[:,1].reshape(-1,), dtype=tf.float32)\n",
    "\n",
    "def loss_pvol_calc(index_true, index_pred, rslices, max_r_slice):\n",
    "    rslice_value = tf.gather_nd(rslices, [index_true, index_pred])\n",
    "    max_r_value = tf.gather(max_r_slice, index_true)\n",
    "    result = 1 - tf.divide(rslice_value, max_r_value)\n",
    "    #result = tf.abs(rslice_value - max_r_value)\n",
    "    result = tf.maximum(result, 0)\n",
    "    return tf.cast(result,tf.float32)\n",
    "\n",
    "def loss_function(y_true, y_pred, rslices, y_true_array, zarray, max_r_slice):\n",
    "    index_true_list = tf.map_fn(lambda y: find_z_ind(y_true_array, y), y_true, dtype=tf.int64)\n",
    "    index_pred_list = tf.map_fn(lambda y: find_z_ind(zarray, y), y_pred, dtype=tf.int64)\n",
    "    \n",
    "    # Reshape tensors to ensure they have the same shape\n",
    "    index_true_list = tf.reshape(index_true_list, shape=[-1, 1])\n",
    "    index_pred_list = tf.reshape(index_pred_list, shape=[-1, 1])\n",
    "    \n",
    "    #print(index_true_list.shape)\n",
    "    #print(index_pred_list.shape)\n",
    "\n",
    "    indices = tf.concat([index_true_list, index_pred_list], axis=-1)\n",
    "    loss2 = tf.map_fn(lambda ind: loss_pvol_calc(ind[0], ind[1], rslices, max_r_slice), indices, dtype=tf.float32)\n",
    "    loss1 = tf.square(y_true - y_pred)\n",
    "    loss2 = tf.reshape(tf.cast(loss2, tf.float32),[-1,])\n",
    "    loss1 = tf.cast(loss1, tf.float32)\n",
    "    loss2_factors = (200 - tf.cast(y_true, tf.float32))**2\n",
    "    loss = loss1 + tf.multiply(loss2_factors,loss2)\n",
    "    #print(loss1.shape)\n",
    "    #print(loss2.shape)\n",
    "    return loss\n",
    "\n",
    "\n",
    "\n",
    "# Create a version of your loss function with the extra arguments filled in\n",
    "custom_loss = partial(loss_function, rslices=rslices, y_true_array=y_true_array, zarray=zarray, max_r_slice=max_r_slices)\n",
    "\n",
    "# Ensure the new function only requires two arguments: y_true and y_pred\n",
    "custom_loss.__name__ = 'custom_loss'"
   ]
  },
  {
   "cell_type": "code",
   "execution_count": 15,
   "metadata": {},
   "outputs": [
    {
     "name": "stdout",
     "output_type": "stream",
     "text": [
      "Model: \"model\"\n",
      "__________________________________________________________________________________________________\n",
      "Layer (type)                    Output Shape         Param #     Connected to                     \n",
      "==================================================================================================\n",
      "input_1 (InputLayer)            [(None, 400, 1)]     0                                            \n",
      "__________________________________________________________________________________________________\n",
      "conv1d (Conv1D)                 (None, 400, 8)       192         input_1[0][0]                    \n",
      "__________________________________________________________________________________________________\n",
      "activation (Activation)         (None, 400, 8)       0           conv1d[0][0]                     \n",
      "__________________________________________________________________________________________________\n",
      "conv1d_1 (Conv1D)               (None, 400, 16)      3728        activation[0][0]                 \n",
      "__________________________________________________________________________________________________\n",
      "activation_1 (Activation)       (None, 400, 16)      0           conv1d_1[0][0]                   \n",
      "__________________________________________________________________________________________________\n",
      "conv1d_2 (Conv1D)               (None, 400, 24)      5016        activation_1[0][0]               \n",
      "__________________________________________________________________________________________________\n",
      "activation_2 (Activation)       (None, 400, 24)      0           conv1d_2[0][0]                   \n",
      "__________________________________________________________________________________________________\n",
      "conv1d_3 (Conv1D)               (None, 400, 32)      7712        activation_2[0][0]               \n",
      "__________________________________________________________________________________________________\n",
      "activation_3 (Activation)       (None, 400, 32)      0           conv1d_3[0][0]                   \n",
      "__________________________________________________________________________________________________\n",
      "multi_head_attention (MultiHead (None, 400, 32)      4224        activation_3[0][0]               \n",
      "                                                                 activation_3[0][0]               \n",
      "__________________________________________________________________________________________________\n",
      "multi_head_attention_1 (MultiHe (None, 400, 32)      4224        multi_head_attention[0][0]       \n",
      "                                                                 multi_head_attention[0][0]       \n",
      "__________________________________________________________________________________________________\n",
      "flatten (Flatten)               (None, 12800)        0           multi_head_attention_1[0][0]     \n",
      "__________________________________________________________________________________________________\n",
      "dense (Dense)                   (None, 200)          2560200     flatten[0][0]                    \n",
      "__________________________________________________________________________________________________\n",
      "dense_1 (Dense)                 (None, 1784)         358584      dense[0][0]                      \n",
      "__________________________________________________________________________________________________\n",
      "dense_2 (Dense)                 (None, 2248)         4012680     dense_1[0][0]                    \n",
      "__________________________________________________________________________________________________\n",
      "dense_3 (Dense)                 (None, 816)          1835184     dense_2[0][0]                    \n",
      "__________________________________________________________________________________________________\n",
      "dense_4 (Dense)                 (None, 40)           32680       dense_3[0][0]                    \n",
      "__________________________________________________________________________________________________\n",
      "dense_5 (Dense)                 (None, 1936)         79376       dense_4[0][0]                    \n",
      "__________________________________________________________________________________________________\n",
      "dense_6 (Dense)                 (None, 656)          1270672     dense_5[0][0]                    \n",
      "__________________________________________________________________________________________________\n",
      "dense_7 (Dense)                 (None, 2296)         1508472     dense_6[0][0]                    \n",
      "__________________________________________________________________________________________________\n",
      "dense_8 (Dense)                 (None, 2240)         5145280     dense_7[0][0]                    \n",
      "__________________________________________________________________________________________________\n",
      "dense_9 (Dense)                 (None, 2048)         4589568     dense_8[0][0]                    \n",
      "__________________________________________________________________________________________________\n",
      "dense_10 (Dense)                (None, 1)            2049        dense_9[0][0]                    \n",
      "==================================================================================================\n",
      "Total params: 21,419,841\n",
      "Trainable params: 21,419,841\n",
      "Non-trainable params: 0\n",
      "__________________________________________________________________________________________________\n"
     ]
    }
   ],
   "source": [
    "lr_schedule = tf.keras.optimizers.schedules.ExponentialDecay(\n",
    "initial_learning_rate=0.005,\n",
    "decay_steps=10000,\n",
    "decay_rate=0.5)\n",
    "optimizer = tf.keras.optimizers.Adam(learning_rate=lr_schedule)\n",
    "model = best_modelz_runBD\n",
    "model.compile(optimizer=optimizer,\n",
    "            loss=custom_loss, metrics=['mse', 'mae'])\n",
    "# Print model summary\n",
    "model.summary()"
   ]
  },
  {
   "cell_type": "code",
   "execution_count": 20,
   "metadata": {},
   "outputs": [
    {
     "ename": "NameError",
     "evalue": "name 'index_true_list' is not defined",
     "output_type": "error",
     "traceback": [
      "\u001b[0;31m---------------------------------------------------------------------------\u001b[0m",
      "\u001b[0;31mNameError\u001b[0m                                 Traceback (most recent call last)",
      "\u001b[1;32m/hercules/scratch/atya/BinaryML/evaluate_and_visualize_data.ipynb Cell 72\u001b[0m in \u001b[0;36m<cell line: 1>\u001b[0;34m()\u001b[0m\n\u001b[0;32m----> <a href='vscode-notebook-cell://ssh-remote%2Bh11/hercules/scratch/atya/BinaryML/evaluate_and_visualize_data.ipynb#Y201sdnNjb2RlLXJlbW90ZQ%3D%3D?line=0'>1</a>\u001b[0m index_true_list\n",
      "\u001b[0;31mNameError\u001b[0m: name 'index_true_list' is not defined"
     ]
    }
   ],
   "source": [
    "index_true_list"
   ]
  },
  {
   "cell_type": "code",
   "execution_count": 21,
   "metadata": {},
   "outputs": [
    {
     "data": {
      "text/plain": [
       "TensorShape([5236])"
      ]
     },
     "execution_count": 21,
     "metadata": {},
     "output_type": "execute_result"
    }
   ],
   "source": [
    "y_true_array.shape"
   ]
  },
  {
   "cell_type": "code",
   "execution_count": 58,
   "metadata": {},
   "outputs": [
    {
     "data": {
      "text/plain": [
       "array([98.16765042])"
      ]
     },
     "execution_count": 58,
     "metadata": {},
     "output_type": "execute_result"
    }
   ],
   "source": [
    "Y_val[10,1]"
   ]
  },
  {
   "cell_type": "code",
   "execution_count": 59,
   "metadata": {},
   "outputs": [],
   "source": [
    "Y_t = np.ones(zarray.shape[0])*98.16765042"
   ]
  },
  {
   "cell_type": "code",
   "execution_count": 60,
   "metadata": {},
   "outputs": [],
   "source": [
    "Y_t = tf.convert_to_tensor(Y_t, dtype=tf.float32)"
   ]
  },
  {
   "cell_type": "code",
   "execution_count": 67,
   "metadata": {},
   "outputs": [
    {
     "data": {
      "text/plain": [
       "<tf.Tensor: shape=(12800,), dtype=float32, numpy=\n",
       "array([ 200.     ,  199.96875,  199.9375 , ..., -199.90625, -199.9375 ,\n",
       "       -199.96875], dtype=float32)>"
      ]
     },
     "execution_count": 67,
     "metadata": {},
     "output_type": "execute_result"
    }
   ],
   "source": [
    "zarray"
   ]
  },
  {
   "cell_type": "code",
   "execution_count": 68,
   "metadata": {},
   "outputs": [
    {
     "name": "stdout",
     "output_type": "stream",
     "text": [
      "WARNING:tensorflow:AutoGraph could not transform <function loss_function.<locals>.<lambda> at 0x2b6e08e62ee0> and will run it as-is.\n",
      "Please report this to the TensorFlow team. When filing the bug, set the verbosity to 10 (on Linux, `export AUTOGRAPH_VERBOSITY=10`) and attach the full output.\n",
      "Cause: module 'gast' has no attribute 'Index'\n",
      "To silence this warning, decorate the function with @tf.autograph.experimental.do_not_convert\n",
      "WARNING: AutoGraph could not transform <function loss_function.<locals>.<lambda> at 0x2b6e08e62ee0> and will run it as-is.\n",
      "Please report this to the TensorFlow team. When filing the bug, set the verbosity to 10 (on Linux, `export AUTOGRAPH_VERBOSITY=10`) and attach the full output.\n",
      "Cause: module 'gast' has no attribute 'Index'\n",
      "To silence this warning, decorate the function with @tf.autograph.experimental.do_not_convert\n"
     ]
    }
   ],
   "source": [
    "z_ar = zarray+np.random.normal(0, 0.01, Y_t.shape).astype(np.float32)\n",
    "z_ar = tf.convert_to_tensor(z_ar, dtype=tf.float32)\n",
    "ar = custom_loss(Y_t,z_ar)"
   ]
  },
  {
   "cell_type": "code",
   "execution_count": 30,
   "metadata": {},
   "outputs": [
    {
     "data": {
      "text/plain": [
       "[<matplotlib.lines.Line2D at 0x2aedd111ff40>]"
      ]
     },
     "execution_count": 30,
     "metadata": {},
     "output_type": "execute_result"
    },
    {
     "data": {
      "image/png": "[encoded data removed]",
      "text/plain": [
       "<Figure size 640x480 with 1 Axes>"
      ]
     },
     "metadata": {},
     "output_type": "display_data"
    }
   ],
   "source": [
    "plt.plot(zarray)"
   ]
  },
  {
   "cell_type": "code",
   "execution_count": 69,
   "metadata": {},
   "outputs": [],
   "source": [
    "ar = ar.numpy()"
   ]
  },
  {
   "cell_type": "code",
   "execution_count": 70,
   "metadata": {},
   "outputs": [
    {
     "data": {
      "text/plain": [
       "array([20702.73 , 20695.818, 20692.186, ..., 99197.62 , 99222.47 ,\n",
       "       99243.32 ], dtype=float32)"
      ]
     },
     "execution_count": 70,
     "metadata": {},
     "output_type": "execute_result"
    }
   ],
   "source": [
    "ar"
   ]
  },
  {
   "cell_type": "code",
   "execution_count": 71,
   "metadata": {},
   "outputs": [
    {
     "data": {
      "text/plain": [
       "[<matplotlib.lines.Line2D at 0x2b6e0b74d910>]"
      ]
     },
     "execution_count": 71,
     "metadata": {},
     "output_type": "execute_result"
    },
    {
     "data": {
      "image/png": "[encoded data removed]",
      "text/plain": [
       "<Figure size 640x480 with 1 Axes>"
      ]
     },
     "metadata": {},
     "output_type": "display_data"
    }
   ],
   "source": [
    "plt.plot(zarray,ar)"
   ]
  },
  {
   "cell_type": "code",
   "execution_count": 15,
   "metadata": {},
   "outputs": [
    {
     "name": "stdout",
     "output_type": "stream",
     "text": [
      "WARNING:tensorflow:AutoGraph could not transform <function <lambda> at 0x2b11247d54c0> and will run it as-is.\n",
      "Please report this to the TensorFlow team. When filing the bug, set the verbosity to 10 (on Linux, `export AUTOGRAPH_VERBOSITY=10`) and attach the full output.\n",
      "Cause: module 'gast' has no attribute 'Index'\n",
      "To silence this warning, decorate the function with @tf.autograph.experimental.do_not_convert\n",
      "WARNING: AutoGraph could not transform <function <lambda> at 0x2b11247d54c0> and will run it as-is.\n",
      "Please report this to the TensorFlow team. When filing the bug, set the verbosity to 10 (on Linux, `export AUTOGRAPH_VERBOSITY=10`) and attach the full output.\n",
      "Cause: module 'gast' has no attribute 'Index'\n",
      "To silence this warning, decorate the function with @tf.autograph.experimental.do_not_convert\n"
     ]
    }
   ],
   "source": [
    "index_true_list = tf.map_fn(lambda y: find_z_ind(Y[:,1], y), Y_test[:,1], dtype=tf.int64)"
   ]
  },
  {
   "cell_type": "code",
   "execution_count": 16,
   "metadata": {},
   "outputs": [
    {
     "data": {
      "text/plain": [
       "TensorShape([2102, 10510])"
      ]
     },
     "execution_count": 16,
     "metadata": {},
     "output_type": "execute_result"
    }
   ],
   "source": [
    "index_true_list.shape"
   ]
  },
  {
   "cell_type": "code",
   "execution_count": 17,
   "metadata": {},
   "outputs": [
    {
     "data": {
      "text/plain": [
       "<tf.Tensor: shape=(10510,), dtype=int64, numpy=array([0, 0, 0, ..., 0, 0, 0])>"
      ]
     },
     "execution_count": 17,
     "metadata": {},
     "output_type": "execute_result"
    }
   ],
   "source": [
    "find_z_ind(Y[:,1], Y_test[0,1])"
   ]
  },
  {
   "cell_type": "code",
   "execution_count": 18,
   "metadata": {},
   "outputs": [
    {
     "data": {
      "text/plain": [
       "(1,)"
      ]
     },
     "execution_count": 18,
     "metadata": {},
     "output_type": "execute_result"
    }
   ],
   "source": [
    "Y_test[0,1].shape"
   ]
  },
  {
   "cell_type": "code",
   "execution_count": 19,
   "metadata": {},
   "outputs": [],
   "source": [
    "index_pred_list = tf.map_fn(lambda y: find_z_ind(zarray, y), Y_test[:,1], dtype=tf.int64)"
   ]
  },
  {
   "cell_type": "code",
   "execution_count": 20,
   "metadata": {},
   "outputs": [
    {
     "data": {
      "text/plain": [
       "TensorShape([2102])"
      ]
     },
     "execution_count": 20,
     "metadata": {},
     "output_type": "execute_result"
    }
   ],
   "source": [
    "index_pred_list.shape"
   ]
  },
  {
   "cell_type": "code",
   "execution_count": 29,
   "metadata": {},
   "outputs": [
    {
     "data": {
      "text/plain": [
       "array([99.13889214])"
      ]
     },
     "execution_count": 29,
     "metadata": {},
     "output_type": "execute_result"
    }
   ],
   "source": []
  },
  {
   "cell_type": "code",
   "execution_count": 45,
   "metadata": {},
   "outputs": [
    {
     "data": {
      "text/plain": [
       "89.2037560719968"
      ]
     },
     "execution_count": 45,
     "metadata": {},
     "output_type": "execute_result"
    }
   ],
   "source": [
    "i = 100\n",
    "z = Y_val[i,1][0]\n",
    "z"
   ]
  },
  {
   "cell_type": "code",
   "execution_count": 46,
   "metadata": {},
   "outputs": [
    {
     "data": {
      "text/plain": [
       "[<matplotlib.lines.Line2D at 0x2b6e0b6e2490>]"
      ]
     },
     "execution_count": 46,
     "metadata": {},
     "output_type": "execute_result"
    },
    {
     "data": {
      "image/png": "[encoded data removed]",
      "text/plain": [
       "<Figure size 640x480 with 1 Axes>"
      ]
     },
     "metadata": {},
     "output_type": "display_data"
    }
   ],
   "source": [
    "plt.plot(zarray,rslices[i])"
   ]
  },
  {
   "cell_type": "code",
   "execution_count": 55,
   "metadata": {},
   "outputs": [
    {
     "data": {
      "text/plain": [
       "(0.0, 6000.0)"
      ]
     },
     "execution_count": 55,
     "metadata": {},
     "output_type": "execute_result"
    },
    {
     "data": {
      "image/png": "[encoded data removed]",
      "text/plain": [
       "<Figure size 640x480 with 1 Axes>"
      ]
     },
     "metadata": {},
     "output_type": "display_data"
    }
   ],
   "source": [
    "plt.plot((rslices[i] - np.max(rslices[i]))**2)\n",
    "plt.xlim(0,6000)"
   ]
  },
  {
   "cell_type": "code",
   "execution_count": 54,
   "metadata": {},
   "outputs": [
    {
     "data": {
      "text/plain": [
       "(0.0, 6000.0)"
      ]
     },
     "execution_count": 54,
     "metadata": {},
     "output_type": "execute_result"
    },
    {
     "data": {
      "image/png": "[encoded data removed]",
      "text/plain": [
       "<Figure size 640x480 with 1 Axes>"
      ]
     },
     "metadata": {},
     "output_type": "display_data"
    }
   ],
   "source": [
    "i = 6\n",
    "z = Y_val[i,1][0]\n",
    "sci = 1 - rslices[i]/np.max(rslices[i])\n",
    "mse = np.power(zarray - z,2)\n",
    "fact = (200 - z)**2\n",
    "plt.plot(mse + fact*sci.numpy())\n",
    "plt.xlim(0,6000)"
   ]
  },
  {
   "cell_type": "code",
   "execution_count": 32,
   "metadata": {},
   "outputs": [
    {
     "data": {
      "text/plain": [
       "[<matplotlib.lines.Line2D at 0x2b6e0b4dd3a0>]"
      ]
     },
     "execution_count": 32,
     "metadata": {},
     "output_type": "execute_result"
    },
    {
     "data": {
      "image/png": "[encoded data removed]",
      "text/plain": [
       "<Figure size 640x480 with 1 Axes>"
      ]
     },
     "metadata": {},
     "output_type": "display_data"
    }
   ],
   "source": [
    "plt.plot(sci.numpy())"
   ]
  },
  {
   "cell_type": "code",
   "execution_count": null,
   "metadata": {},
   "outputs": [],
   "source": []
  }
 ],
 "metadata": {
  "kernelspec": {
   "display_name": "tf-gpu4",
   "language": "python",
   "name": "python3"
  },
  "language_info": {
   "codemirror_mode": {
    "name": "ipython",
    "version": 3
   },
   "file_extension": ".py",
   "mimetype": "text/x-python",
   "name": "python",
   "nbconvert_exporter": "python",
   "pygments_lexer": "ipython3",
   "version": "3.8.0"
  },
  "orig_nbformat": 4
 },
 "nbformat": 4,
 "nbformat_minor": 2
}
