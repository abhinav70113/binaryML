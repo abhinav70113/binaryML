{
 "cells": [
  {
   "cell_type": "code",
   "execution_count": 1,
   "metadata": {},
   "outputs": [
    {
     "name": "stderr",
     "output_type": "stream",
     "text": [
      "2023-06-08 19:17:22.687101: I tensorflow/stream_executor/platform/default/dso_loader.cc:49] Successfully opened dynamic library libcudart.so.10.1\n"
     ]
    }
   ],
   "source": [
    "import glob, sys\n",
    "import numpy as np\n",
    "import pandas as pd\n",
    "from sklearn.model_selection import train_test_split\n",
    "import tensorflow as tf\n",
    "import matplotlib.pyplot as plt\n",
    "import re\n",
    "import glob\n",
    "from tensorflow.keras import backend as K\n",
    "import tensorflow_probability as tfp\n",
    "fft_size = 16777216\n",
    "time_res = 64e-6 # in seconds\n",
    "T_obs = (fft_size*time_res)/60 # in minutes is equal to 17.895 minutes\n",
    "freq_axis = np.fft.rfftfreq(fft_size, d=64e-6)\n",
    "freq_res = 1/(T_obs*60)"
   ]
  },
  {
   "cell_type": "code",
   "execution_count": 3,
   "metadata": {},
   "outputs": [],
   "source": [
    "cur_dir = ''\n",
    "run = 'runBB'\n",
    "X_train = np.load(cur_dir + f'raw_data/{run}/train_data_chunk.npy').astype(np.float64)\n",
    "X_test = np.load(cur_dir + f'raw_data/{run}/test_data_chunk.npy').astype(np.float64)\n",
    "X_val = np.load(cur_dir + f'raw_data/{run}/val_data_chunk.npy').astype(np.float64)\n",
    "X_train = X_train/np.max(X_train,axis=1)[:,None]\n",
    "X_test = X_test/np.max(X_test,axis=1)[:,None]\n",
    "X_val = X_val/np.max(X_val,axis=1)[:,None]\n",
    "\n",
    "Y_train = np.load(cur_dir + f'raw_data/{run}/train_labels_chunk.npy').astype(np.float64)\n",
    "Y_test = np.load(cur_dir + f'raw_data/{run}/test_labels_chunk.npy').astype(np.float64)\n",
    "Y_val = np.load(cur_dir + f'raw_data/{run}/val_labels_chunk.npy').astype(np.float64)\n",
    "\n",
    "\n",
    "# z_val = Y_val[:,1].copy()\n",
    "# Y_val[:,0] = Y_val[:,0] - z_val\n",
    "# Y_val[:,1] = Y_val[:,0] + z_val\n",
    "# Y_val = np.sort(Y_val,axis=1)\n",
    "\n",
    "# z_test = Y_test[:,1].copy()\n",
    "# Y_test[:,0] = Y_test[:,0] - z_test\n",
    "# Y_test[:,1] = Y_test[:,0] + z_test\n",
    "# Y_test = np.sort(Y_test,axis=1)\n",
    "\n",
    "# z_train = Y_train[:,1].copy()\n",
    "# Y_train[:,0] = Y_train[:,0] - z_train\n",
    "# Y_train[:,1] = Y_train[:,0] + z_train\n",
    "# Y_train = np.sort(Y_train,axis=1)\n",
    "\n",
    "Y_train[:,0] = np.abs(Y_train[:,0])\n",
    "Y_test[:,0] = np.abs(Y_test[:,0])\n",
    "Y_val[:,0] = np.abs(Y_val[:,0])\n",
    "\n",
    "Y_train[:,1] = 2*np.abs(Y_train[:,1])\n",
    "Y_test[:,1] = 2*np.abs(Y_test[:,1])\n",
    "Y_val[:,1] = 2*np.abs(Y_val[:,1])\n",
    "\n",
    "# # Y_train = Y_train/400\n",
    "# # Y_test = Y_test/400\n",
    "# # Y_val = Y_val/400\n",
    "\n",
    "X_train = X_train.reshape(X_train.shape[0], X_train.shape[1], 1)\n",
    "X_test = X_test.reshape(X_test.shape[0], X_test.shape[1], 1)\n",
    "X_val = X_val.reshape(X_val.shape[0], X_val.shape[1], 1) \n",
    "\n",
    "# # Y_train = (Y_train.reshape(Y_train.shape[0],Y_train.shape[1], 1))\n",
    "# # Y_val = (Y_val.reshape(Y_val.shape[0],Y_val.shape[1], 1))\n",
    "# # Y_test = (Y_test.reshape(Y_test.shape[0],Y_test.shape[1], 1))\n",
    "\n",
    "# Y_train = (Y_train.reshape(Y_train.shape[0],1))\n",
    "# Y_val = (Y_val.reshape(Y_val.shape[0],1))\n",
    "# Y_test = (Y_test.reshape(Y_test.shape[0],1))\n"
   ]
  },
  {
   "cell_type": "code",
   "execution_count": 4,
   "metadata": {},
   "outputs": [],
   "source": [
    "test_indices = np.load(cur_dir + f'raw_data/{run}/test_indices.npy')\n",
    "labels_df = pd.read_csv(cur_dir + f'meta_data/labels_{run}.csv')"
   ]
  },
  {
   "cell_type": "code",
   "execution_count": 34,
   "metadata": {},
   "outputs": [],
   "source": [
    "def period_accuracy(Y_test, Y_pred):\n",
    "    \"\"\"\n",
    "    Computes the percentage of predicted periods that are within 0.5% of the true periods.\n",
    "    \"\"\"\n",
    "    accuracies = []\n",
    "    Y_test = tf.cast(Y_test, tf.float32)\n",
    "    Y_pred = tf.cast(Y_pred, tf.float32)\n",
    "    shape = Y_test.shape[1]\n",
    "    for i in range(shape):\n",
    "        rat = (Y_test[:,i]+ 1e-10)/(Y_pred[:,i]+ 1e-10)\n",
    "        rat_bool = tf.logical_and(tf.less(rat, 1.005), tf.greater(rat, 0.995))\n",
    "        accuracy = tf.reduce_mean(tf.cast(rat_bool, tf.float32)) * 100\n",
    "        accuracies.append(accuracy)\n",
    "    return [acc.numpy() for acc in accuracies]\n",
    "\n",
    "\n",
    "def median_percent_deviation(Y_test, Y_pred):\n",
    "    \"\"\"\n",
    "    Computes the median percent deviation from the predicted period.\n",
    "    \"\"\"\n",
    "    Y_test = tf.cast(Y_test, tf.float32)\n",
    "    Y_pred = tf.cast(Y_pred, tf.float32)\n",
    "    median_deviations = []\n",
    "    shape = Y_test.shape[1]\n",
    "    for i in range(shape):\n",
    "        \n",
    "        Y_test_i = Y_test[:,i]\n",
    "        Y_pred_i = Y_pred[:,i]\n",
    "\n",
    "        percent_deviation = tf.abs((Y_test_i - Y_pred_i) / (Y_test_i + 1e-10)) * 100\n",
    "        median_deviation = tfp.stats.percentile(percent_deviation, q=50)\n",
    "        median_deviations.append(median_deviation)\n",
    "\n",
    "    return [med.numpy() for med in median_deviations]\n"
   ]
  },
  {
   "cell_type": "code",
   "execution_count": 7,
   "metadata": {},
   "outputs": [
    {
     "name": "stderr",
     "output_type": "stream",
     "text": [
      "2023-06-08 18:39:55.033071: I tensorflow/compiler/jit/xla_cpu_device.cc:41] Not creating XLA devices, tf_xla_enable_xla_devices not set\n",
      "2023-06-08 18:39:55.034343: I tensorflow/stream_executor/platform/default/dso_loader.cc:49] Successfully opened dynamic library libcuda.so.1\n",
      "2023-06-08 18:39:55.558529: E tensorflow/stream_executor/cuda/cuda_driver.cc:328] failed call to cuInit: CUDA_ERROR_NO_DEVICE: no CUDA-capable device is detected\n",
      "2023-06-08 18:39:55.558623: I tensorflow/stream_executor/cuda/cuda_diagnostics.cc:156] kernel driver does not appear to be running on this host (hercules12): /proc/driver/nvidia/version does not exist\n",
      "2023-06-08 18:39:55.560213: I tensorflow/core/platform/cpu_feature_guard.cc:142] This TensorFlow binary is optimized with oneAPI Deep Neural Network Library (oneDNN) to use the following CPU instructions in performance-critical operations:  SSE4.1 SSE4.2 AVX AVX2 AVX512F FMA\n",
      "To enable them in other operations, rebuild TensorFlow with the appropriate compiler flags.\n",
      "2023-06-08 18:39:55.562895: I tensorflow/compiler/jit/xla_gpu_device.cc:99] Not creating XLA devices, tf_xla_enable_xla_devices not set\n"
     ]
    }
   ],
   "source": [
    "# Load the best model after training\n",
    "best_modelf = tf.keras.models.load_model(\"models/f_predict_cnn_1115202_checkpoint.h5\")\n",
    "best_modelz = tf.keras.models.load_model(\"models/f_predict_attention_1115199_checkpoint.h5\")"
   ]
  },
  {
   "cell_type": "code",
   "execution_count": 8,
   "metadata": {},
   "outputs": [
    {
     "name": "stderr",
     "output_type": "stream",
     "text": [
      "2023-06-08 18:40:02.895137: I tensorflow/compiler/mlir/mlir_graph_optimization_pass.cc:116] None of the MLIR optimization passes are enabled (registered 2)\n",
      "2023-06-08 18:40:02.895625: I tensorflow/core/platform/profile_utils/cpu_utils.cc:112] CPU Frequency: 2400000000 Hz\n"
     ]
    }
   ],
   "source": [
    "z_pred = best_modelz.predict(X_test)\n",
    "f_pred = best_modelf.predict(X_test)"
   ]
  },
  {
   "cell_type": "code",
   "execution_count": 35,
   "metadata": {},
   "outputs": [],
   "source": [
    "Y_pred = np.concatenate((f_pred,z_pred),axis=1)"
   ]
  },
  {
   "cell_type": "code",
   "execution_count": 36,
   "metadata": {},
   "outputs": [
    {
     "name": "stdout",
     "output_type": "stream",
     "text": [
      "Period accuracy:  [88.5, 70.0]\n",
      "Median percent deviation:  [0.13269605, 0.3049891]\n"
     ]
    }
   ],
   "source": [
    "accuracy = period_accuracy(Y_test, Y_pred)\n",
    "median = median_percent_deviation(Y_test, Y_pred)\n",
    "print(\"Period accuracy: \", accuracy)\n",
    "print(\"Median percent deviation: \", median)"
   ]
  },
  {
   "cell_type": "code",
   "execution_count": 37,
   "metadata": {},
   "outputs": [],
   "source": [
    "for i in range(Y_test.shape[0]):\n",
    "    ind = test_indices[i]\n",
    "    chunk_index = labels_df.loc[ind,'chunk_start']\n",
    "    freq = chunk_index + Y_pred[i,0]\n",
    "    #freq2 = chunk_index + Y_test[i,1]\n",
    "    labels_df.at[ind,'p_pred'] = 1/(freq*freq_res)\n",
    "    # if freq1 < freq2:\n",
    "    #     labels_df.at[ind,'pred_freq_index0'] = freq1\n",
    "    #     labels_df.at[ind,'pred_freq_index1'] = freq2"
   ]
  },
  {
   "cell_type": "code",
   "execution_count": 38,
   "metadata": {},
   "outputs": [],
   "source": [
    "for i in range(Y_test.shape[0]):\n",
    "    ind = test_indices[i]\n",
    "    z = labels_df.loc[ind,'z']\n",
    "    if z > 0:\n",
    "       labels_df.at[ind,'z_pred'] = Y_pred[i,1]/2\n",
    "    else:\n",
    "        labels_df.at[ind,'z_pred'] = -Y_pred[i,1]/2 \n"
   ]
  },
  {
   "cell_type": "code",
   "execution_count": 40,
   "metadata": {},
   "outputs": [],
   "source": [
    "labels_df_filtered = labels_df[~labels_df['p_pred'].isna()]"
   ]
  },
  {
   "cell_type": "code",
   "execution_count": 43,
   "metadata": {},
   "outputs": [
    {
     "name": "stdout",
     "output_type": "stream",
     "text": [
      "0.06282209544157902\n"
     ]
    },
    {
     "data": {
      "image/png": "[encoded data removed]",
      "text/plain": [
       "<Figure size 640x480 with 1 Axes>"
      ]
     },
     "metadata": {},
     "output_type": "display_data"
    }
   ],
   "source": [
    "plt.plot(labels_df_filtered['z'],np.abs(labels_df_filtered['z_pred'] - labels_df_filtered['z']),'.')\n",
    "print(np.median(np.abs(labels_df_filtered['z_pred'] - labels_df_filtered['z'])))"
   ]
  },
  {
   "cell_type": "code",
   "execution_count": 46,
   "metadata": {},
   "outputs": [
    {
     "name": "stdout",
     "output_type": "stream",
     "text": [
      "3.86545332435248e-08\n"
     ]
    },
    {
     "data": {
      "image/png": "[encoded data removed]",
      "text/plain": [
       "<Figure size 640x480 with 1 Axes>"
      ]
     },
     "metadata": {},
     "output_type": "display_data"
    }
   ],
   "source": [
    "plt.plot(labels_df_filtered['period'],np.abs(labels_df_filtered['p_middle'] - labels_df_filtered['p_pred']),'.')\n",
    "print(np.median(np.abs(labels_df_filtered['p_middle'] - labels_df_filtered['p_pred'])))"
   ]
  },
  {
   "cell_type": "code",
   "execution_count": 47,
   "metadata": {},
   "outputs": [],
   "source": [
    "labels_df.to_csv('meta_data/labels_runBB.csv',index=False)"
   ]
  },
  {
   "cell_type": "code",
   "execution_count": 5,
   "metadata": {},
   "outputs": [],
   "source": [
    "run = 'runBB'\n",
    "files_list_temp = glob.glob(f'/hercules/results/atya/BinaryML/sims/{run}/fold_output_pred/*pfd.bestprof')\n",
    "list_dicts_temp = []\n",
    "\n",
    "for i in range(len(files_list_temp)):\n",
    "    file = files_list_temp[i]\n",
    "    with open(file, 'r') as file:\n",
    "        data_dict = {}\n",
    "        for line in file:\n",
    "            # Remove any new line characters\n",
    "            line = line.strip()\n",
    "\n",
    "            # Skip empty lines or comment lines\n",
    "            if not line:\n",
    "                continue\n",
    "            if '###############################' in line:\n",
    "                break\n",
    "            # Split the line by the '=' character\n",
    "\n",
    "            key,value = re.split('=|>|<', line)\n",
    "\n",
    "            #key, value = line.split('=|>|<')\n",
    "\n",
    "            # Remove any leading or trailing whitespace\n",
    "            key = key.strip()[2:]\n",
    "            value = value.strip()\n",
    "\n",
    "            # Add the key-value pair to the dictionary\n",
    "            data_dict[key] = value\n",
    "        list_dicts_temp.append(data_dict)"
   ]
  },
  {
   "cell_type": "code",
   "execution_count": 6,
   "metadata": {},
   "outputs": [],
   "source": [
    "for item in list_dicts_temp:\n",
    "    temp = item['Prob(Noise)']\n",
    "    temp_list = temp.split(' ')\n",
    "    item['prob'] = float(temp_list[0])\n",
    "    item['noise'] = float(temp_list[3][2:])\n",
    "    temp_p = item['P_topo (ms)']\n",
    "    item['p_presto']= float(temp_p.split('+/-')[0])\n",
    "    temp_pd = item[\"P'_topo (s/s)\"]\n",
    "    item['pd_presto'] = float(temp_pd.split('+/-')[0])"
   ]
  },
  {
   "cell_type": "code",
   "execution_count": 7,
   "metadata": {},
   "outputs": [],
   "source": [
    "for dic in list_dicts_temp:\n",
    "    file_name = dic['Input file']\n",
    "    if file_name in labels_df['file_name'].values:\n",
    "        labels_df.loc[labels_df['file_name']==file_name,'fold_snr_pred'] = dic['noise']\n",
    "        labels_df.loc[labels_df['file_name']==file_name,'p_pred_from_bestprof'] = dic['p_presto']/1000\n",
    "        labels_df.loc[labels_df['file_name']==file_name,'pd_pred_from_bestprof'] = dic['pd_presto']"
   ]
  },
  {
   "cell_type": "code",
   "execution_count": 8,
   "metadata": {},
   "outputs": [],
   "source": [
    "labels_df.to_csv('meta_data/labels_runBB.csv',index=False)"
   ]
  },
  {
   "cell_type": "code",
   "execution_count": 10,
   "metadata": {},
   "outputs": [
    {
     "data": {
      "text/plain": [
       "Index(['# ind', 'period', 'snr', 'width', 'bper', 'binc', 'bcmass', 'bphase',\n",
       "       'status', 'a', 'p_middle', 'pd', 'z', 'a_max', 'z_max', 'p_fold',\n",
       "       'file_name', 'asini', 'periastron_time_mjd', 'fold_snr_theory',\n",
       "       'fold_snr_true', 'p_true', 'pd_true', 'fold_snr_presto', 'p_presto',\n",
       "       'pd_presto', 'chunk_start', 'p_pred', 'z_pred', 'a_pred', 'pd_pred',\n",
       "       'p_fold_pred', 'fold_snr_pred', 'p_pred_from_bestprof',\n",
       "       'pd_pred_from_bestprof'],\n",
       "      dtype='object')"
      ]
     },
     "execution_count": 10,
     "metadata": {},
     "output_type": "execute_result"
    }
   ],
   "source": [
    "labels_df.columns"
   ]
  },
  {
   "cell_type": "code",
   "execution_count": null,
   "metadata": {},
   "outputs": [],
   "source": []
  }
 ],
 "metadata": {
  "kernelspec": {
   "display_name": "tf-gpu4",
   "language": "python",
   "name": "python3"
  },
  "language_info": {
   "codemirror_mode": {
    "name": "ipython",
    "version": 3
   },
   "file_extension": ".py",
   "mimetype": "text/x-python",
   "name": "python",
   "nbconvert_exporter": "python",
   "pygments_lexer": "ipython3",
   "version": "3.8.0"
  },
  "orig_nbformat": 4
 },
 "nbformat": 4,
 "nbformat_minor": 2
}
