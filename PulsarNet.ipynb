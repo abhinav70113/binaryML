{
 "cells": [
  {
   "cell_type": "code",
   "execution_count": 2,
   "metadata": {},
   "outputs": [
    {
     "name": "stderr",
     "output_type": "stream",
     "text": [
      "2023-06-20 15:40:07.352378: I tensorflow/stream_executor/platform/default/dso_loader.cc:49] Successfully opened dynamic library libcudart.so.10.1\n"
     ]
    }
   ],
   "source": [
    "import numpy as np\n",
    "import glob\n",
    "import tensorflow as tf\n",
    "from numpy.lib.stride_tricks import as_strided\n",
    "import sys\n",
    "import matplotlib.pyplot as plt\n",
    "import time\n",
    "import os\n",
    "import re\n",
    "G = 6.67408e-11\n",
    "c = 2.99792458e8\n",
    "M_SUN = 2.0e30"
   ]
  },
  {
   "cell_type": "code",
   "execution_count": 4,
   "metadata": {},
   "outputs": [],
   "source": [
    "time_start = time.time()\n",
    "#dat_file = sys.argv[1]\n",
    "#output_label = sys.argv[2]\n",
    "dat_file = '/hercules/scratch/vishnu/ABHNINAV_ML_PROJECT/PulsarNet/OBS1_dedisp_ts_part2.dat'\n",
    "#dat_file = '/hercules/results/atya/BinaryML/sims/runBC/obs4BC.dat'\n",
    "output_label = 'obs1'\n",
    "dat = np.fromfile(dat_file, dtype=np.float32)\n",
    "dat = (dat - np.mean(dat)) / np.std(dat)\n",
    "fft = np.fft.rfft(dat)\n",
    "power = np.abs(fft)**2\n",
    "power = (power - np.mean(power))/np.std(power)"
   ]
  },
  {
   "cell_type": "code",
   "execution_count": 6,
   "metadata": {},
   "outputs": [],
   "source": [
    "fft_size = len(dat)\n",
    "time_res = 64e-6 # in seconds\n",
    "T_obs = (fft_size*time_res)/60 # in minutes is equal to 17.895 minutes\n",
    "freq_axis = np.fft.rfftfreq(fft_size, d=time_res)\n",
    "freq_res = 1/(T_obs*60)"
   ]
  },
  {
   "cell_type": "code",
   "execution_count": 10,
   "metadata": {},
   "outputs": [],
   "source": [
    "chunk_size = 800\n",
    "freq_start = 40  # in Hz \n",
    "freq_end = 1000 # in Hz\n",
    "freq_ind_start = np.argmin(np.abs(freq_axis - freq_start)) - chunk_size\n",
    "freq_ind_end = np.argmin(np.abs(freq_axis - freq_end)) + chunk_size\n",
    "\n",
    "model_classifier = tf.keras.models.load_model('models/chunk_classify_cnn_1259068_checkpoint.h5')\n",
    "model_regressor_f = tf.keras.models.load_model('models/f_predict_cnn_1280525_checkpoint.h5')\n",
    "model_regressor_z = tf.keras.models.load_model('models/f_predict_attention_z_fine_1231538_55_checkpoint.h5')\n"
   ]
  },
  {
   "cell_type": "code",
   "execution_count": 11,
   "metadata": {},
   "outputs": [],
   "source": [
    "def find_correct_chunk(freq_ind_start,chunk_abs_loc,relative_loc_signal_in_chunk,step_size,roll_offset_begin,chunk_buffer_on_either_side,chunk_size):\n",
    "    chunk_refactored_start = (chunk_abs_loc - chunk_buffer_on_either_side) if (chunk_abs_loc - chunk_buffer_on_either_side) >= 0 else 0\n",
    "    return freq_ind_start + (chunk_refactored_start*chunk_size) + (relative_loc_signal_in_chunk)*step_size + step_size + roll_offset_begin\n",
    "\n",
    "def find_location(arr):\n",
    "    result = np.argwhere(np.isin(arr, [1, 2, 3]))\n",
    "    return np.sort(result)\n",
    "\n",
    "def find_first_one(arr):\n",
    "    result = np.where(arr == 1)\n",
    "    if len(result[0]) > 0:\n",
    "        return np.sort(result)[0][0]\n",
    "    else:\n",
    "        return -1\n",
    "\n",
    "def a_from_z(z,T_obs,h,P_s):\n",
    "    T_obs = T_obs*3600\n",
    "    return z*P_s*c/(T_obs**2*h)\n",
    "\n",
    "def a_to_pdot(P_s, acc_ms2):\n",
    "    return P_s * acc_ms2 /c\n",
    "\n",
    "def calculate_presto_fold_p_neg(p,pd,T_obs):\n",
    "    '''\n",
    "    p: period in seconds\n",
    "    pd: period derivative in seconds/second\n",
    "    T_obs: observation time in hours\n",
    "    '''\n",
    "    T_obs = T_obs*3600\n",
    "    return p - pd*T_obs/2  \n",
    "\n",
    "def myexecute(cmd):\n",
    "    if 'echo' not in cmd[:20]:\n",
    "        os.system(\"echo '%s'\"%cmd)\n",
    "    os.system(cmd)"
   ]
  },
  {
   "cell_type": "code",
   "execution_count": 12,
   "metadata": {},
   "outputs": [],
   "source": [
    "num_chunks = int((freq_ind_end - freq_ind_start)/chunk_size)\n",
    "X_test_freq = power[freq_ind_start:freq_ind_end]\n",
    "X_test_freq_chunks = X_test_freq[:int(num_chunks*chunk_size)].reshape((num_chunks,chunk_size,1))\n",
    "X_test_freq_chunks_norm = X_test_freq_chunks/np.max(X_test_freq_chunks,axis=1)[:,None]\n",
    "\n",
    "num_chunks_in_group = 100\n",
    "num_groups = int(num_chunks/num_chunks_in_group)\n",
    "step_size = chunk_size // 2\n",
    "chunk_buffer_on_either_side = 3\n",
    "num_windows_when_overlapped = ((2*chunk_buffer_on_either_side*chunk_size) - chunk_size) // step_size + 1\n",
    "signal_indices_pattern_str = ''.join(map(str, [0,1,1,0]))\n",
    "current_group_index = 0\n",
    "roll_list_in_either_direction = [0,300,200,100]\n",
    "signal_chunk_found = False"
   ]
  },
  {
   "cell_type": "code",
   "execution_count": 13,
   "metadata": {},
   "outputs": [
    {
     "name": "stderr",
     "output_type": "stream",
     "text": [
      "2023-06-20 15:47:01.327360: I tensorflow/compiler/mlir/mlir_graph_optimization_pass.cc:116] None of the MLIR optimization passes are enabled (registered 2)\n",
      "2023-06-20 15:47:01.327886: I tensorflow/core/platform/profile_utils/cpu_utils.cc:112] CPU Frequency: 2400000000 Hz\n"
     ]
    },
    {
     "name": "stdout",
     "output_type": "stream",
     "text": [
      "[0 0 0 0 0 0 0 0 0 0 0 0 0 0 0 0 0 0 0 0 0 0 0 0 0 0 0 0 0 0 0 0 0 0 0 0 0\n",
      " 0 0 0 0 0 0 0 0 0 0 0 0 0 0 0 0 0 0 0 0 0 0 0 0 0 0 0 0 0 0 0 0 0 0 0 0 0\n",
      " 0 0 0 0 0 0 0 0 0 0 0 0 0 0 0 0 0 0 0 0 0 0 0 0 0 0]\n",
      "loc_list []\n",
      "[0 0 0 0 0 0 0 0 0 0 0 0 0 0 0 0 0 0 0 0 0 0 0 0 0 0 0 0 0 0 0 0 0 0 0 0 0\n",
      " 0 0 0 0 0 0 0 0 0 0 0 0 0 0 0 0 0 0 0 0 0 0 0 0 0 0 0 0 0 0 0 0 0 0 0 0 0\n",
      " 0 0 0 0 0 0 0 0 0 0 0 0 0 0 0 0 0 0 0 0 0 0 0 0 0 0]\n",
      "loc_list []\n",
      "[0 0 0 0 0 0 0 0 0 0 0 0 0 0 0 0 0 0 0 0 0 0 0 0 0 0 0 0 0 0 0 0 0 0 0 0 0\n",
      " 0 0 0 0 0 0 0 0 0 0 0 0 0 0 0 0 0 0 0 0 0 0 0 0 0 0 0 0 0 0 0 0 0 0 0 0 0\n",
      " 0 0 0 0 0 0 0 0 0 0 0 0 0 0 0 0 0 0 0 0 0 0 0 0 0 0]\n",
      "loc_list []\n",
      "[0 0 0 0 0 0 0 0 0 0 0 0 0 0 0 0 0 0 0 0 0 0 0 0 0 0 0 0 0 0 0 0 0 0 0 0 0\n",
      " 0 0 0 0 0 0 0 0 0 0 0 0 0 0 0 0 0 0 0 0 0 0 0 0 0 0 0 0 0 0 0 0 0 0 0 0 0\n",
      " 0 0 0 0 0 0 0 0 0 0 0 0 0 0 0 0 0 0 0 0 0 0 0 0 0 0]\n",
      "loc_list []\n",
      "[0 0 0 0 0 0 0 0 0 0 0 0 0 0 0 0 0 0 0 0 0 0 0 0 0 0 0 0 0 0 0 0 0 0 0 0 0\n",
      " 0 0 0 0 0 0 0 0 0 0 0 0 0 0 0 0 0 0 0 0 0 0 0 0 0 0 0 0 0 0 0 0 0 0 0 0 0\n",
      " 0 0 0 0 0 0 0 0 0 0 0 0 0 0 0 0 0 0 0 0 0 0 0 0 0 0]\n",
      "loc_list []\n",
      "[0 0 0 0 0 0 0 0 0 0 0 0 0 0 0 0 0 0 0 0 0 0 0 0 0 0 0 0 0 0 0 0 0 0 0 0 0\n",
      " 0 0 0 0 0 0 0 0 0 0 0 0 0 0 0 0 0 0 0 0 0 0 0 0 0 0 0 0 0 0 0 0 0 0 0 0 0\n",
      " 0 0 0 0 0 0 0 0 0 0 0 0 0 0 0 0 0 0 0 0 0 0 0 0 0 0]\n",
      "loc_list []\n",
      "[0 0 0 0 0 0 0 0 0 0 0 0 0 0 0 0 0 0 0 0 0 0 0 0 0 0 0 0 0 0 0 0 0 0 0 0 0\n",
      " 0 0 0 0 0 0 0 0 0 0 0 0 0 0 0 0 0 0 0 0 0 0 0 0 0 0 0 0 0 0 0 0 0 0 0 0 0\n",
      " 0 0 0 0 0 0 0 0 0 0 0 0 0 0 0 0 0 0 0 0 0 0 0 0 0 0]\n",
      "loc_list []\n",
      "[0 0 0 0 0 0 0 0 0 0 0 0 0 0 0 0 0 0 0 0 0 0 0 0 0 0 0 0 0 0 0 0 0 0 0 0 0\n",
      " 0 0 0 0 0 0 0 0 0 0 0 0 0 0 0 0 0 0 0 0 0 0 0 0 0 0 0 0 0 0 0 0 0 0 0 0 0\n",
      " 0 0 0 0 0 0 0 0 0 0 0 0 0 0 0 0 0 0 0 0 0 0 0 0 0 0]\n",
      "loc_list []\n",
      "[0 0 0 0 0 0 0 0 0 0 0 0 0 0 0 0 0 0 0 0 0 0 0 0 0 0 0 0 0 0 0 0 0 0 0 0 0\n",
      " 0 0 0 0 0 0 0 0 0 0 0 0 0 0 0 0 0 0 0 0 0 0 0 0 0 0 0 0 0 0 0 0 0 0 0 0 0\n",
      " 0 0 0 0 0 0 0 0 0 0 0 0 0 0 0 0 0 0 0 0 0 0 0 0 0 0]\n",
      "loc_list []\n",
      "[0 0 0 0 0 0 0 0 0 0 0 0 0 0 0 0 0 0 0 0 0 0 0 0 0 0 0 0 0 0 0 0 0 0 0 0 0\n",
      " 0 0 0 0 0 0 0 0 0 0 0 0 0 0 0 0 0 0 0 0 0 0 0 0 0 0 0 0 0 0 0 0 0 0 0 0 0\n",
      " 0 0 0 0 0 0 0 0 0 0 0 0 0 0 0 0 0 0 0 0 0 0 0 0 0 0]\n",
      "loc_list []\n",
      "[0 0 0 0 0 0 0 0 0 0 0 0 0 0 0 0 0 0 0 0 0 0 0 0 0 0 0 0 0 0 0 0 0 0 0 0 0\n",
      " 0 0 0 0 0 0 0 0 0 0 0 0 0 0 0 0 0 0 0 0 0 0 0 0 0 0 0 0 0 0 0 0 0 0 0 0 0\n",
      " 0 0 0 0 0 0 0 0 0 0 0 0 0 0 0 0 0 0 0 0 0 0 0 0 0 0]\n",
      "loc_list []\n",
      "[0 0 0 0 0 0 0 0 0 0 0 0 0 0 0 0 0 0 0 0 0 0 0 0 0 0 0 0 0 0 0 0 0 0 0 0 0\n",
      " 0 0 0 0 0 0 0 0 0 0 0 0 0 0 0 0 0 0 0 0 0 0 0 0 0 0 0 0 0 0 0 0 0 0 0 0 0\n",
      " 0 0 0 0 0 0 0 0 0 0 0 0 0 0 0 0 0 0 0 0 0 0 0 0 0 0]\n",
      "loc_list []\n",
      "[0 0 0 0 0 0 0 0 0 0 0 0 0 0 0 0 0 0 0 0 0 0 0 0 0 0 0 0 0 0 0 0 0 0 0 0 0\n",
      " 0 0 0 0 0 0 0 0 0 0 0 0 0 0 0 0 0 0 0 0 0 0 0 0 0 0 0 0 0 0 0 0 0 0 0 0 0\n",
      " 0 0 0 0 0 0 0 0 0 0 0 0 0 0 0 0 0 0 0 0 0 0 0 0 0 0]\n",
      "loc_list []\n",
      "[0 0 0 0 0 0 0 0 0 0 0 0 0 0 0 0 0 0 0 0 0 0 0 0 0 0 0 0 0 0 0 0 0 0 0 0 0\n",
      " 0 0 0 0 0 0 0 0 0 0 0 0 0 0 0 0 0 0 0 0 0 0 0 0 0 0 0 0 0 0 0 0 0 0 0 0 0\n",
      " 0 0 0 0 0 0 0 0 0 0 0 0 0 0 0 0 0 0 0 0 0 0 0 0 0 0]\n",
      "loc_list []\n",
      "[0 0 0 0 0 0 0 0 0 0 0 0 0 0 0 0 0 0 0 0 0 0 0 0 0 0 0 0 0 0 0 0 0 0 0 0 0\n",
      " 0 0 0 0 0 0 0 0 0 0 0 0 0 0 0 0 0 0 0 0 0 0 0 0 0 0 0 0 0 0 0 0 0 0 0 0 0\n",
      " 0 0 0 0 0 0 0 0 0 0 0 0 0 0 0 0 0 0 0 0 0 0 0 0 0 0]\n",
      "loc_list []\n",
      "[0 0 0 0 0 0 0 0 0 0 0 0 0 0 0 0 0 0 0 0 0 0 0 0 0 0 0 0 0 0 0 0 0 0 0 0 0\n",
      " 0 0 0 0 0 0 0 0 0 0 0 0 0 0 0 0 0 0 0 0 0 0 0 0 0 0 0 0 0 0 0 0 0 0 0 0 0\n",
      " 0 0 0 0 0 0 0 0 0 0 0 0 0 0 0 0 0 0 0 0 0 0 0 0 0 0]\n",
      "loc_list []\n",
      "[0 0 0 0 0 0 0 0 0 0 0 0 0 0 0 0 0 0 0 0 0 0 0 0 0 0 0 0 0 0 0 0 0 0 0 0 0\n",
      " 0 0 0 0 0 0 0 0 0 0 0 0 0 0 0 0 0 0 0 0 0 0 0 0 0 0 0 0 0 0 0 0 0 0 0 0 0\n",
      " 0 0 0 0 0 0 0 0 0 0 0 0 0 0 0 0 0 0 0 0 0 0 0 0 0 0]\n",
      "loc_list []\n",
      "[0 0 0 0 0 0 0 0 0 0 0 0 0 0 0 0 0 0 0 0 0 0 0 0 0 0 0 0 0 0 0 0 0 0 0 0 0\n",
      " 0 0 0 0 0 0 0 0 0 0 0 0 0 0 0 0 0 0 0 0 0 0 0 0 0 0 0 0 0 0 0 0 0 0 0 0 0\n",
      " 0 0 0 0 0 0 0 0 0 0 0 0 0 0 0 0 0 0 0 0 0 0 0 0 0 0]\n",
      "loc_list []\n",
      "[0 0 0 0 0 0 0 0 0 0 0 0 0 0 0 0 0 0 0 0 0 0 0 0 0 0 0 0 0 0 0 0 0 0 0 0 0\n",
      " 0 0 0 0 0 0 0 0 0 0 0 0 0 0 0 0 0 0 0 0 0 0 0 0 0 0 0 0 0 0 0 0 0 0 0 0 0\n",
      " 0 0 0 0 0 0 0 0 0 0 0 0 0 0 0 0 0 0 0 0 0 0 0 0 0 0]\n",
      "loc_list []\n",
      "[0 0 0 0 0 0 0 0 0 0 0 0 0 0 0 0 0 0 0 0 0 0 0 0 0 0 0 0 0 0 0 0 0 0 0 0 0\n",
      " 0 0 0 0 0 0 0 0 0 0 0 0 0 0 0 0 0 0 0 0 0 0 0 0 0 0 0 0 0 0 0 0 0 0 0 0 0\n",
      " 0 0 0 0 0 0 0 0 0 0 0 0 0 0 0 0 0 0 0 0 0 0 0 0 0 0]\n",
      "loc_list []\n",
      "[0 0 0 0 0 0 0 0 0 0 0 0 0 0 0 0 0 0 0 0 0 0 0 0 0 0 0 0 0 0 0 0 0 0 0 0 0\n",
      " 0 0 0 0 0 0 0 0 0 0 0 0 0 0 0 0 0 0 0 0 0 0 0 0 0 0 0 0 0 0 0 0 0 0 0 0 0\n",
      " 0 0 0 0 0 0 0 0 0 0 0 0 0 0 0 0 0 0 0 0 0 0 0 0 0 0]\n",
      "loc_list []\n",
      "[0 0 0 0 0 0 0 0 0 0 0 0 0 0 0 0 0 0 0 0 0 0 0 0 0 0 0 0 0 0 0 0 0 0 0 0 0\n",
      " 0 0 0 0 0 0 0 0 0 0 0 0 0 0 0 0 0 0 0 0 0 0 0 0 0 0 0 0 0 0 0 0 0 0 0 0 0\n",
      " 0 0 0 0 0 0 0 0 0 0 0 0 0 0 0 0 0 0 0 0 0 0 0 0 0 0]\n",
      "loc_list []\n",
      "[0 0 0 0 0 0 0 0 0 0 0 0 0 0 0 0 0 0 0 0 0 0 0 0 0 0 0 0 0 0 0 0 0 0 0 0 0\n",
      " 0 0 0 0 0 0 0 0 0 0 0 0 0 0 0 0 0 0 0 0 0 0 0 0 0 0 0 0 0 0 0 0 0 0 0 0 0\n",
      " 0 0 0 0 0 0 0 0 0 0 0 0 0 0 0 0 0 0 0 0 0 0 0 0 0 0]\n",
      "loc_list []\n",
      "[0 0 0 0 0 0 0 0 0 0 0 0 0 0 0 0 0 0 0 0 0 0 0 0 0 0 0 0 0 0 0 0 0 0 0 0 0\n",
      " 0 0 0 0 0 0 0 0 0 0 0 0 0 0 0 0 0 0 0 0 0 0 0 0 0 0 0 0 0 0 0 0 0 0 0 0 0\n",
      " 0 0 0 0 0 0 0 0 0 0 0 0 0 0 0 0 0 0 0 0 0 0 0 0 0 0]\n",
      "loc_list []\n",
      "[0 0 0 0 0 0 0 0 0 0 0 0 0 0 0 0 0 0 0 0 0 0 0 0 0 0 0 0 0 0 0 0 0 0 0 0 0\n",
      " 0 0 0 0 0 0 0 0 0 0 0 0 0 0 0 0 0 0 0 0 0 0 0 0 0 0 0 0 0 0 0 0 0 0 0 0 0\n",
      " 0 0 0 0 0 0 0 0 0 0 0 0 0 0 0 0 0 0 0 0 0 0 0 0 0 0]\n",
      "loc_list []\n"
     ]
    }
   ],
   "source": [
    "found_signals = []\n",
    "while not signal_chunk_found and current_group_index < num_groups:\n",
    "    chunk_group_start = current_group_index*num_chunks_in_group\n",
    "    chunk_group_end = (current_group_index+1)*num_chunks_in_group if ((current_group_index+1)*num_chunks_in_group < num_chunks) else num_chunks\n",
    "    X_test_freq_group_of_chunks = X_test_freq_chunks_norm[chunk_group_start:chunk_group_end]\n",
    "    labels_temp = model_classifier.predict(X_test_freq_group_of_chunks)\n",
    "    labels_max = np.argmax(labels_temp,axis=1)\n",
    "    print(labels_max)\n",
    "    loc_list = find_location(labels_max)\n",
    "    print('loc_list',loc_list)\n",
    "    last_loc_signal = -2\n",
    "    for loc_index in range(len(loc_list)):\n",
    "        signal_dict = {}\n",
    "        current_loc_signal = loc_list[loc_index][0]\n",
    "        #print(current_loc_signal - last_loc_signal)\n",
    "        if ( current_loc_signal - last_loc_signal) > 1:\n",
    "            loc_chunk_with_signal = num_chunks_in_group*current_group_index + current_loc_signal\n",
    "            print('loc_chunk_with_signal',loc_chunk_with_signal)\n",
    "            if not signal_chunk_found: #If the signal is detected\n",
    "                chunk_abs_loc = loc_chunk_with_signal\n",
    "                chunk_refactored_start = (chunk_abs_loc - chunk_buffer_on_either_side) if (chunk_abs_loc - chunk_buffer_on_either_side) >= 0 else 0\n",
    "                chunk_refactored_end = (chunk_abs_loc + chunk_buffer_on_either_side) if (chunk_abs_loc + chunk_buffer_on_either_side) <= num_chunks else num_chunks\n",
    "                print('chunk_refactored_difference',chunk_refactored_start-chunk_refactored_end)\n",
    "                if chunk_refactored_start == 0:\n",
    "                    chunk_refactored_end = 2*chunk_buffer_on_either_side\n",
    "                if chunk_refactored_end == num_chunks:\n",
    "                    chunk_refactored_start = num_chunks - (2*chunk_buffer_on_either_side)\n",
    "                print('chunk_refactored_Start',chunk_refactored_start)\n",
    "                print('chunk_refactored_end',chunk_refactored_end)\n",
    "                X_test_chunks_temp_flattened = X_test_freq_chunks[int(chunk_refactored_start):int(chunk_refactored_end)].flatten()\n",
    "                for roll_number in roll_list_in_either_direction:\n",
    "                    if not signal_chunk_found:\n",
    "                        for roll_number_case in ['pos','neg']:\n",
    "                            if roll_number == 0 and roll_number_case == 'neg':\n",
    "                                continue\n",
    "                            else:\n",
    "                                roll_offset_begin = roll_number if roll_number_case == 'pos' else (chunk_size - roll_number)\n",
    "                                roll_offset_end = roll_number - chunk_size if roll_number_case == 'pos' else -roll_number\n",
    "                                print('roll_offset',roll_offset_begin,roll_offset_end)\n",
    "                                X_test_chunks_temp_overlapped = as_strided(\n",
    "                                    X_test_chunks_temp_flattened[roll_offset_begin:roll_offset_end],\n",
    "                                    shape = (num_windows_when_overlapped-1,chunk_size),\n",
    "                                    strides = (step_size * X_test_chunks_temp_flattened.strides[0],X_test_chunks_temp_flattened.strides[0]))\n",
    "                        \n",
    "                                X_test_chunks_temp_overlapped_norm = (X_test_chunks_temp_overlapped/np.max(X_test_chunks_temp_overlapped,axis=1)[:,None]).reshape(num_windows_when_overlapped-1,chunk_size,1)\n",
    "                                print(X_test_chunks_temp_overlapped_norm.shape)\n",
    "                                labels_new = model_classifier.predict(X_test_chunks_temp_overlapped_norm)\n",
    "                                labels_new_max = np.argmax(labels_new,axis=1)\n",
    "                                labels_new_max_str = ''.join(map(str, labels_new_max.tolist()))\n",
    "                                \n",
    "                                print(roll_number,roll_number_case,labels_new_max_str)\n",
    "                                if signal_indices_pattern_str in labels_new_max_str:\n",
    "                                    relative_loc_signal_in_chunk = find_first_one(labels_new_max)\n",
    "                                    print('relative_loc_Signal',relative_loc_signal_in_chunk)\n",
    "                                    if relative_loc_signal_in_chunk == -1:\n",
    "                                        print(\"Error in relative loc signal in chunk\")\n",
    "                                        continue\n",
    "                                    else:\n",
    "                                        regressor_chunk_start = find_correct_chunk(freq_ind_start,\n",
    "                                                chunk_abs_loc,\n",
    "                                                relative_loc_signal_in_chunk,\n",
    "                                                step_size,\n",
    "                                                roll_offset_begin,\n",
    "                                                chunk_buffer_on_either_side,\n",
    "                                                chunk_size)\n",
    "                                        regressor_chunk_end = regressor_chunk_start + step_size\n",
    "                                        final_chunk = power[int(regressor_chunk_start):int(regressor_chunk_end)]\n",
    "                                        final_chunk = final_chunk/np.max(final_chunk)\n",
    "                                        f = model_regressor_f(final_chunk.reshape((1,400,1)).astype(np.float64)).numpy()[0][0]\n",
    "                                        z = model_regressor_z(final_chunk.reshape((1,400,1)).astype(np.float64)).numpy()[0][0]/2\n",
    "                                        print(f,z)\n",
    "                                        if (f + z) < step_size:\n",
    "                                            signal_dict['f_ind'] = f + regressor_chunk_start\n",
    "                                            signal_dict['z'] = z \n",
    "                                            signal_dict['regressor_chunk_start'] = regressor_chunk_start\n",
    "                                        \n",
    "                                            found_signals.append(signal_dict.copy())\n",
    "                                        \n",
    "                                        \n",
    "                                            signal_chunk_found = True\n",
    "                                            break\n",
    "                    else:\n",
    "                        last_loc_signal = current_loc_signal\n",
    "                        break\n",
    "\n",
    "            if not signal_chunk_found:\n",
    "                print('False alarm in this group. Moving to the next group')\n",
    "    current_group_index += 1\n"
   ]
  },
  {
   "cell_type": "code",
   "execution_count": 7,
   "metadata": {},
   "outputs": [
    {
     "data": {
      "text/plain": [
       "[<matplotlib.lines.Line2D at 0x2ba45bb574f0>]"
      ]
     },
     "execution_count": 7,
     "metadata": {},
     "output_type": "execute_result"
    },
    {
     "data": {
      "image/png": "[encoded data removed]",
      "text/plain": [
       "<Figure size 640x480 with 1 Axes>"
      ]
     },
     "metadata": {},
     "output_type": "display_data"
    }
   ],
   "source": [
    "plt.plot(final_chunk)"
   ]
  },
  {
   "cell_type": "code",
   "execution_count": 8,
   "metadata": {},
   "outputs": [
    {
     "name": "stdout",
     "output_type": "stream",
     "text": [
      "0.019724343099452948\n"
     ]
    },
    {
     "data": {
      "text/plain": [
       "<matplotlib.lines.Line2D at 0x2ba51a323580>"
      ]
     },
     "execution_count": 8,
     "metadata": {},
     "output_type": "execute_result"
    },
    {
     "data": {
      "image/png": "[encoded data removed]",
      "text/plain": [
       "<Figure size 640x480 with 1 Axes>"
      ]
     },
     "metadata": {},
     "output_type": "display_data"
    }
   ],
   "source": [
    "regressor_chunk_start = found_signals[0]['regressor_chunk_start']\n",
    "f_ind = found_signals[0]['f_ind']\n",
    "z = found_signals[0]['z']\n",
    "regressor_chunk_end = regressor_chunk_start + step_size\n",
    "final_chunk = power[int(regressor_chunk_start):int(regressor_chunk_end)]\n",
    "final_chunk = final_chunk/np.max(final_chunk)\n",
    "p_pred = 1/(f_ind*freq_res)\n",
    "a_pred_abs = a_from_z(z,T_obs/60,1,p_pred)\n",
    "pd_pred_abs = a_to_pdot(p_pred,a_pred_abs)\n",
    "p_fold_pos_z = calculate_presto_fold_p_neg(p_pred,pd_pred_abs,T_obs/60)\n",
    "p_fold_neg_z = calculate_presto_fold_p_neg(p_pred,-pd_pred_abs,T_obs/60)\n",
    "print(p_pred)\n",
    "\n",
    "# sing_prefix = 'singularity exec -H $HOME:/home1 -B /hercules:/hercules/  /hercules/scratch/atya/compare_pulsar_search_algorithms.simg '\n",
    "# myexecute(sing_prefix+f'prepfold -topo -p {p_fold_pos_z} -pd {pd_pred_abs} -o {output_label}_pos -noxwin {dat_file}')\n",
    "# myexecute(sing_prefix+f'prepfold -topo -p {p_fold_neg_z} -pd {-pd_pred_abs} -o {output_label}_neg -noxwin {dat_file}')\n",
    "\n",
    "# files_list_temp = glob.glob(f'{output_label}*pfd.bestprof')\n",
    "# sigma_levels = []\n",
    "\n",
    "# for i in range(len(files_list_temp)):\n",
    "#     file_name_temp = files_list_temp[i]\n",
    "#     with open(file_name_temp, 'r') as file:\n",
    "#         lines = file.readlines()\n",
    "#         line = lines[13]  # Since we count from 0, the 10th line is at index 9\n",
    "#         match = re.search(r'~(\\d+.\\d+) sigma', line)\n",
    "#         if match:\n",
    "#             sigma_levels.append(float(match.group(1)))\n",
    "\n",
    "# pos_or_neg_ind = np.argmax(sigma_levels)\n",
    "# if 'pos' in files_list_temp[pos_or_neg_ind]:\n",
    "#     pos_or_neg = 'pos'\n",
    "# else:\n",
    "#     pos_or_neg = 'neg'\n",
    "\n",
    "# #write values in a text file\n",
    "# with open(f'{output_label}_predictions.txt','w') as file:\n",
    "#     file.write(f'predicted_p_middle[ms]: {p_pred*1000:.10f}\\n')\n",
    "#     file.write(f'predicted_a_magnitude[m/s^2]: {a_pred_abs:.5f}\\n')\n",
    "#     file.write(f'predicted_pdot_magnitude[s/s]: {format(pd_pred_abs, \"e\")}\\n')\n",
    "#     file.write(f'predicted_p_fold_pos_z[ms]: {p_fold_pos_z*1000:.10f}\\n')\n",
    "#     file.write(f'predicted_p_fold_neg_z[ms]: {p_fold_neg_z*1000:.10f}\\n')\n",
    "#     file.write(f'predicted_sigma_levels: {sigma_levels}\\n')\n",
    "#     file.write(f'predicted_pos_or_neg_accel_sign: {pos_or_neg}\\n')\n",
    "#     file.write(f'predicted_f[index]: {f}\\n')\n",
    "#     file.write(f'predicted_z[index]: {z}\\n')\n",
    "#     file.write(f'time_taken[s]: {time.time() - time_start:.5f}\\n')\n",
    "\n",
    "plt.plot(final_chunk)\n",
    "plt.xlabel('Frequency Hz')\n",
    "plt.ylabel('Normalized Power')\n",
    "plt.axvline(f, color='r')\n",
    "plt.axvline(f + z, color='g')\n",
    "plt.axvline(f - z, color='g')\n",
    "#plt.savefig(f'{output_label}_signal_chunk_fft.png')"
   ]
  },
  {
   "cell_type": "code",
   "execution_count": 36,
   "metadata": {},
   "outputs": [],
   "source": [
    "p =  0.02150015\n",
    "f = 1/p\n",
    "#f=900\n",
    "f_ind = f/freq_res"
   ]
  },
  {
   "cell_type": "code",
   "execution_count": 37,
   "metadata": {},
   "outputs": [
    {
     "data": {
      "text/plain": [
       "46.5113034095111"
      ]
     },
     "execution_count": 37,
     "metadata": {},
     "output_type": "execute_result"
    }
   ],
   "source": [
    "f"
   ]
  },
  {
   "cell_type": "code",
   "execution_count": 38,
   "metadata": {},
   "outputs": [
    {
     "data": {
      "text/plain": [
       "99882.26351909174"
      ]
     },
     "execution_count": 38,
     "metadata": {},
     "output_type": "execute_result"
    }
   ],
   "source": [
    "f_ind"
   ]
  },
  {
   "cell_type": "code",
   "execution_count": 44,
   "metadata": {},
   "outputs": [
    {
     "data": {
      "text/plain": [
       "[<matplotlib.lines.Line2D at 0x2b60a2523d30>]"
      ]
     },
     "execution_count": 44,
     "metadata": {},
     "output_type": "execute_result"
    },
    {
     "data": {
      "image/png": "[encoded data removed]",
      "text/plain": [
       "<Figure size 640x480 with 1 Axes>"
      ]
     },
     "metadata": {},
     "output_type": "display_data"
    }
   ],
   "source": [
    "plt.plot(power[int(f_ind-200):int(f_ind+200)])"
   ]
  },
  {
   "cell_type": "code",
   "execution_count": 46,
   "metadata": {},
   "outputs": [
    {
     "data": {
      "text/plain": [
       "array([[0.]], dtype=float32)"
      ]
     },
     "execution_count": 46,
     "metadata": {},
     "output_type": "execute_result"
    }
   ],
   "source": [
    "chunk = power[int(f_ind-200):int(f_ind+200)]\n",
    "model_regressor_f.predict(chunk.reshape(1,400,1))\n",
    "model_regressor_z.predict(chunk.reshape(1,400,1))"
   ]
  },
  {
   "cell_type": "code",
   "execution_count": 29,
   "metadata": {},
   "outputs": [
    {
     "data": {
      "text/plain": [
       "[<matplotlib.lines.Line2D at 0x2b60a22d2970>]"
      ]
     },
     "execution_count": 29,
     "metadata": {},
     "output_type": "execute_result"
    },
    {
     "data": {
      "image/png": "[encoded data removed]",
      "text/plain": [
       "<Figure size 640x480 with 1 Axes>"
      ]
     },
     "metadata": {},
     "output_type": "display_data"
    }
   ],
   "source": [
    "plt.plot(freq_axis,power)"
   ]
  },
  {
   "cell_type": "code",
   "execution_count": 45,
   "metadata": {},
   "outputs": [
    {
     "data": {
      "text/plain": [
       "266887"
      ]
     },
     "execution_count": 45,
     "metadata": {},
     "output_type": "execute_result"
    }
   ],
   "source": [
    "regressor_chunk_start"
   ]
  },
  {
   "cell_type": "code",
   "execution_count": 38,
   "metadata": {},
   "outputs": [
    {
     "data": {
      "text/plain": [
       "89.59428395200294"
      ]
     },
     "execution_count": 38,
     "metadata": {},
     "output_type": "execute_result"
    }
   ],
   "source": [
    "(f_ind - freq_ind_start)/800"
   ]
  },
  {
   "cell_type": "code",
   "execution_count": 36,
   "metadata": {},
   "outputs": [
    {
     "data": {
      "text/plain": [
       "[<matplotlib.lines.Line2D at 0x2af63c09b5e0>]"
      ]
     },
     "execution_count": 36,
     "metadata": {},
     "output_type": "execute_result"
    },
    {
     "data": {
      "image/png": "[encoded data removed]",
      "text/plain": [
       "<Figure size 640x480 with 1 Axes>"
      ]
     },
     "metadata": {},
     "output_type": "display_data"
    }
   ],
   "source": [
    "chunk_f = (power[124300:124300+800]/np.max(power[124300:124300+800])).reshape((1,800,1)).astype(np.float64)\n",
    "plt.plot(chunk_f[0])"
   ]
  },
  {
   "cell_type": "code",
   "execution_count": 37,
   "metadata": {},
   "outputs": [
    {
     "data": {
      "text/plain": [
       "array([1])"
      ]
     },
     "execution_count": 37,
     "metadata": {},
     "output_type": "execute_result"
    }
   ],
   "source": [
    "model_classifier.predict(chunk_f).argmax(axis=1)"
   ]
  },
  {
   "cell_type": "code",
   "execution_count": 21,
   "metadata": {},
   "outputs": [],
   "source": [
    "snrs = np.random.uniform(0.001,0.3,10000)"
   ]
  },
  {
   "cell_type": "code",
   "execution_count": 22,
   "metadata": {},
   "outputs": [
    {
     "data": {
      "text/plain": [
       "(294,)"
      ]
     },
     "execution_count": 22,
     "metadata": {},
     "output_type": "execute_result"
    }
   ],
   "source": [
    "snrs[snrs<0.01].shape"
   ]
  },
  {
   "cell_type": "code",
   "execution_count": 24,
   "metadata": {},
   "outputs": [],
   "source": [
    "import pandas as pd"
   ]
  },
  {
   "cell_type": "code",
   "execution_count": 25,
   "metadata": {},
   "outputs": [],
   "source": [
    "labels_df = pd.read_csv('meta_data/labels_runBC.csv')"
   ]
  },
  {
   "cell_type": "code",
   "execution_count": 28,
   "metadata": {},
   "outputs": [],
   "source": [
    "snr_new = np.random.uniform(0.001,0.01,1000)"
   ]
  },
  {
   "cell_type": "code",
   "execution_count": 29,
   "metadata": {},
   "outputs": [
    {
     "data": {
      "text/plain": [
       "array([0.00958479, 0.00209409, 0.00512283, 0.00795875, 0.00301289,\n",
       "       0.00979674, 0.00548086, 0.00318496, 0.00187665, 0.00650367,\n",
       "       0.00983793, 0.0038155 , 0.00488286, 0.00567692, 0.00655681,\n",
       "       0.00813039, 0.00595487, 0.00843354, 0.00761827, 0.00823743,\n",
       "       0.00166722, 0.00570765, 0.00348583, 0.00804477, 0.00841082,\n",
       "       0.00478594, 0.00720284, 0.00737655, 0.00929945, 0.00866563,\n",
       "       0.00394333, 0.00827038, 0.00422113, 0.00294727, 0.00603288,\n",
       "       0.00120064, 0.00433821, 0.00131891, 0.00787187, 0.00965879,\n",
       "       0.00524739, 0.00435194, 0.00870002, 0.00786966, 0.00719923,\n",
       "       0.00321068, 0.00929521, 0.00638403, 0.00182593, 0.00952511,\n",
       "       0.00571973, 0.00389952, 0.00605335, 0.00725029, 0.00750526,\n",
       "       0.00751965, 0.00153224, 0.00794862, 0.00688927, 0.00863464,\n",
       "       0.00619825, 0.00211758, 0.00356088, 0.00368889, 0.00825703,\n",
       "       0.00480942, 0.00782101, 0.00224535, 0.00121015, 0.00868702,\n",
       "       0.00459876, 0.00808844, 0.00443469, 0.00416017, 0.00705809,\n",
       "       0.00201093, 0.00303071, 0.00157525, 0.0064348 , 0.00169179,\n",
       "       0.0060029 , 0.00306683, 0.00756558, 0.00858689, 0.0069869 ,\n",
       "       0.00317948, 0.00585603, 0.00270679, 0.00338981, 0.0055305 ,\n",
       "       0.00886521, 0.00845093, 0.0084181 , 0.00413029, 0.00456905,\n",
       "       0.00804973, 0.0051919 , 0.00535372, 0.00109957, 0.00781712,\n",
       "       0.00541058, 0.00751356, 0.00613453, 0.0095224 , 0.00568402,\n",
       "       0.00806219, 0.0032361 , 0.00369958, 0.00549954, 0.00971916,\n",
       "       0.00155447, 0.0035733 , 0.00508973, 0.00872633, 0.00836263,\n",
       "       0.00435417, 0.00570643, 0.00531318, 0.00257285, 0.00301339,\n",
       "       0.00820536, 0.0048611 , 0.00585702, 0.0096592 , 0.0042505 ,\n",
       "       0.00778564, 0.00527714, 0.0067336 , 0.00823794, 0.00361399,\n",
       "       0.0067066 , 0.00810391, 0.00745401, 0.00254998, 0.00883758,\n",
       "       0.00671654, 0.00201882, 0.0041205 , 0.00967784, 0.0033929 ,\n",
       "       0.00869824, 0.00578196, 0.00456582, 0.00857161, 0.00416774,\n",
       "       0.00450641, 0.00502099, 0.0086734 , 0.00128088, 0.00216101,\n",
       "       0.00414548, 0.00239557, 0.00348857, 0.00427196, 0.00838723,\n",
       "       0.0053465 , 0.00715264, 0.00969678, 0.00220936, 0.00673115,\n",
       "       0.0096107 , 0.00584001, 0.00667221, 0.00838541, 0.00689481,\n",
       "       0.00151165, 0.00448225, 0.00658347, 0.006418  , 0.00478848,\n",
       "       0.00939839, 0.00938007, 0.00359877, 0.00527829, 0.00912903,\n",
       "       0.00423989, 0.00402731, 0.00524871, 0.00153964, 0.00866684,\n",
       "       0.00909097, 0.00829945, 0.00372271, 0.0033778 , 0.00376735,\n",
       "       0.00923328, 0.00182914, 0.0070478 , 0.00763405, 0.00633079,\n",
       "       0.00670859, 0.00191968, 0.00115414, 0.0052217 , 0.00440477,\n",
       "       0.00228478, 0.00730534, 0.00741486, 0.00675032, 0.00827641,\n",
       "       0.00516475, 0.00882799, 0.00193617, 0.003195  , 0.00429767,\n",
       "       0.00757663, 0.00200149, 0.00796623, 0.00599052, 0.00128295,\n",
       "       0.0065643 , 0.00977582, 0.00518226, 0.00488126, 0.00661501,\n",
       "       0.00703903, 0.00326541, 0.00813919, 0.00218766, 0.00428508,\n",
       "       0.00444036, 0.00943918, 0.00645138, 0.00298808, 0.0074859 ,\n",
       "       0.00578886, 0.00755651, 0.00337301, 0.00277087, 0.00830543,\n",
       "       0.00852013, 0.00724768, 0.00292792, 0.00358361, 0.0027526 ,\n",
       "       0.00137092, 0.0035571 , 0.00233394, 0.00969576, 0.00174668,\n",
       "       0.00669258, 0.00456533, 0.00461536, 0.00472374, 0.00162073,\n",
       "       0.00602027, 0.00610323, 0.00397899, 0.0084079 , 0.0058766 ,\n",
       "       0.00660116, 0.00300258, 0.00748808, 0.00843857, 0.00277616,\n",
       "       0.00818254, 0.00828052, 0.00834951, 0.00294053, 0.0079193 ,\n",
       "       0.00753047, 0.00162644, 0.00320238, 0.00393409, 0.0038771 ,\n",
       "       0.00770087, 0.00762251, 0.00500462, 0.00942077, 0.00380054,\n",
       "       0.00367576, 0.0012461 , 0.00571405, 0.00105478, 0.00634298,\n",
       "       0.00839038, 0.00750171, 0.00385645, 0.00892706, 0.00670273,\n",
       "       0.00131154, 0.00276423, 0.00519143, 0.00702015, 0.00317356,\n",
       "       0.0065646 , 0.00709854, 0.00382123, 0.00880203, 0.00239204,\n",
       "       0.00492267, 0.00525776, 0.0081101 , 0.00703401, 0.00232972,\n",
       "       0.00890106, 0.00497761, 0.00872123, 0.00710156, 0.00316798,\n",
       "       0.00623932, 0.00117252, 0.00560186, 0.00545033, 0.00458042,\n",
       "       0.00227484, 0.00907252, 0.0051326 , 0.00971715, 0.0016806 ,\n",
       "       0.00237283, 0.00615646, 0.00548644, 0.00968647, 0.00462751,\n",
       "       0.00678485, 0.00356395, 0.00928652, 0.00674813, 0.00452642,\n",
       "       0.00131602, 0.00416553, 0.00655456, 0.00433637, 0.00726398,\n",
       "       0.00541235, 0.0059005 , 0.00985781, 0.00127894, 0.00273206,\n",
       "       0.00948105, 0.00979231, 0.00351517, 0.00120259, 0.00305877,\n",
       "       0.00273279, 0.00467705, 0.00860277, 0.0037579 , 0.00725685,\n",
       "       0.00321277, 0.00681475, 0.00881149, 0.00374818, 0.00442288,\n",
       "       0.00441778, 0.00396319, 0.00392183, 0.0038782 , 0.00607952,\n",
       "       0.00281312, 0.00627571, 0.00238278, 0.00334814, 0.00624565,\n",
       "       0.00840912, 0.00608019, 0.00510409, 0.00672082, 0.00193814,\n",
       "       0.00480209, 0.00619563, 0.00779468, 0.00852989, 0.00831909,\n",
       "       0.00882918, 0.00193363, 0.00596229, 0.00704219, 0.0059018 ,\n",
       "       0.00865595, 0.00947046, 0.00782199, 0.00912728, 0.00708912,\n",
       "       0.00655386, 0.00892919, 0.00115696, 0.00859347, 0.00853081,\n",
       "       0.00561733, 0.00622851, 0.00209131, 0.00421803, 0.00739276,\n",
       "       0.00548676, 0.00557322, 0.00138165, 0.0064282 , 0.00693819,\n",
       "       0.00368668, 0.00705692, 0.00995985, 0.00875668, 0.0087809 ,\n",
       "       0.00670164, 0.00845286, 0.00322268, 0.00782991, 0.00993188,\n",
       "       0.00496087, 0.00477923, 0.0011938 , 0.00263043, 0.00779842,\n",
       "       0.00833153, 0.00447427, 0.00799861, 0.00954992, 0.00128662,\n",
       "       0.00745279, 0.00378909, 0.00327179, 0.00896007, 0.00392117,\n",
       "       0.00642128, 0.00842633, 0.00243707, 0.00232465, 0.00735132,\n",
       "       0.00126846, 0.00367003, 0.00944971, 0.00794632, 0.00982046,\n",
       "       0.00479317, 0.00767842, 0.00633785, 0.00608787, 0.00814767,\n",
       "       0.00607385, 0.00673918, 0.00809689, 0.00155998, 0.00565667,\n",
       "       0.00989742, 0.00316369, 0.00648394, 0.00633968, 0.00842648,\n",
       "       0.00348337, 0.00125917, 0.00590198, 0.0058335 , 0.00683562,\n",
       "       0.00732348, 0.00613426, 0.00360939, 0.00598362, 0.0093334 ,\n",
       "       0.00390792, 0.00598936, 0.00890584, 0.0072225 , 0.00822468,\n",
       "       0.00304258, 0.00945873, 0.0087478 , 0.00782902, 0.00220773,\n",
       "       0.00633329, 0.00747856, 0.00415107, 0.00199612, 0.00782711,\n",
       "       0.00691137, 0.00894032, 0.00210785, 0.00861484, 0.00778347,\n",
       "       0.00791984, 0.00780363, 0.00287743, 0.00582822, 0.00790288,\n",
       "       0.00986669, 0.00995512, 0.00329838, 0.00488543, 0.00300657,\n",
       "       0.00562955, 0.0024984 , 0.00401166, 0.0074925 , 0.00561092,\n",
       "       0.00197331, 0.00621189, 0.00833769, 0.00968158, 0.00999621,\n",
       "       0.00909664, 0.00447992, 0.00125274, 0.00540661, 0.0054511 ,\n",
       "       0.00863883, 0.00629483, 0.00201328, 0.00814494, 0.00259602,\n",
       "       0.0010137 , 0.00900956, 0.00904482, 0.00216182, 0.0019945 ,\n",
       "       0.00761179, 0.00609228, 0.00415614, 0.00242658, 0.00195435,\n",
       "       0.00221609, 0.00155278, 0.00344126, 0.00255929, 0.00924453,\n",
       "       0.00128231, 0.00991491, 0.00770476, 0.00824707, 0.00900684,\n",
       "       0.00419448, 0.00255481, 0.00971574, 0.00925492, 0.0018612 ,\n",
       "       0.00183024, 0.00594187, 0.00632962, 0.00993039, 0.00991159,\n",
       "       0.00911489, 0.00333212, 0.00570161, 0.00621273, 0.00136816,\n",
       "       0.00785958, 0.00139119, 0.00315836, 0.00616192, 0.00983776,\n",
       "       0.00741688, 0.00223919, 0.00574949, 0.00126725, 0.0017592 ,\n",
       "       0.0044451 , 0.0066501 , 0.00803272, 0.00239551, 0.00137883,\n",
       "       0.00222736, 0.00416268, 0.00677177, 0.00962212, 0.00613067,\n",
       "       0.00612025, 0.00139978, 0.00680087, 0.00926038, 0.00534439,\n",
       "       0.0067259 , 0.00608849, 0.00262808, 0.0024294 , 0.00531477,\n",
       "       0.00467249, 0.00623012, 0.00791888, 0.00947089, 0.00980476,\n",
       "       0.00237187, 0.00498999, 0.00939791, 0.00955203, 0.00955392,\n",
       "       0.00598025, 0.00414115, 0.00176192, 0.00146573, 0.00464933,\n",
       "       0.00689748, 0.00827752, 0.0047417 , 0.00420273, 0.00259005,\n",
       "       0.00760725, 0.00495391, 0.00970334, 0.00182051, 0.00873273,\n",
       "       0.00313185, 0.00914378, 0.00183356, 0.00560813, 0.00600678,\n",
       "       0.00731364, 0.00981528, 0.00466489, 0.00721153, 0.0042689 ,\n",
       "       0.00660384, 0.00203757, 0.00293188, 0.0022674 , 0.00776396,\n",
       "       0.00369647, 0.00850637, 0.00289408, 0.00379648, 0.00484952,\n",
       "       0.00535066, 0.0018966 , 0.00689632, 0.0033111 , 0.00398208,\n",
       "       0.00778489, 0.00802381, 0.00947579, 0.00423262, 0.00310594,\n",
       "       0.00972901, 0.00409427, 0.00498728, 0.00577711, 0.0054684 ,\n",
       "       0.0037424 , 0.00880532, 0.00497073, 0.00876656, 0.00654177,\n",
       "       0.00528249, 0.00119783, 0.00790061, 0.00583332, 0.00255255,\n",
       "       0.00747647, 0.00867377, 0.00763863, 0.00488266, 0.00278774,\n",
       "       0.00857198, 0.00178819, 0.00872996, 0.00338413, 0.00454981,\n",
       "       0.00309408, 0.00428678, 0.00324895, 0.0046072 , 0.00151772,\n",
       "       0.00546294, 0.00167827, 0.00496339, 0.00979592, 0.001069  ,\n",
       "       0.00646798, 0.00824474, 0.00657885, 0.00346525, 0.00740807,\n",
       "       0.00772873, 0.00907973, 0.00277009, 0.00886556, 0.0072159 ,\n",
       "       0.00838349, 0.00871834, 0.00562266, 0.0062298 , 0.00812261,\n",
       "       0.0018657 , 0.00879795, 0.00651367, 0.00328728, 0.00959261,\n",
       "       0.00244272, 0.00686443, 0.00143475, 0.00707731, 0.00298995,\n",
       "       0.00127183, 0.00489227, 0.00743847, 0.00188382, 0.0083814 ,\n",
       "       0.00734977, 0.00591366, 0.00296421, 0.00356963, 0.00822492,\n",
       "       0.00115161, 0.00797276, 0.00365958, 0.00323577, 0.00589293,\n",
       "       0.00691578, 0.00715727, 0.00954831, 0.00589466, 0.00879757,\n",
       "       0.00903947, 0.00869119, 0.00383456, 0.00234234, 0.00327974,\n",
       "       0.0038797 , 0.00654573, 0.00963362, 0.00769887, 0.00278472,\n",
       "       0.0089382 , 0.00739977, 0.00891292, 0.00256612, 0.00311542,\n",
       "       0.00616174, 0.00474574, 0.00513393, 0.00770253, 0.006098  ,\n",
       "       0.00217585, 0.00716811, 0.0015024 , 0.0051401 , 0.00518149,\n",
       "       0.00822432, 0.00439836, 0.00131948, 0.00818211, 0.00448258,\n",
       "       0.00704036, 0.0070411 , 0.00433615, 0.00271185, 0.00801638,\n",
       "       0.00812871, 0.00615704, 0.00292323, 0.00575108, 0.00384133,\n",
       "       0.00310955, 0.00339093, 0.00742983, 0.00639577, 0.00413039,\n",
       "       0.00939996, 0.00850838, 0.00643826, 0.00409131, 0.00746834,\n",
       "       0.00856365, 0.00904312, 0.00147901, 0.00810782, 0.00348595,\n",
       "       0.00608552, 0.005749  , 0.00535569, 0.00308551, 0.00274714,\n",
       "       0.00904698, 0.00153687, 0.00349564, 0.0095675 , 0.00739299,\n",
       "       0.00732887, 0.0096479 , 0.00422453, 0.00867519, 0.0040855 ,\n",
       "       0.0027821 , 0.00726604, 0.00990239, 0.00708676, 0.0045337 ,\n",
       "       0.00714563, 0.00326741, 0.00706357, 0.00319739, 0.00632133,\n",
       "       0.00586125, 0.00735119, 0.00340318, 0.00122663, 0.00224583,\n",
       "       0.00134794, 0.00481758, 0.00122621, 0.00637207, 0.00510215,\n",
       "       0.00508114, 0.00645158, 0.0072122 , 0.0036636 , 0.00457552,\n",
       "       0.00933649, 0.00393438, 0.00528999, 0.00750542, 0.00180967,\n",
       "       0.0020333 , 0.00318268, 0.00900986, 0.0060236 , 0.00650192,\n",
       "       0.00320459, 0.00519421, 0.00347056, 0.00442485, 0.0077466 ,\n",
       "       0.00170599, 0.00982126, 0.00503614, 0.00287747, 0.00957411,\n",
       "       0.00545715, 0.00492112, 0.00608978, 0.00132715, 0.00464002,\n",
       "       0.00184788, 0.00309915, 0.00154123, 0.00594869, 0.00467199,\n",
       "       0.00360078, 0.006686  , 0.00491315, 0.00361347, 0.00507684,\n",
       "       0.00628727, 0.00395009, 0.00797165, 0.00679415, 0.00172733,\n",
       "       0.00209308, 0.00513845, 0.00261784, 0.00839817, 0.00955875,\n",
       "       0.00399052, 0.00716985, 0.00177632, 0.00577221, 0.00883028,\n",
       "       0.00147892, 0.005017  , 0.00876343, 0.00172819, 0.00579946,\n",
       "       0.0089378 , 0.00191124, 0.00813374, 0.00799885, 0.00528888,\n",
       "       0.00233742, 0.00771089, 0.00690646, 0.00366589, 0.00732375,\n",
       "       0.00153243, 0.00470455, 0.00908168, 0.00509602, 0.00963833,\n",
       "       0.00450556, 0.00101077, 0.00296586, 0.0025766 , 0.00305514,\n",
       "       0.00304912, 0.00879201, 0.00527565, 0.00165926, 0.00175528,\n",
       "       0.00734242, 0.00180463, 0.00216805, 0.00466437, 0.00748262,\n",
       "       0.00487549, 0.00304241, 0.00566698, 0.00645523, 0.00567881,\n",
       "       0.00273648, 0.0099118 , 0.00795941, 0.00244044, 0.00658533,\n",
       "       0.00842578, 0.00711424, 0.00880411, 0.00979091, 0.00112666,\n",
       "       0.00155625, 0.00886479, 0.00266004, 0.00912953, 0.00119259,\n",
       "       0.00352298, 0.00807258, 0.00122127, 0.00502172, 0.00529055,\n",
       "       0.00454014, 0.00558304, 0.00892465, 0.00153424, 0.00324272,\n",
       "       0.0058309 , 0.00957635, 0.00685099, 0.00580295, 0.00837863,\n",
       "       0.00637399, 0.00339189, 0.00684632, 0.00507916, 0.00321924,\n",
       "       0.00276238, 0.00252759, 0.00234528, 0.00231799, 0.00579701,\n",
       "       0.00626983, 0.00298986, 0.00347833, 0.00459204, 0.00503396,\n",
       "       0.00374345, 0.00647784, 0.00599933, 0.00413874, 0.00742448,\n",
       "       0.00804861, 0.00481007, 0.00819485, 0.00272504, 0.00823481,\n",
       "       0.00910475, 0.00594184, 0.00681903, 0.00526802, 0.00666285,\n",
       "       0.00105692, 0.00713259, 0.00472508, 0.00468317, 0.00874048,\n",
       "       0.00240713, 0.00713525, 0.00162287, 0.006358  , 0.00886789,\n",
       "       0.00411762, 0.0065266 , 0.00172407, 0.00632858, 0.00960042,\n",
       "       0.00166752, 0.00428417, 0.00172164, 0.00752897, 0.00617862,\n",
       "       0.00295258, 0.00519617, 0.00187378, 0.00962519, 0.00247632,\n",
       "       0.00295704, 0.00922302, 0.00798137, 0.00466913, 0.00103958,\n",
       "       0.00460625, 0.00562215, 0.00212641, 0.00966248, 0.00859952,\n",
       "       0.0052836 , 0.00536739, 0.00821868, 0.00482165, 0.00593716,\n",
       "       0.0085166 , 0.00301337, 0.00852555, 0.00660419, 0.00723403,\n",
       "       0.00549141, 0.00312525, 0.00444678, 0.00263506, 0.00569764,\n",
       "       0.00547277, 0.00439579, 0.00585036, 0.0052851 , 0.00158812])"
      ]
     },
     "execution_count": 29,
     "metadata": {},
     "output_type": "execute_result"
    }
   ],
   "source": [
    "snr_new"
   ]
  },
  {
   "cell_type": "code",
   "execution_count": 30,
   "metadata": {},
   "outputs": [
    {
     "name": "stderr",
     "output_type": "stream",
     "text": [
      "/tmp/ipykernel_109107/3790898055.py:1: SettingWithCopyWarning: \n",
      "A value is trying to be set on a copy of a slice from a DataFrame\n",
      "\n",
      "See the caveats in the documentation: https://pandas.pydata.org/pandas-docs/stable/user_guide/indexing.html#returning-a-view-versus-a-copy\n",
      "  labels_df['snr'][9000:] = snr_new\n"
     ]
    }
   ],
   "source": [
    "labels_df['snr'][9000:] = snr_new"
   ]
  },
  {
   "cell_type": "code",
   "execution_count": 34,
   "metadata": {},
   "outputs": [
    {
     "data": {
      "text/html": [
       "<div>\n",
       "<style scoped>\n",
       "    .dataframe tbody tr th:only-of-type {\n",
       "        vertical-align: middle;\n",
       "    }\n",
       "\n",
       "    .dataframe tbody tr th {\n",
       "        vertical-align: top;\n",
       "    }\n",
       "\n",
       "    .dataframe thead th {\n",
       "        text-align: right;\n",
       "    }\n",
       "</style>\n",
       "<table border=\"1\" class=\"dataframe\">\n",
       "  <thead>\n",
       "    <tr style=\"text-align: right;\">\n",
       "      <th></th>\n",
       "      <th>period</th>\n",
       "      <th>snr</th>\n",
       "      <th>width</th>\n",
       "      <th>bper</th>\n",
       "      <th>binc</th>\n",
       "      <th>bcmass</th>\n",
       "      <th>bphase</th>\n",
       "      <th>z</th>\n",
       "      <th># ind</th>\n",
       "    </tr>\n",
       "  </thead>\n",
       "  <tbody>\n",
       "    <tr>\n",
       "      <th>0</th>\n",
       "      <td>0.004963</td>\n",
       "      <td>0.084762</td>\n",
       "      <td>11.911100</td>\n",
       "      <td>3.899263</td>\n",
       "      <td>58.517681</td>\n",
       "      <td>1.105296</td>\n",
       "      <td>0.410171</td>\n",
       "      <td>-49.354713</td>\n",
       "      <td>0</td>\n",
       "    </tr>\n",
       "    <tr>\n",
       "      <th>1</th>\n",
       "      <td>0.004484</td>\n",
       "      <td>0.258950</td>\n",
       "      <td>11.435892</td>\n",
       "      <td>5.562145</td>\n",
       "      <td>81.167122</td>\n",
       "      <td>1.058633</td>\n",
       "      <td>0.337352</td>\n",
       "      <td>-49.506432</td>\n",
       "      <td>1</td>\n",
       "    </tr>\n",
       "    <tr>\n",
       "      <th>2</th>\n",
       "      <td>0.005714</td>\n",
       "      <td>0.096731</td>\n",
       "      <td>24.854923</td>\n",
       "      <td>4.234590</td>\n",
       "      <td>84.266563</td>\n",
       "      <td>0.806586</td>\n",
       "      <td>0.284539</td>\n",
       "      <td>-49.457752</td>\n",
       "      <td>2</td>\n",
       "    </tr>\n",
       "    <tr>\n",
       "      <th>3</th>\n",
       "      <td>0.005220</td>\n",
       "      <td>0.047132</td>\n",
       "      <td>22.338499</td>\n",
       "      <td>4.103809</td>\n",
       "      <td>74.751907</td>\n",
       "      <td>0.727284</td>\n",
       "      <td>0.318517</td>\n",
       "      <td>-49.512989</td>\n",
       "      <td>3</td>\n",
       "    </tr>\n",
       "    <tr>\n",
       "      <th>4</th>\n",
       "      <td>0.007977</td>\n",
       "      <td>0.024191</td>\n",
       "      <td>17.529886</td>\n",
       "      <td>3.330099</td>\n",
       "      <td>54.897659</td>\n",
       "      <td>1.175840</td>\n",
       "      <td>0.244681</td>\n",
       "      <td>-49.917084</td>\n",
       "      <td>4</td>\n",
       "    </tr>\n",
       "    <tr>\n",
       "      <th>...</th>\n",
       "      <td>...</td>\n",
       "      <td>...</td>\n",
       "      <td>...</td>\n",
       "      <td>...</td>\n",
       "      <td>...</td>\n",
       "      <td>...</td>\n",
       "      <td>...</td>\n",
       "      <td>...</td>\n",
       "      <td>...</td>\n",
       "    </tr>\n",
       "    <tr>\n",
       "      <th>9995</th>\n",
       "      <td>0.006786</td>\n",
       "      <td>0.005473</td>\n",
       "      <td>17.874699</td>\n",
       "      <td>3.005983</td>\n",
       "      <td>80.471306</td>\n",
       "      <td>0.705039</td>\n",
       "      <td>0.885702</td>\n",
       "      <td>49.976505</td>\n",
       "      <td>9995</td>\n",
       "    </tr>\n",
       "    <tr>\n",
       "      <th>9996</th>\n",
       "      <td>0.008117</td>\n",
       "      <td>0.004396</td>\n",
       "      <td>18.455416</td>\n",
       "      <td>3.772956</td>\n",
       "      <td>83.339203</td>\n",
       "      <td>1.124357</td>\n",
       "      <td>0.748016</td>\n",
       "      <td>49.816051</td>\n",
       "      <td>9996</td>\n",
       "    </tr>\n",
       "    <tr>\n",
       "      <th>9997</th>\n",
       "      <td>0.001104</td>\n",
       "      <td>0.005850</td>\n",
       "      <td>19.211615</td>\n",
       "      <td>13.042443</td>\n",
       "      <td>52.713699</td>\n",
       "      <td>0.972458</td>\n",
       "      <td>0.819785</td>\n",
       "      <td>49.340603</td>\n",
       "      <td>9997</td>\n",
       "    </tr>\n",
       "    <tr>\n",
       "      <th>9998</th>\n",
       "      <td>0.001930</td>\n",
       "      <td>0.005285</td>\n",
       "      <td>17.229296</td>\n",
       "      <td>10.462254</td>\n",
       "      <td>85.428329</td>\n",
       "      <td>0.944561</td>\n",
       "      <td>0.760482</td>\n",
       "      <td>49.726585</td>\n",
       "      <td>9998</td>\n",
       "    </tr>\n",
       "    <tr>\n",
       "      <th>9999</th>\n",
       "      <td>0.003280</td>\n",
       "      <td>0.001588</td>\n",
       "      <td>27.957653</td>\n",
       "      <td>7.078550</td>\n",
       "      <td>74.652939</td>\n",
       "      <td>1.152790</td>\n",
       "      <td>0.700776</td>\n",
       "      <td>49.627869</td>\n",
       "      <td>9999</td>\n",
       "    </tr>\n",
       "  </tbody>\n",
       "</table>\n",
       "<p>10000 rows × 9 columns</p>\n",
       "</div>"
      ],
      "text/plain": [
       "        period       snr      width       bper       binc    bcmass    bphase  \\\n",
       "0     0.004963  0.084762  11.911100   3.899263  58.517681  1.105296  0.410171   \n",
       "1     0.004484  0.258950  11.435892   5.562145  81.167122  1.058633  0.337352   \n",
       "2     0.005714  0.096731  24.854923   4.234590  84.266563  0.806586  0.284539   \n",
       "3     0.005220  0.047132  22.338499   4.103809  74.751907  0.727284  0.318517   \n",
       "4     0.007977  0.024191  17.529886   3.330099  54.897659  1.175840  0.244681   \n",
       "...        ...       ...        ...        ...        ...       ...       ...   \n",
       "9995  0.006786  0.005473  17.874699   3.005983  80.471306  0.705039  0.885702   \n",
       "9996  0.008117  0.004396  18.455416   3.772956  83.339203  1.124357  0.748016   \n",
       "9997  0.001104  0.005850  19.211615  13.042443  52.713699  0.972458  0.819785   \n",
       "9998  0.001930  0.005285  17.229296  10.462254  85.428329  0.944561  0.760482   \n",
       "9999  0.003280  0.001588  27.957653   7.078550  74.652939  1.152790  0.700776   \n",
       "\n",
       "              z  # ind  \n",
       "0    -49.354713      0  \n",
       "1    -49.506432      1  \n",
       "2    -49.457752      2  \n",
       "3    -49.512989      3  \n",
       "4    -49.917084      4  \n",
       "...         ...    ...  \n",
       "9995  49.976505   9995  \n",
       "9996  49.816051   9996  \n",
       "9997  49.340603   9997  \n",
       "9998  49.726585   9998  \n",
       "9999  49.627869   9999  \n",
       "\n",
       "[10000 rows x 9 columns]"
      ]
     },
     "execution_count": 34,
     "metadata": {},
     "output_type": "execute_result"
    }
   ],
   "source": [
    "labels_df"
   ]
  },
  {
   "cell_type": "code",
   "execution_count": null,
   "metadata": {},
   "outputs": [],
   "source": []
  }
 ],
 "metadata": {
  "kernelspec": {
   "display_name": "tf-gpu4",
   "language": "python",
   "name": "python3"
  },
  "language_info": {
   "codemirror_mode": {
    "name": "ipython",
    "version": 3
   },
   "file_extension": ".py",
   "mimetype": "text/x-python",
   "name": "python",
   "nbconvert_exporter": "python",
   "pygments_lexer": "ipython3",
   "version": "3.8.0"
  },
  "orig_nbformat": 4
 },
 "nbformat": 4,
 "nbformat_minor": 2
}
